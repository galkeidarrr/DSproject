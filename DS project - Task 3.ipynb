{
 "cells": [
  {
   "cell_type": "markdown",
   "metadata": {},
   "source": [
    "# Data Sience Project - Task 3  "
   ]
  },
  {
   "cell_type": "code",
   "execution_count": 3,
   "metadata": {},
   "outputs": [],
   "source": [
    "import pandas as pd\n",
    "from pandas import DataFrame\n",
    "from sklearn import preprocessing\n",
    "import numpy as np\n",
    "from scipy.cluster.hierarchy import linkage, dendrogram, fcluster\n",
    "import matplotlib.pyplot as plt\n",
    "from itertools import islice"
   ]
  },
  {
   "cell_type": "markdown",
   "metadata": {},
   "source": [
    "#### Reading from csv to dataframe"
   ]
  },
  {
   "cell_type": "code",
   "execution_count": 38,
   "metadata": {},
   "outputs": [],
   "source": [
    "df = pd.read_csv('hotels_data.csv')"
   ]
  },
  {
   "cell_type": "code",
   "execution_count": 39,
   "metadata": {},
   "outputs": [
    {
     "data": {
      "text/html": [
       "<div>\n",
       "<style scoped>\n",
       "    .dataframe tbody tr th:only-of-type {\n",
       "        vertical-align: middle;\n",
       "    }\n",
       "\n",
       "    .dataframe tbody tr th {\n",
       "        vertical-align: top;\n",
       "    }\n",
       "\n",
       "    .dataframe thead th {\n",
       "        text-align: right;\n",
       "    }\n",
       "</style>\n",
       "<table border=\"1\" class=\"dataframe\">\n",
       "  <thead>\n",
       "    <tr style=\"text-align: right;\">\n",
       "      <th></th>\n",
       "      <th>Snapshot ID</th>\n",
       "      <th>Snapshot Date</th>\n",
       "      <th>Checkin Date</th>\n",
       "      <th>Days</th>\n",
       "      <th>Original Price</th>\n",
       "      <th>Discount Price</th>\n",
       "      <th>Discount Code</th>\n",
       "      <th>Available Rooms</th>\n",
       "      <th>Hotel Name</th>\n",
       "      <th>Hotel Stars</th>\n",
       "    </tr>\n",
       "  </thead>\n",
       "  <tbody>\n",
       "    <tr>\n",
       "      <th>0</th>\n",
       "      <td>1</td>\n",
       "      <td>7/17/2015 0:00</td>\n",
       "      <td>8/12/2015 0:00</td>\n",
       "      <td>5</td>\n",
       "      <td>1178</td>\n",
       "      <td>1040</td>\n",
       "      <td>1</td>\n",
       "      <td>6</td>\n",
       "      <td>Best Western Plus Seaport Inn Downtown</td>\n",
       "      <td>3</td>\n",
       "    </tr>\n",
       "    <tr>\n",
       "      <th>1</th>\n",
       "      <td>1</td>\n",
       "      <td>7/17/2015 0:00</td>\n",
       "      <td>8/19/2015 0:00</td>\n",
       "      <td>5</td>\n",
       "      <td>1113</td>\n",
       "      <td>982</td>\n",
       "      <td>1</td>\n",
       "      <td>8</td>\n",
       "      <td>Best Western Plus Seaport Inn Downtown</td>\n",
       "      <td>3</td>\n",
       "    </tr>\n",
       "    <tr>\n",
       "      <th>2</th>\n",
       "      <td>1</td>\n",
       "      <td>7/17/2015 0:00</td>\n",
       "      <td>8/13/2015 0:00</td>\n",
       "      <td>5</td>\n",
       "      <td>4370</td>\n",
       "      <td>4240</td>\n",
       "      <td>1</td>\n",
       "      <td>3</td>\n",
       "      <td>The Peninsula New York</td>\n",
       "      <td>5</td>\n",
       "    </tr>\n",
       "    <tr>\n",
       "      <th>3</th>\n",
       "      <td>1</td>\n",
       "      <td>7/17/2015 0:00</td>\n",
       "      <td>7/26/2015 0:00</td>\n",
       "      <td>5</td>\n",
       "      <td>1739</td>\n",
       "      <td>1667</td>\n",
       "      <td>1</td>\n",
       "      <td>18</td>\n",
       "      <td>Eventi Hotel a Kimpton Hotel</td>\n",
       "      <td>4</td>\n",
       "    </tr>\n",
       "    <tr>\n",
       "      <th>4</th>\n",
       "      <td>1</td>\n",
       "      <td>7/17/2015 0:00</td>\n",
       "      <td>8/12/2015 0:00</td>\n",
       "      <td>5</td>\n",
       "      <td>1739</td>\n",
       "      <td>1672</td>\n",
       "      <td>1</td>\n",
       "      <td>3</td>\n",
       "      <td>Eventi Hotel a Kimpton Hotel</td>\n",
       "      <td>4</td>\n",
       "    </tr>\n",
       "  </tbody>\n",
       "</table>\n",
       "</div>"
      ],
      "text/plain": [
       "   Snapshot ID   Snapshot Date    Checkin Date  Days  Original Price  \\\n",
       "0            1  7/17/2015 0:00  8/12/2015 0:00     5            1178   \n",
       "1            1  7/17/2015 0:00  8/19/2015 0:00     5            1113   \n",
       "2            1  7/17/2015 0:00  8/13/2015 0:00     5            4370   \n",
       "3            1  7/17/2015 0:00  7/26/2015 0:00     5            1739   \n",
       "4            1  7/17/2015 0:00  8/12/2015 0:00     5            1739   \n",
       "\n",
       "   Discount Price  Discount Code  Available Rooms  \\\n",
       "0            1040              1                6   \n",
       "1             982              1                8   \n",
       "2            4240              1                3   \n",
       "3            1667              1               18   \n",
       "4            1672              1                3   \n",
       "\n",
       "                               Hotel Name  Hotel Stars  \n",
       "0  Best Western Plus Seaport Inn Downtown            3  \n",
       "1  Best Western Plus Seaport Inn Downtown            3  \n",
       "2                  The Peninsula New York            5  \n",
       "3            Eventi Hotel a Kimpton Hotel            4  \n",
       "4            Eventi Hotel a Kimpton Hotel            4  "
      ]
     },
     "execution_count": 39,
     "metadata": {},
     "output_type": "execute_result"
    }
   ],
   "source": [
    "df.head()"
   ]
  },
  {
   "cell_type": "markdown",
   "metadata": {},
   "source": [
    "## 2.a"
   ]
  },
  {
   "cell_type": "markdown",
   "metadata": {},
   "source": [
    "#### Get the 150 hotels with maximum records"
   ]
  },
  {
   "cell_type": "code",
   "execution_count": 40,
   "metadata": {},
   "outputs": [],
   "source": [
    "groupedTopHotels = df.groupby(['Hotel Name']).size().reset_index(name='counts').sort_values('counts', ascending=False).head(150)"
   ]
  },
  {
   "cell_type": "code",
   "execution_count": 41,
   "metadata": {},
   "outputs": [
    {
     "data": {
      "text/html": [
       "<div>\n",
       "<style scoped>\n",
       "    .dataframe tbody tr th:only-of-type {\n",
       "        vertical-align: middle;\n",
       "    }\n",
       "\n",
       "    .dataframe tbody tr th {\n",
       "        vertical-align: top;\n",
       "    }\n",
       "\n",
       "    .dataframe thead th {\n",
       "        text-align: right;\n",
       "    }\n",
       "</style>\n",
       "<table border=\"1\" class=\"dataframe\">\n",
       "  <thead>\n",
       "    <tr style=\"text-align: right;\">\n",
       "      <th></th>\n",
       "      <th>Hotel Name</th>\n",
       "      <th>counts</th>\n",
       "    </tr>\n",
       "  </thead>\n",
       "  <tbody>\n",
       "    <tr>\n",
       "      <th>327</th>\n",
       "      <td>Newark Liberty International Airport Marriott</td>\n",
       "      <td>5346</td>\n",
       "    </tr>\n",
       "    <tr>\n",
       "      <th>194</th>\n",
       "      <td>Hilton Garden Inn Times Square</td>\n",
       "      <td>4892</td>\n",
       "    </tr>\n",
       "    <tr>\n",
       "      <th>374</th>\n",
       "      <td>Residence Inn Newark Elizabeth Liberty Interna...</td>\n",
       "      <td>4314</td>\n",
       "    </tr>\n",
       "    <tr>\n",
       "      <th>538</th>\n",
       "      <td>Westin New York at Times Square</td>\n",
       "      <td>3792</td>\n",
       "    </tr>\n",
       "    <tr>\n",
       "      <th>290</th>\n",
       "      <td>Loews Regency New York Hotel</td>\n",
       "      <td>3617</td>\n",
       "    </tr>\n",
       "  </tbody>\n",
       "</table>\n",
       "</div>"
      ],
      "text/plain": [
       "                                            Hotel Name  counts\n",
       "327      Newark Liberty International Airport Marriott    5346\n",
       "194                     Hilton Garden Inn Times Square    4892\n",
       "374  Residence Inn Newark Elizabeth Liberty Interna...    4314\n",
       "538                    Westin New York at Times Square    3792\n",
       "290                       Loews Regency New York Hotel    3617"
      ]
     },
     "execution_count": 41,
     "metadata": {},
     "output_type": "execute_result"
    }
   ],
   "source": [
    "groupedTopHotels.head()"
   ]
  },
  {
   "cell_type": "code",
   "execution_count": 42,
   "metadata": {},
   "outputs": [
    {
     "data": {
      "text/plain": [
       "Hotel Name    150\n",
       "counts        150\n",
       "dtype: int64"
      ]
     },
     "execution_count": 42,
     "metadata": {},
     "output_type": "execute_result"
    }
   ],
   "source": [
    "groupedTopHotels.count()"
   ]
  },
  {
   "cell_type": "markdown",
   "metadata": {},
   "source": [
    "#### Let's just take data from these hotels"
   ]
  },
  {
   "cell_type": "code",
   "execution_count": 43,
   "metadata": {},
   "outputs": [],
   "source": [
    "df = df[df['Hotel Name'].isin(groupedTopHotels['Hotel Name'])]"
   ]
  },
  {
   "cell_type": "markdown",
   "metadata": {},
   "source": [
    "## 2.b"
   ]
  },
  {
   "cell_type": "markdown",
   "metadata": {},
   "source": [
    "#### Get the 40 checkin dates with maximum records"
   ]
  },
  {
   "cell_type": "code",
   "execution_count": 44,
   "metadata": {},
   "outputs": [],
   "source": [
    "\n",
    "groupedTopDates = df.groupby(['Checkin Date']).size().reset_index(name='counts').sort_values('counts', ascending=False).head(40)"
   ]
  },
  {
   "cell_type": "code",
   "execution_count": 45,
   "metadata": {},
   "outputs": [
    {
     "data": {
      "text/html": [
       "<div>\n",
       "<style scoped>\n",
       "    .dataframe tbody tr th:only-of-type {\n",
       "        vertical-align: middle;\n",
       "    }\n",
       "\n",
       "    .dataframe tbody tr th {\n",
       "        vertical-align: top;\n",
       "    }\n",
       "\n",
       "    .dataframe thead th {\n",
       "        text-align: right;\n",
       "    }\n",
       "</style>\n",
       "<table border=\"1\" class=\"dataframe\">\n",
       "  <thead>\n",
       "    <tr style=\"text-align: right;\">\n",
       "      <th></th>\n",
       "      <th>Checkin Date</th>\n",
       "      <th>counts</th>\n",
       "    </tr>\n",
       "  </thead>\n",
       "  <tbody>\n",
       "    <tr>\n",
       "      <th>64</th>\n",
       "      <td>11/11/2015 0:00</td>\n",
       "      <td>2302</td>\n",
       "    </tr>\n",
       "    <tr>\n",
       "      <th>36</th>\n",
       "      <td>10/14/2015 0:00</td>\n",
       "      <td>1887</td>\n",
       "    </tr>\n",
       "    <tr>\n",
       "      <th>86</th>\n",
       "      <td>11/4/2015 0:00</td>\n",
       "      <td>1885</td>\n",
       "    </tr>\n",
       "    <tr>\n",
       "      <th>151</th>\n",
       "      <td>8/19/2015 0:00</td>\n",
       "      <td>1883</td>\n",
       "    </tr>\n",
       "    <tr>\n",
       "      <th>51</th>\n",
       "      <td>10/28/2015 0:00</td>\n",
       "      <td>1861</td>\n",
       "    </tr>\n",
       "  </tbody>\n",
       "</table>\n",
       "</div>"
      ],
      "text/plain": [
       "        Checkin Date  counts\n",
       "64   11/11/2015 0:00    2302\n",
       "36   10/14/2015 0:00    1887\n",
       "86    11/4/2015 0:00    1885\n",
       "151   8/19/2015 0:00    1883\n",
       "51   10/28/2015 0:00    1861"
      ]
     },
     "execution_count": 45,
     "metadata": {},
     "output_type": "execute_result"
    }
   ],
   "source": [
    "groupedTopDates.head()"
   ]
  },
  {
   "cell_type": "code",
   "execution_count": 46,
   "metadata": {},
   "outputs": [
    {
     "data": {
      "text/plain": [
       "Checkin Date    40\n",
       "counts          40\n",
       "dtype: int64"
      ]
     },
     "execution_count": 46,
     "metadata": {},
     "output_type": "execute_result"
    }
   ],
   "source": [
    "groupedTopDates.count()"
   ]
  },
  {
   "cell_type": "markdown",
   "metadata": {},
   "source": [
    "#### Let's just take the data for those dates"
   ]
  },
  {
   "cell_type": "code",
   "execution_count": 47,
   "metadata": {},
   "outputs": [],
   "source": [
    "df = df[df['Checkin Date'].isin(groupedTopDates['Checkin Date'])]"
   ]
  },
  {
   "cell_type": "code",
   "execution_count": 48,
   "metadata": {},
   "outputs": [
    {
     "data": {
      "text/html": [
       "<div>\n",
       "<style scoped>\n",
       "    .dataframe tbody tr th:only-of-type {\n",
       "        vertical-align: middle;\n",
       "    }\n",
       "\n",
       "    .dataframe tbody tr th {\n",
       "        vertical-align: top;\n",
       "    }\n",
       "\n",
       "    .dataframe thead th {\n",
       "        text-align: right;\n",
       "    }\n",
       "</style>\n",
       "<table border=\"1\" class=\"dataframe\">\n",
       "  <thead>\n",
       "    <tr style=\"text-align: right;\">\n",
       "      <th></th>\n",
       "      <th>Snapshot ID</th>\n",
       "      <th>Snapshot Date</th>\n",
       "      <th>Checkin Date</th>\n",
       "      <th>Days</th>\n",
       "      <th>Original Price</th>\n",
       "      <th>Discount Price</th>\n",
       "      <th>Discount Code</th>\n",
       "      <th>Available Rooms</th>\n",
       "      <th>Hotel Name</th>\n",
       "      <th>Hotel Stars</th>\n",
       "    </tr>\n",
       "  </thead>\n",
       "  <tbody>\n",
       "    <tr>\n",
       "      <th>2</th>\n",
       "      <td>1</td>\n",
       "      <td>7/17/2015 0:00</td>\n",
       "      <td>8/13/2015 0:00</td>\n",
       "      <td>5</td>\n",
       "      <td>4370</td>\n",
       "      <td>4240</td>\n",
       "      <td>1</td>\n",
       "      <td>3</td>\n",
       "      <td>The Peninsula New York</td>\n",
       "      <td>5</td>\n",
       "    </tr>\n",
       "    <tr>\n",
       "      <th>4</th>\n",
       "      <td>1</td>\n",
       "      <td>7/17/2015 0:00</td>\n",
       "      <td>8/12/2015 0:00</td>\n",
       "      <td>5</td>\n",
       "      <td>1739</td>\n",
       "      <td>1672</td>\n",
       "      <td>1</td>\n",
       "      <td>3</td>\n",
       "      <td>Eventi Hotel a Kimpton Hotel</td>\n",
       "      <td>4</td>\n",
       "    </tr>\n",
       "    <tr>\n",
       "      <th>7</th>\n",
       "      <td>1</td>\n",
       "      <td>7/17/2015 0:00</td>\n",
       "      <td>8/12/2015 0:00</td>\n",
       "      <td>5</td>\n",
       "      <td>1256</td>\n",
       "      <td>1183</td>\n",
       "      <td>1</td>\n",
       "      <td>5</td>\n",
       "      <td>Grand Hyatt New York</td>\n",
       "      <td>4</td>\n",
       "    </tr>\n",
       "    <tr>\n",
       "      <th>8</th>\n",
       "      <td>1</td>\n",
       "      <td>7/17/2015 0:00</td>\n",
       "      <td>8/13/2015 0:00</td>\n",
       "      <td>5</td>\n",
       "      <td>1256</td>\n",
       "      <td>1201</td>\n",
       "      <td>1</td>\n",
       "      <td>54</td>\n",
       "      <td>Grand Hyatt New York</td>\n",
       "      <td>4</td>\n",
       "    </tr>\n",
       "    <tr>\n",
       "      <th>29</th>\n",
       "      <td>1</td>\n",
       "      <td>7/17/2015 0:00</td>\n",
       "      <td>8/12/2015 0:00</td>\n",
       "      <td>5</td>\n",
       "      <td>3763</td>\n",
       "      <td>3378</td>\n",
       "      <td>1</td>\n",
       "      <td>39</td>\n",
       "      <td>Park Hyatt New York</td>\n",
       "      <td>5</td>\n",
       "    </tr>\n",
       "  </tbody>\n",
       "</table>\n",
       "</div>"
      ],
      "text/plain": [
       "    Snapshot ID   Snapshot Date    Checkin Date  Days  Original Price  \\\n",
       "2             1  7/17/2015 0:00  8/13/2015 0:00     5            4370   \n",
       "4             1  7/17/2015 0:00  8/12/2015 0:00     5            1739   \n",
       "7             1  7/17/2015 0:00  8/12/2015 0:00     5            1256   \n",
       "8             1  7/17/2015 0:00  8/13/2015 0:00     5            1256   \n",
       "29            1  7/17/2015 0:00  8/12/2015 0:00     5            3763   \n",
       "\n",
       "    Discount Price  Discount Code  Available Rooms  \\\n",
       "2             4240              1                3   \n",
       "4             1672              1                3   \n",
       "7             1183              1                5   \n",
       "8             1201              1               54   \n",
       "29            3378              1               39   \n",
       "\n",
       "                      Hotel Name  Hotel Stars  \n",
       "2         The Peninsula New York            5  \n",
       "4   Eventi Hotel a Kimpton Hotel            4  \n",
       "7           Grand Hyatt New York            4  \n",
       "8           Grand Hyatt New York            4  \n",
       "29           Park Hyatt New York            5  "
      ]
     },
     "execution_count": 48,
     "metadata": {},
     "output_type": "execute_result"
    }
   ],
   "source": [
    "df.head()"
   ]
  },
  {
   "cell_type": "markdown",
   "metadata": {},
   "source": [
    "## 2.c"
   ]
  },
  {
   "cell_type": "markdown",
   "metadata": {},
   "source": [
    "#### For each Checkin date for a particular hotel we will take the lowest price (after discount) of all the snapshots of this hotel for that date Checkin (among different snapshot dates)"
   ]
  },
  {
   "cell_type": "code",
   "execution_count": 49,
   "metadata": {},
   "outputs": [],
   "source": [
    "grouped_df =df.groupby(['Hotel Name','Checkin Date','Discount Code']).agg({'Discount Price': 'min'})"
   ]
  },
  {
   "cell_type": "markdown",
   "metadata": {},
   "source": [
    "#### Data not found on specific dates for the specific hotel - We'll mark them as -1"
   ]
  },
  {
   "cell_type": "code",
   "execution_count": 50,
   "metadata": {
    "scrolled": false
   },
   "outputs": [
    {
     "data": {
      "text/html": [
       "<div>\n",
       "<style scoped>\n",
       "    .dataframe tbody tr th:only-of-type {\n",
       "        vertical-align: middle;\n",
       "    }\n",
       "\n",
       "    .dataframe tbody tr th {\n",
       "        vertical-align: top;\n",
       "    }\n",
       "\n",
       "    .dataframe thead tr th {\n",
       "        text-align: left;\n",
       "    }\n",
       "</style>\n",
       "<table border=\"1\" class=\"dataframe\">\n",
       "  <thead>\n",
       "    <tr>\n",
       "      <th></th>\n",
       "      <th>Hotel Name</th>\n",
       "      <th colspan=\"20\" halign=\"left\">Discount Price</th>\n",
       "    </tr>\n",
       "    <tr>\n",
       "      <th>Discount Code</th>\n",
       "      <th></th>\n",
       "      <th colspan=\"9\" halign=\"left\">1</th>\n",
       "      <th>...</th>\n",
       "      <th colspan=\"10\" halign=\"left\">4</th>\n",
       "    </tr>\n",
       "    <tr>\n",
       "      <th>Checkin Date</th>\n",
       "      <th></th>\n",
       "      <th>10/1/2015 0:00</th>\n",
       "      <th>10/14/2015 0:00</th>\n",
       "      <th>10/15/2015 0:00</th>\n",
       "      <th>10/16/2015 0:00</th>\n",
       "      <th>10/2/2015 0:00</th>\n",
       "      <th>10/21/2015 0:00</th>\n",
       "      <th>10/22/2015 0:00</th>\n",
       "      <th>10/27/2015 0:00</th>\n",
       "      <th>10/28/2015 0:00</th>\n",
       "      <th>...</th>\n",
       "      <th>8/26/2015 0:00</th>\n",
       "      <th>8/27/2015 0:00</th>\n",
       "      <th>8/28/2015 0:00</th>\n",
       "      <th>9/10/2015 0:00</th>\n",
       "      <th>9/11/2015 0:00</th>\n",
       "      <th>9/16/2015 0:00</th>\n",
       "      <th>9/17/2015 0:00</th>\n",
       "      <th>9/18/2015 0:00</th>\n",
       "      <th>9/30/2015 0:00</th>\n",
       "      <th>9/9/2015 0:00</th>\n",
       "    </tr>\n",
       "  </thead>\n",
       "  <tbody>\n",
       "    <tr>\n",
       "      <th>0</th>\n",
       "      <td>Aloft Harlem</td>\n",
       "      <td>-1</td>\n",
       "      <td>1381</td>\n",
       "      <td>-1</td>\n",
       "      <td>-1</td>\n",
       "      <td>-1</td>\n",
       "      <td>1175</td>\n",
       "      <td>-1</td>\n",
       "      <td>-1</td>\n",
       "      <td>1537</td>\n",
       "      <td>...</td>\n",
       "      <td>-1</td>\n",
       "      <td>-1</td>\n",
       "      <td>988</td>\n",
       "      <td>1065</td>\n",
       "      <td>-1</td>\n",
       "      <td>-1</td>\n",
       "      <td>-1</td>\n",
       "      <td>-1</td>\n",
       "      <td>-1</td>\n",
       "      <td>-1</td>\n",
       "    </tr>\n",
       "    <tr>\n",
       "      <th>1</th>\n",
       "      <td>Andaz 5th Avenue - a concept by Hyatt</td>\n",
       "      <td>2185</td>\n",
       "      <td>-1</td>\n",
       "      <td>2495</td>\n",
       "      <td>2195</td>\n",
       "      <td>2145</td>\n",
       "      <td>-1</td>\n",
       "      <td>2066</td>\n",
       "      <td>-1</td>\n",
       "      <td>2116</td>\n",
       "      <td>...</td>\n",
       "      <td>-1</td>\n",
       "      <td>-1</td>\n",
       "      <td>-1</td>\n",
       "      <td>-1</td>\n",
       "      <td>-1</td>\n",
       "      <td>2750</td>\n",
       "      <td>2885</td>\n",
       "      <td>2026</td>\n",
       "      <td>-1</td>\n",
       "      <td>-1</td>\n",
       "    </tr>\n",
       "    <tr>\n",
       "      <th>2</th>\n",
       "      <td>Andaz Wall Street - a concept by Hyatt</td>\n",
       "      <td>-1</td>\n",
       "      <td>1625</td>\n",
       "      <td>-1</td>\n",
       "      <td>-1</td>\n",
       "      <td>-1</td>\n",
       "      <td>1925</td>\n",
       "      <td>1750</td>\n",
       "      <td>-1</td>\n",
       "      <td>1670</td>\n",
       "      <td>...</td>\n",
       "      <td>-1</td>\n",
       "      <td>-1</td>\n",
       "      <td>-1</td>\n",
       "      <td>1665</td>\n",
       "      <td>-1</td>\n",
       "      <td>-1</td>\n",
       "      <td>-1</td>\n",
       "      <td>1855</td>\n",
       "      <td>2710</td>\n",
       "      <td>-1</td>\n",
       "    </tr>\n",
       "    <tr>\n",
       "      <th>3</th>\n",
       "      <td>Baccarat Hotel and Residences New York</td>\n",
       "      <td>-1</td>\n",
       "      <td>-1</td>\n",
       "      <td>-1</td>\n",
       "      <td>-1</td>\n",
       "      <td>-1</td>\n",
       "      <td>-1</td>\n",
       "      <td>-1</td>\n",
       "      <td>-1</td>\n",
       "      <td>-1</td>\n",
       "      <td>...</td>\n",
       "      <td>-1</td>\n",
       "      <td>-1</td>\n",
       "      <td>-1</td>\n",
       "      <td>-1</td>\n",
       "      <td>-1</td>\n",
       "      <td>-1</td>\n",
       "      <td>-1</td>\n",
       "      <td>-1</td>\n",
       "      <td>-1</td>\n",
       "      <td>-1</td>\n",
       "    </tr>\n",
       "    <tr>\n",
       "      <th>4</th>\n",
       "      <td>Bentley Hotel</td>\n",
       "      <td>-1</td>\n",
       "      <td>-1</td>\n",
       "      <td>-1</td>\n",
       "      <td>-1</td>\n",
       "      <td>-1</td>\n",
       "      <td>1405</td>\n",
       "      <td>-1</td>\n",
       "      <td>-1</td>\n",
       "      <td>-1</td>\n",
       "      <td>...</td>\n",
       "      <td>-1</td>\n",
       "      <td>-1</td>\n",
       "      <td>-1</td>\n",
       "      <td>-1</td>\n",
       "      <td>-1</td>\n",
       "      <td>-1</td>\n",
       "      <td>-1</td>\n",
       "      <td>-1</td>\n",
       "      <td>-1</td>\n",
       "      <td>-1</td>\n",
       "    </tr>\n",
       "  </tbody>\n",
       "</table>\n",
       "<p>5 rows × 161 columns</p>\n",
       "</div>"
      ],
      "text/plain": [
       "                                           Hotel Name Discount Price  \\\n",
       "Discount Code                                                      1   \n",
       "Checkin Date                                          10/1/2015 0:00   \n",
       "0                                        Aloft Harlem             -1   \n",
       "1               Andaz 5th Avenue - a concept by Hyatt           2185   \n",
       "2              Andaz Wall Street - a concept by Hyatt             -1   \n",
       "3              Baccarat Hotel and Residences New York             -1   \n",
       "4                                       Bentley Hotel             -1   \n",
       "\n",
       "                                                                              \\\n",
       "Discount Code                                                                  \n",
       "Checkin Date  10/14/2015 0:00 10/15/2015 0:00 10/16/2015 0:00 10/2/2015 0:00   \n",
       "0                        1381              -1              -1             -1   \n",
       "1                          -1            2495            2195           2145   \n",
       "2                        1625              -1              -1             -1   \n",
       "3                          -1              -1              -1             -1   \n",
       "4                          -1              -1              -1             -1   \n",
       "\n",
       "                                                                               \\\n",
       "Discount Code                                                                   \n",
       "Checkin Date  10/21/2015 0:00 10/22/2015 0:00 10/27/2015 0:00 10/28/2015 0:00   \n",
       "0                        1175              -1              -1            1537   \n",
       "1                          -1            2066              -1            2116   \n",
       "2                        1925            1750              -1            1670   \n",
       "3                          -1              -1              -1              -1   \n",
       "4                        1405              -1              -1              -1   \n",
       "\n",
       "                   ...                                                    \\\n",
       "Discount Code      ...                   4                                 \n",
       "Checkin Date       ...      8/26/2015 0:00 8/27/2015 0:00 8/28/2015 0:00   \n",
       "0                  ...                  -1             -1            988   \n",
       "1                  ...                  -1             -1             -1   \n",
       "2                  ...                  -1             -1             -1   \n",
       "3                  ...                  -1             -1             -1   \n",
       "4                  ...                  -1             -1             -1   \n",
       "\n",
       "                                                                           \\\n",
       "Discount Code                                                               \n",
       "Checkin Date  9/10/2015 0:00 9/11/2015 0:00 9/16/2015 0:00 9/17/2015 0:00   \n",
       "0                       1065             -1             -1             -1   \n",
       "1                         -1             -1           2750           2885   \n",
       "2                       1665             -1             -1             -1   \n",
       "3                         -1             -1             -1             -1   \n",
       "4                         -1             -1             -1             -1   \n",
       "\n",
       "                                                           \n",
       "Discount Code                                              \n",
       "Checkin Date  9/18/2015 0:00 9/30/2015 0:00 9/9/2015 0:00  \n",
       "0                         -1             -1            -1  \n",
       "1                       2026             -1            -1  \n",
       "2                       1855           2710            -1  \n",
       "3                         -1             -1            -1  \n",
       "4                         -1             -1            -1  \n",
       "\n",
       "[5 rows x 161 columns]"
      ]
     },
     "execution_count": 50,
     "metadata": {},
     "output_type": "execute_result"
    }
   ],
   "source": [
    "# unstack data to get hotel and its 160 discount prices (40 checking dates * 4 Discount codes)\n",
    "reduced_df = grouped_df.unstack(fill_value=-1).unstack(fill_value=-1).reset_index()\n",
    "reduced_df.head()"
   ]
  },
  {
   "cell_type": "code",
   "execution_count": 51,
   "metadata": {},
   "outputs": [
    {
     "data": {
      "text/plain": [
       "149"
      ]
     },
     "execution_count": 51,
     "metadata": {},
     "output_type": "execute_result"
    }
   ],
   "source": [
    "reduced_df['Hotel Name'].count()"
   ]
  },
  {
   "cell_type": "markdown",
   "metadata": {},
   "source": [
    "#### Find the hotels without records (in the top recorded dates) - ^ is XOR"
   ]
  },
  {
   "cell_type": "code",
   "execution_count": 52,
   "metadata": {},
   "outputs": [],
   "source": [
    "hotelsWithoutRecords = set(groupedTopHotels['Hotel Name']) ^ set(reduced_df['Hotel Name'])"
   ]
  },
  {
   "cell_type": "markdown",
   "metadata": {},
   "source": [
    "#### Add missing Hotel rows"
   ]
  },
  {
   "cell_type": "code",
   "execution_count": 53,
   "metadata": {},
   "outputs": [
    {
     "name": "stdout",
     "output_type": "stream",
     "text": [
      "Embassy Suites Newark Airport\n"
     ]
    },
    {
     "data": {
      "text/html": [
       "<div>\n",
       "<style scoped>\n",
       "    .dataframe tbody tr th:only-of-type {\n",
       "        vertical-align: middle;\n",
       "    }\n",
       "\n",
       "    .dataframe tbody tr th {\n",
       "        vertical-align: top;\n",
       "    }\n",
       "\n",
       "    .dataframe thead tr th {\n",
       "        text-align: left;\n",
       "    }\n",
       "</style>\n",
       "<table border=\"1\" class=\"dataframe\">\n",
       "  <thead>\n",
       "    <tr>\n",
       "      <th></th>\n",
       "      <th>Hotel Name</th>\n",
       "      <th colspan=\"20\" halign=\"left\">Discount Price</th>\n",
       "    </tr>\n",
       "    <tr>\n",
       "      <th>Discount Code</th>\n",
       "      <th></th>\n",
       "      <th colspan=\"9\" halign=\"left\">1</th>\n",
       "      <th>...</th>\n",
       "      <th colspan=\"10\" halign=\"left\">4</th>\n",
       "    </tr>\n",
       "    <tr>\n",
       "      <th>Checkin Date</th>\n",
       "      <th></th>\n",
       "      <th>10/1/2015 0:00</th>\n",
       "      <th>10/14/2015 0:00</th>\n",
       "      <th>10/15/2015 0:00</th>\n",
       "      <th>10/16/2015 0:00</th>\n",
       "      <th>10/2/2015 0:00</th>\n",
       "      <th>10/21/2015 0:00</th>\n",
       "      <th>10/22/2015 0:00</th>\n",
       "      <th>10/27/2015 0:00</th>\n",
       "      <th>10/28/2015 0:00</th>\n",
       "      <th>...</th>\n",
       "      <th>8/26/2015 0:00</th>\n",
       "      <th>8/27/2015 0:00</th>\n",
       "      <th>8/28/2015 0:00</th>\n",
       "      <th>9/10/2015 0:00</th>\n",
       "      <th>9/11/2015 0:00</th>\n",
       "      <th>9/16/2015 0:00</th>\n",
       "      <th>9/17/2015 0:00</th>\n",
       "      <th>9/18/2015 0:00</th>\n",
       "      <th>9/30/2015 0:00</th>\n",
       "      <th>9/9/2015 0:00</th>\n",
       "    </tr>\n",
       "  </thead>\n",
       "  <tbody>\n",
       "    <tr>\n",
       "      <th>145</th>\n",
       "      <td>Wyndham Garden Chinatown</td>\n",
       "      <td>-1</td>\n",
       "      <td>-1</td>\n",
       "      <td>-1</td>\n",
       "      <td>-1</td>\n",
       "      <td>-1</td>\n",
       "      <td>-1</td>\n",
       "      <td>-1</td>\n",
       "      <td>-1</td>\n",
       "      <td>-1</td>\n",
       "      <td>...</td>\n",
       "      <td>-1</td>\n",
       "      <td>-1</td>\n",
       "      <td>-1</td>\n",
       "      <td>-1</td>\n",
       "      <td>-1</td>\n",
       "      <td>-1</td>\n",
       "      <td>-1</td>\n",
       "      <td>-1</td>\n",
       "      <td>-1</td>\n",
       "      <td>-1</td>\n",
       "    </tr>\n",
       "    <tr>\n",
       "      <th>146</th>\n",
       "      <td>Wyndham Garden Long Island City Manhattan View</td>\n",
       "      <td>-1</td>\n",
       "      <td>-1</td>\n",
       "      <td>-1</td>\n",
       "      <td>-1</td>\n",
       "      <td>-1</td>\n",
       "      <td>-1</td>\n",
       "      <td>-1</td>\n",
       "      <td>-1</td>\n",
       "      <td>-1</td>\n",
       "      <td>...</td>\n",
       "      <td>-1</td>\n",
       "      <td>-1</td>\n",
       "      <td>-1</td>\n",
       "      <td>-1</td>\n",
       "      <td>-1</td>\n",
       "      <td>-1</td>\n",
       "      <td>-1</td>\n",
       "      <td>-1</td>\n",
       "      <td>-1</td>\n",
       "      <td>-1</td>\n",
       "    </tr>\n",
       "    <tr>\n",
       "      <th>147</th>\n",
       "      <td>Wyndham New Yorker</td>\n",
       "      <td>-1</td>\n",
       "      <td>-1</td>\n",
       "      <td>-1</td>\n",
       "      <td>-1</td>\n",
       "      <td>-1</td>\n",
       "      <td>-1</td>\n",
       "      <td>-1</td>\n",
       "      <td>-1</td>\n",
       "      <td>-1</td>\n",
       "      <td>...</td>\n",
       "      <td>-1</td>\n",
       "      <td>-1</td>\n",
       "      <td>-1</td>\n",
       "      <td>-1</td>\n",
       "      <td>-1</td>\n",
       "      <td>-1</td>\n",
       "      <td>-1</td>\n",
       "      <td>-1</td>\n",
       "      <td>-1</td>\n",
       "      <td>-1</td>\n",
       "    </tr>\n",
       "    <tr>\n",
       "      <th>148</th>\n",
       "      <td>ink48 hotel a Kimpton Hotel</td>\n",
       "      <td>1436</td>\n",
       "      <td>-1</td>\n",
       "      <td>-1</td>\n",
       "      <td>-1</td>\n",
       "      <td>1667</td>\n",
       "      <td>-1</td>\n",
       "      <td>-1</td>\n",
       "      <td>-1</td>\n",
       "      <td>-1</td>\n",
       "      <td>...</td>\n",
       "      <td>-1</td>\n",
       "      <td>-1</td>\n",
       "      <td>1084</td>\n",
       "      <td>-1</td>\n",
       "      <td>-1</td>\n",
       "      <td>-1</td>\n",
       "      <td>-1</td>\n",
       "      <td>-1</td>\n",
       "      <td>-1</td>\n",
       "      <td>-1</td>\n",
       "    </tr>\n",
       "    <tr>\n",
       "      <th>149</th>\n",
       "      <td>Embassy Suites Newark Airport</td>\n",
       "      <td>-1</td>\n",
       "      <td>-1</td>\n",
       "      <td>-1</td>\n",
       "      <td>-1</td>\n",
       "      <td>-1</td>\n",
       "      <td>-1</td>\n",
       "      <td>-1</td>\n",
       "      <td>-1</td>\n",
       "      <td>-1</td>\n",
       "      <td>...</td>\n",
       "      <td>-1</td>\n",
       "      <td>-1</td>\n",
       "      <td>-1</td>\n",
       "      <td>-1</td>\n",
       "      <td>-1</td>\n",
       "      <td>-1</td>\n",
       "      <td>-1</td>\n",
       "      <td>-1</td>\n",
       "      <td>-1</td>\n",
       "      <td>-1</td>\n",
       "    </tr>\n",
       "  </tbody>\n",
       "</table>\n",
       "<p>5 rows × 161 columns</p>\n",
       "</div>"
      ],
      "text/plain": [
       "                                                   Hotel Name Discount Price  \\\n",
       "Discount Code                                                              1   \n",
       "Checkin Date                                                  10/1/2015 0:00   \n",
       "145                                  Wyndham Garden Chinatown             -1   \n",
       "146            Wyndham Garden Long Island City Manhattan View             -1   \n",
       "147                                        Wyndham New Yorker             -1   \n",
       "148                               ink48 hotel a Kimpton Hotel           1436   \n",
       "149                             Embassy Suites Newark Airport             -1   \n",
       "\n",
       "                                                                              \\\n",
       "Discount Code                                                                  \n",
       "Checkin Date  10/14/2015 0:00 10/15/2015 0:00 10/16/2015 0:00 10/2/2015 0:00   \n",
       "145                        -1              -1              -1             -1   \n",
       "146                        -1              -1              -1             -1   \n",
       "147                        -1              -1              -1             -1   \n",
       "148                        -1              -1              -1           1667   \n",
       "149                        -1              -1              -1             -1   \n",
       "\n",
       "                                                                               \\\n",
       "Discount Code                                                                   \n",
       "Checkin Date  10/21/2015 0:00 10/22/2015 0:00 10/27/2015 0:00 10/28/2015 0:00   \n",
       "145                        -1              -1              -1              -1   \n",
       "146                        -1              -1              -1              -1   \n",
       "147                        -1              -1              -1              -1   \n",
       "148                        -1              -1              -1              -1   \n",
       "149                        -1              -1              -1              -1   \n",
       "\n",
       "                   ...                                                    \\\n",
       "Discount Code      ...                   4                                 \n",
       "Checkin Date       ...      8/26/2015 0:00 8/27/2015 0:00 8/28/2015 0:00   \n",
       "145                ...                  -1             -1             -1   \n",
       "146                ...                  -1             -1             -1   \n",
       "147                ...                  -1             -1             -1   \n",
       "148                ...                  -1             -1           1084   \n",
       "149                ...                  -1             -1             -1   \n",
       "\n",
       "                                                                           \\\n",
       "Discount Code                                                               \n",
       "Checkin Date  9/10/2015 0:00 9/11/2015 0:00 9/16/2015 0:00 9/17/2015 0:00   \n",
       "145                       -1             -1             -1             -1   \n",
       "146                       -1             -1             -1             -1   \n",
       "147                       -1             -1             -1             -1   \n",
       "148                       -1             -1             -1             -1   \n",
       "149                       -1             -1             -1             -1   \n",
       "\n",
       "                                                           \n",
       "Discount Code                                              \n",
       "Checkin Date  9/18/2015 0:00 9/30/2015 0:00 9/9/2015 0:00  \n",
       "145                       -1             -1            -1  \n",
       "146                       -1             -1            -1  \n",
       "147                       -1             -1            -1  \n",
       "148                       -1             -1            -1  \n",
       "149                       -1             -1            -1  \n",
       "\n",
       "[5 rows x 161 columns]"
      ]
     },
     "execution_count": 53,
     "metadata": {},
     "output_type": "execute_result"
    }
   ],
   "source": [
    "hotelRow = [-1] * 161\n",
    "for hotel in hotelsWithoutRecords:\n",
    "    print(hotel)\n",
    "    hotelRow[0] = hotel\n",
    "    reduced_df = reduced_df.append(pd.Series(hotelRow,index=reduced_df.columns), ignore_index=True)\n",
    "reduced_df.tail()"
   ]
  },
  {
   "cell_type": "markdown",
   "metadata": {},
   "source": [
    "#### Check if the table size is the same as the first table"
   ]
  },
  {
   "cell_type": "code",
   "execution_count": 54,
   "metadata": {},
   "outputs": [
    {
     "data": {
      "text/plain": [
       "150"
      ]
     },
     "execution_count": 54,
     "metadata": {},
     "output_type": "execute_result"
    }
   ],
   "source": [
    "reduced_df['Hotel Name'].count()"
   ]
  },
  {
   "cell_type": "markdown",
   "metadata": {},
   "source": [
    "## 2.d"
   ]
  },
  {
   "cell_type": "markdown",
   "metadata": {},
   "source": [
    "#### Returns the minimum price of the given row (without values -1)"
   ]
  },
  {
   "cell_type": "code",
   "execution_count": 55,
   "metadata": {},
   "outputs": [],
   "source": [
    "# function that help us get the min without values -1\n",
    "def getMinimumPrice(row):\n",
    "    min_value = None\n",
    "    for col in islice(reduced_df, 1, None): #reduced_df.iloc[:-1, :]:   \n",
    "        if not min_value:\n",
    "            min_value = row[col]\n",
    "        elif row[col] < min_value and row[col] != -1:\n",
    "            min_value = row[col]\n",
    "    return min_value"
   ]
  },
  {
   "cell_type": "markdown",
   "metadata": {},
   "source": [
    "#### Returns the normelized price of the given row"
   ]
  },
  {
   "cell_type": "code",
   "execution_count": 56,
   "metadata": {},
   "outputs": [],
   "source": [
    "def getNormalizedPrice(min_price, max_price, price):\n",
    "    return (price - min_price) / (max_price - min_price) * 100"
   ]
  },
  {
   "cell_type": "markdown",
   "metadata": {},
   "source": [
    "#### Getting all hotels max prices"
   ]
  },
  {
   "cell_type": "code",
   "execution_count": 57,
   "metadata": {},
   "outputs": [],
   "source": [
    "max_prices = reduced_df.max(axis=1)"
   ]
  },
  {
   "cell_type": "markdown",
   "metadata": {},
   "source": [
    "#### Setting default values for max, min, and normalized price"
   ]
  },
  {
   "cell_type": "code",
   "execution_count": 58,
   "metadata": {},
   "outputs": [],
   "source": [
    "hotel_max = None\n",
    "hotel_min = None\n",
    "normalized = None"
   ]
  },
  {
   "cell_type": "markdown",
   "metadata": {},
   "source": [
    "### Setting normalized prices' values for each hotel"
   ]
  },
  {
   "cell_type": "code",
   "execution_count": 59,
   "metadata": {},
   "outputs": [],
   "source": [
    "for index, row in reduced_df.iterrows():\n",
    "# getting current hotel's max and min prices\n",
    "    hotel_max = max_prices[index]\n",
    "    hotel_min = getMinimumPrice(row)\n",
    "    for col in islice(reduced_df, 1, None):\n",
    "        if (row[col] != -1):\n",
    "            # saving the normalized price of eace of the hotel's prices\n",
    "            normalized =(getNormalizedPrice(hotel_min,hotel_max,row[col])) \n",
    "            reduced_df.iloc[index, reduced_df.columns.get_loc(col)] = normalized"
   ]
  },
  {
   "cell_type": "markdown",
   "metadata": {},
   "source": [
    "## 2.d"
   ]
  },
  {
   "cell_type": "markdown",
   "metadata": {},
   "source": [
    "#### Debugging several values"
   ]
  },
  {
   "cell_type": "code",
   "execution_count": 60,
   "metadata": {},
   "outputs": [
    {
     "data": {
      "text/html": [
       "<div>\n",
       "<style scoped>\n",
       "    .dataframe tbody tr th:only-of-type {\n",
       "        vertical-align: middle;\n",
       "    }\n",
       "\n",
       "    .dataframe tbody tr th {\n",
       "        vertical-align: top;\n",
       "    }\n",
       "\n",
       "    .dataframe thead tr th {\n",
       "        text-align: left;\n",
       "    }\n",
       "</style>\n",
       "<table border=\"1\" class=\"dataframe\">\n",
       "  <thead>\n",
       "    <tr>\n",
       "      <th></th>\n",
       "      <th>Hotel Name</th>\n",
       "      <th colspan=\"20\" halign=\"left\">Discount Price</th>\n",
       "    </tr>\n",
       "    <tr>\n",
       "      <th>Discount Code</th>\n",
       "      <th></th>\n",
       "      <th colspan=\"9\" halign=\"left\">1</th>\n",
       "      <th>...</th>\n",
       "      <th colspan=\"10\" halign=\"left\">4</th>\n",
       "    </tr>\n",
       "    <tr>\n",
       "      <th>Checkin Date</th>\n",
       "      <th></th>\n",
       "      <th>10/1/2015 0:00</th>\n",
       "      <th>10/14/2015 0:00</th>\n",
       "      <th>10/15/2015 0:00</th>\n",
       "      <th>10/16/2015 0:00</th>\n",
       "      <th>10/2/2015 0:00</th>\n",
       "      <th>10/21/2015 0:00</th>\n",
       "      <th>10/22/2015 0:00</th>\n",
       "      <th>10/27/2015 0:00</th>\n",
       "      <th>10/28/2015 0:00</th>\n",
       "      <th>...</th>\n",
       "      <th>8/26/2015 0:00</th>\n",
       "      <th>8/27/2015 0:00</th>\n",
       "      <th>8/28/2015 0:00</th>\n",
       "      <th>9/10/2015 0:00</th>\n",
       "      <th>9/11/2015 0:00</th>\n",
       "      <th>9/16/2015 0:00</th>\n",
       "      <th>9/17/2015 0:00</th>\n",
       "      <th>9/18/2015 0:00</th>\n",
       "      <th>9/30/2015 0:00</th>\n",
       "      <th>9/9/2015 0:00</th>\n",
       "    </tr>\n",
       "  </thead>\n",
       "  <tbody>\n",
       "    <tr>\n",
       "      <th>0</th>\n",
       "      <td>Aloft Harlem</td>\n",
       "      <td>-1.00000</td>\n",
       "      <td>89.856957</td>\n",
       "      <td>-1.000000</td>\n",
       "      <td>-1.000000</td>\n",
       "      <td>-1.000000</td>\n",
       "      <td>76.462939</td>\n",
       "      <td>-1.000000</td>\n",
       "      <td>-1.0</td>\n",
       "      <td>100.000000</td>\n",
       "      <td>...</td>\n",
       "      <td>-1.0</td>\n",
       "      <td>-1.0</td>\n",
       "      <td>64.304291</td>\n",
       "      <td>69.310793</td>\n",
       "      <td>-1.0</td>\n",
       "      <td>-1.000000</td>\n",
       "      <td>-1.000000</td>\n",
       "      <td>-1.000000</td>\n",
       "      <td>-1.0</td>\n",
       "      <td>-1.0</td>\n",
       "    </tr>\n",
       "    <tr>\n",
       "      <th>1</th>\n",
       "      <td>Andaz 5th Avenue - a concept by Hyatt</td>\n",
       "      <td>52.71028</td>\n",
       "      <td>-1.000000</td>\n",
       "      <td>72.024922</td>\n",
       "      <td>53.333333</td>\n",
       "      <td>50.218069</td>\n",
       "      <td>-1.000000</td>\n",
       "      <td>45.295950</td>\n",
       "      <td>-1.0</td>\n",
       "      <td>48.411215</td>\n",
       "      <td>...</td>\n",
       "      <td>-1.0</td>\n",
       "      <td>-1.0</td>\n",
       "      <td>-1.000000</td>\n",
       "      <td>-1.000000</td>\n",
       "      <td>-1.0</td>\n",
       "      <td>87.912773</td>\n",
       "      <td>96.323988</td>\n",
       "      <td>42.803738</td>\n",
       "      <td>-1.0</td>\n",
       "      <td>-1.0</td>\n",
       "    </tr>\n",
       "    <tr>\n",
       "      <th>2</th>\n",
       "      <td>Andaz Wall Street - a concept by Hyatt</td>\n",
       "      <td>-1.00000</td>\n",
       "      <td>59.977868</td>\n",
       "      <td>-1.000000</td>\n",
       "      <td>-1.000000</td>\n",
       "      <td>-1.000000</td>\n",
       "      <td>71.043895</td>\n",
       "      <td>64.588713</td>\n",
       "      <td>-1.0</td>\n",
       "      <td>61.637772</td>\n",
       "      <td>...</td>\n",
       "      <td>-1.0</td>\n",
       "      <td>-1.0</td>\n",
       "      <td>-1.000000</td>\n",
       "      <td>61.453338</td>\n",
       "      <td>-1.0</td>\n",
       "      <td>-1.000000</td>\n",
       "      <td>-1.000000</td>\n",
       "      <td>68.461822</td>\n",
       "      <td>100.0</td>\n",
       "      <td>-1.0</td>\n",
       "    </tr>\n",
       "    <tr>\n",
       "      <th>3</th>\n",
       "      <td>Baccarat Hotel and Residences New York</td>\n",
       "      <td>-1.00000</td>\n",
       "      <td>-1.000000</td>\n",
       "      <td>-1.000000</td>\n",
       "      <td>-1.000000</td>\n",
       "      <td>-1.000000</td>\n",
       "      <td>-1.000000</td>\n",
       "      <td>-1.000000</td>\n",
       "      <td>-1.0</td>\n",
       "      <td>-1.000000</td>\n",
       "      <td>...</td>\n",
       "      <td>-1.0</td>\n",
       "      <td>-1.0</td>\n",
       "      <td>-1.000000</td>\n",
       "      <td>-1.000000</td>\n",
       "      <td>-1.0</td>\n",
       "      <td>-1.000000</td>\n",
       "      <td>-1.000000</td>\n",
       "      <td>-1.000000</td>\n",
       "      <td>-1.0</td>\n",
       "      <td>-1.0</td>\n",
       "    </tr>\n",
       "    <tr>\n",
       "      <th>4</th>\n",
       "      <td>Bentley Hotel</td>\n",
       "      <td>-1.00000</td>\n",
       "      <td>-1.000000</td>\n",
       "      <td>-1.000000</td>\n",
       "      <td>-1.000000</td>\n",
       "      <td>-1.000000</td>\n",
       "      <td>47.086403</td>\n",
       "      <td>-1.000000</td>\n",
       "      <td>-1.0</td>\n",
       "      <td>-1.000000</td>\n",
       "      <td>...</td>\n",
       "      <td>-1.0</td>\n",
       "      <td>-1.0</td>\n",
       "      <td>-1.000000</td>\n",
       "      <td>-1.000000</td>\n",
       "      <td>-1.0</td>\n",
       "      <td>-1.000000</td>\n",
       "      <td>-1.000000</td>\n",
       "      <td>-1.000000</td>\n",
       "      <td>-1.0</td>\n",
       "      <td>-1.0</td>\n",
       "    </tr>\n",
       "  </tbody>\n",
       "</table>\n",
       "<p>5 rows × 161 columns</p>\n",
       "</div>"
      ],
      "text/plain": [
       "                                           Hotel Name Discount Price  \\\n",
       "Discount Code                                                      1   \n",
       "Checkin Date                                          10/1/2015 0:00   \n",
       "0                                        Aloft Harlem       -1.00000   \n",
       "1               Andaz 5th Avenue - a concept by Hyatt       52.71028   \n",
       "2              Andaz Wall Street - a concept by Hyatt       -1.00000   \n",
       "3              Baccarat Hotel and Residences New York       -1.00000   \n",
       "4                                       Bentley Hotel       -1.00000   \n",
       "\n",
       "                                                                              \\\n",
       "Discount Code                                                                  \n",
       "Checkin Date  10/14/2015 0:00 10/15/2015 0:00 10/16/2015 0:00 10/2/2015 0:00   \n",
       "0                   89.856957       -1.000000       -1.000000      -1.000000   \n",
       "1                   -1.000000       72.024922       53.333333      50.218069   \n",
       "2                   59.977868       -1.000000       -1.000000      -1.000000   \n",
       "3                   -1.000000       -1.000000       -1.000000      -1.000000   \n",
       "4                   -1.000000       -1.000000       -1.000000      -1.000000   \n",
       "\n",
       "                                                                               \\\n",
       "Discount Code                                                                   \n",
       "Checkin Date  10/21/2015 0:00 10/22/2015 0:00 10/27/2015 0:00 10/28/2015 0:00   \n",
       "0                   76.462939       -1.000000            -1.0      100.000000   \n",
       "1                   -1.000000       45.295950            -1.0       48.411215   \n",
       "2                   71.043895       64.588713            -1.0       61.637772   \n",
       "3                   -1.000000       -1.000000            -1.0       -1.000000   \n",
       "4                   47.086403       -1.000000            -1.0       -1.000000   \n",
       "\n",
       "                   ...                                                    \\\n",
       "Discount Code      ...                   4                                 \n",
       "Checkin Date       ...      8/26/2015 0:00 8/27/2015 0:00 8/28/2015 0:00   \n",
       "0                  ...                -1.0           -1.0      64.304291   \n",
       "1                  ...                -1.0           -1.0      -1.000000   \n",
       "2                  ...                -1.0           -1.0      -1.000000   \n",
       "3                  ...                -1.0           -1.0      -1.000000   \n",
       "4                  ...                -1.0           -1.0      -1.000000   \n",
       "\n",
       "                                                                           \\\n",
       "Discount Code                                                               \n",
       "Checkin Date  9/10/2015 0:00 9/11/2015 0:00 9/16/2015 0:00 9/17/2015 0:00   \n",
       "0                  69.310793           -1.0      -1.000000      -1.000000   \n",
       "1                  -1.000000           -1.0      87.912773      96.323988   \n",
       "2                  61.453338           -1.0      -1.000000      -1.000000   \n",
       "3                  -1.000000           -1.0      -1.000000      -1.000000   \n",
       "4                  -1.000000           -1.0      -1.000000      -1.000000   \n",
       "\n",
       "                                                           \n",
       "Discount Code                                              \n",
       "Checkin Date  9/18/2015 0:00 9/30/2015 0:00 9/9/2015 0:00  \n",
       "0                  -1.000000           -1.0          -1.0  \n",
       "1                  42.803738           -1.0          -1.0  \n",
       "2                  68.461822          100.0          -1.0  \n",
       "3                  -1.000000           -1.0          -1.0  \n",
       "4                  -1.000000           -1.0          -1.0  \n",
       "\n",
       "[5 rows x 161 columns]"
      ]
     },
     "execution_count": 60,
     "metadata": {},
     "output_type": "execute_result"
    }
   ],
   "source": [
    "reduced_df.head()"
   ]
  },
  {
   "cell_type": "markdown",
   "metadata": {},
   "source": [
    "## 2.f"
   ]
  },
  {
   "cell_type": "markdown",
   "metadata": {},
   "source": [
    "#### Clustering the data with ward method and drawing a dendrogram"
   ]
  },
  {
   "cell_type": "code",
   "execution_count": 61,
   "metadata": {},
   "outputs": [
    {
     "data": {
      "text/plain": [
       "(149, 4)"
      ]
     },
     "execution_count": 61,
     "metadata": {},
     "output_type": "execute_result"
    }
   ],
   "source": [
    "dist = linkage(reduced_df.iloc[:, 1:],'ward')\n",
    "type(dist)\n",
    "dist.shape"
   ]
  },
  {
   "cell_type": "code",
   "execution_count": 62,
   "metadata": {},
   "outputs": [
    {
     "data": {
      "image/png": "[encoded data removed]",
      "text/plain": [
       "<Figure size 1440x720 with 1 Axes>"
      ]
     },
     "metadata": {
      "needs_background": "light"
     },
     "output_type": "display_data"
    }
   ],
   "source": [
    "\n",
    "plt.figure(figsize=(20,10))\n",
    "plt.title('Hierarchical Clustering')\n",
    "plt.ylabel('Distance')\n",
    "dendrogram(dist, labels=reduced_df['Hotel Name'].tolist(), leaf_rotation=90,leaf_font_size=8)\n",
    "plt.show()"
   ]
  },
  {
   "cell_type": "markdown",
   "metadata": {},
   "source": [
    "#### Getting the form flat clusters accroding to a specific threshold:"
   ]
  },
  {
   "cell_type": "code",
   "execution_count": 77,
   "metadata": {},
   "outputs": [
    {
     "name": "stdout",
     "output_type": "stream",
     "text": [
      "[10 11 10  2  2 10 10  3  3  8  4  2  9  6  2  1  2  2  2  7  2  9  2  7\n",
      " 10  2 10 11  4 10 11  9  4  3 10  6  2  3 11 10 10 10 10  4 11  4  2 11\n",
      "  2 10  2 10 11 10  4  4  4  3 11  7  2  5  4  1 10  6  3  3  3  3  2 10\n",
      "  2  7 11  4  2 10 11  4  4  9 10 10  4 10 11  6  9 11  6 11 11  9  9 10\n",
      "  1  1  6  2  5  2  3  2  2  7  8 10 10  9  2  2  9 10  2  3  2  4  2  2\n",
      "  2 10  2  2  2  4  7  7  4  2  8 10  3 10 10  7  4 11  2  6 10  6  4  3\n",
      "  4  3  3  3  9  2]\n"
     ]
    }
   ],
   "source": [
    "lbl = fcluster(dist,t=750,criterion='distance')\n",
    "type(lbl)\n",
    "print(lbl)"
   ]
  },
  {
   "cell_type": "markdown",
   "metadata": {},
   "source": [
    "####  First, we wish to find the the biggest distance difference between two clades. Too big of a difference can be caused by commiting a merge of data which is not in the same cluster. This can be driven from the missing data - that was marked as -1.  "
   ]
  },
  {
   "cell_type": "markdown",
   "metadata": {},
   "source": [
    "#### We can see that as bigger as we define the threshold - the less clusters we'll get:"
   ]
  },
  {
   "cell_type": "code",
   "execution_count": 79,
   "metadata": {},
   "outputs": [
    {
     "name": "stdout",
     "output_type": "stream",
     "text": [
      "[2 2 2 1 1 2 2 1 1 2 2 1 2 2 1 1 1 1 1 2 1 2 1 2 2 1 2 2 2 2 2 2 2 1 2 2 1\n",
      " 1 2 2 2 2 2 2 2 2 1 2 1 2 1 2 2 2 2 2 2 1 2 2 1 2 2 1 2 2 1 1 1 1 1 2 1 2\n",
      " 2 2 1 2 2 2 2 2 2 2 2 2 2 2 2 2 2 2 2 2 2 2 1 1 2 1 2 1 1 1 1 2 2 2 2 2 1\n",
      " 1 2 2 1 1 1 2 1 1 1 2 1 1 1 2 2 2 2 1 2 2 1 2 2 2 2 2 1 2 2 2 2 1 2 1 1 1\n",
      " 2 1]\n"
     ]
    }
   ],
   "source": [
    "lbl = fcluster(dist,t=2000,criterion='distance')\n",
    "type(lbl)\n",
    "print(lbl)"
   ]
  },
  {
   "cell_type": "markdown",
   "metadata": {},
   "source": [
    "#### As smaller as we'll define the threshold, we'll get a bigger amount of clusters, this less distance between each one and better similarity.\n"
   ]
  },
  {
   "cell_type": "code",
   "execution_count": null,
   "metadata": {},
   "outputs": [],
   "source": []
  }
 ],
 "metadata": {
  "kernelspec": {
   "display_name": "Python 3",
   "language": "python",
   "name": "python3"
  },
  "language_info": {
   "codemirror_mode": {
    "name": "ipython",
    "version": 3
   },
   "file_extension": ".py",
   "mimetype": "text/x-python",
   "name": "python",
   "nbconvert_exporter": "python",
   "pygments_lexer": "ipython3",
   "version": "3.7.1"
  }
 },
 "nbformat": 4,
 "nbformat_minor": 2
}
