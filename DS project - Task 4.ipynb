{
 "cells": [
  {
   "cell_type": "markdown",
   "metadata": {},
   "source": [
    "# Data Sience Project - Task 4"
   ]
  },
  {
   "cell_type": "markdown",
   "metadata": {},
   "source": [
    "### Spark with Clustering (task 3 in spark)"
   ]
  },
  {
   "cell_type": "code",
   "execution_count": 1,
   "metadata": {},
   "outputs": [],
   "source": [
    "import findspark\n",
    "findspark.init()\n",
    "\n",
    "import pyspark # only run after findspark.init()\n",
    "from pyspark.sql import SparkSession"
   ]
  },
  {
   "cell_type": "code",
   "execution_count": 2,
   "metadata": {},
   "outputs": [],
   "source": [
    "spark = SparkSession.builder.appName('clustering_in_spark').getOrCreate()"
   ]
  },
  {
   "cell_type": "markdown",
   "metadata": {},
   "source": [
    "#### Read data from csv"
   ]
  },
  {
   "cell_type": "code",
   "execution_count": 3,
   "metadata": {},
   "outputs": [],
   "source": [
    "df=spark.read.csv('Hotels_data_Changed.csv',inferSchema=True,header=True)"
   ]
  },
  {
   "cell_type": "code",
   "execution_count": 4,
   "metadata": {},
   "outputs": [
    {
     "name": "stdout",
     "output_type": "stream",
     "text": [
      "root\n",
      " |-- _c0: integer (nullable = true)\n",
      " |-- Snapshot ID: integer (nullable = true)\n",
      " |-- Snapshot Date: timestamp (nullable = true)\n",
      " |-- Checkin Date: timestamp (nullable = true)\n",
      " |-- Days: integer (nullable = true)\n",
      " |-- Original Price: integer (nullable = true)\n",
      " |-- Discount Price: integer (nullable = true)\n",
      " |-- Discount Code: integer (nullable = true)\n",
      " |-- Available Rooms: integer (nullable = true)\n",
      " |-- Hotel Name: string (nullable = true)\n",
      " |-- Hotel Stars: integer (nullable = true)\n",
      " |-- DayDiff: integer (nullable = true)\n",
      " |-- WeekDay: string (nullable = true)\n",
      " |-- DiscountDiff: integer (nullable = true)\n",
      " |-- DiscountPerc: double (nullable = true)\n",
      "\n"
     ]
    }
   ],
   "source": [
    "df.printSchema()"
   ]
  },
  {
   "cell_type": "markdown",
   "metadata": {},
   "source": [
    "## 4.a"
   ]
  },
  {
   "cell_type": "code",
   "execution_count": 5,
   "metadata": {},
   "outputs": [],
   "source": [
    "from pyspark.sql.functions import udf, col\n",
    "from pyspark.sql.types import DateType, IntegerType\n",
    "from pyspark.sql.functions import desc"
   ]
  },
  {
   "cell_type": "markdown",
   "metadata": {},
   "source": [
    "#### Get the 150 hotels with maximum records"
   ]
  },
  {
   "cell_type": "code",
   "execution_count": 6,
   "metadata": {},
   "outputs": [],
   "source": [
    "# group by hotel name and count,with sortig \n",
    "hotel_names = df.groupBy('Hotel Name').count().sort(desc('count')).limit(150)"
   ]
  },
  {
   "cell_type": "code",
   "execution_count": 7,
   "metadata": {},
   "outputs": [
    {
     "data": {
      "text/plain": [
       "DataFrame[Hotel Name: string, count: bigint]"
      ]
     },
     "execution_count": 7,
     "metadata": {},
     "output_type": "execute_result"
    }
   ],
   "source": [
    "hotel_names"
   ]
  },
  {
   "cell_type": "markdown",
   "metadata": {},
   "source": [
    "#### Get list of the first (max) 150 hotels"
   ]
  },
  {
   "cell_type": "code",
   "execution_count": null,
   "metadata": {},
   "outputs": [],
   "source": [
    "maxHotel_names = hotel_names.toPandas()['Hotel Name'].tolist()"
   ]
  },
  {
   "cell_type": "code",
   "execution_count": null,
   "metadata": {},
   "outputs": [
    {
     "data": {
      "text/plain": [
       "['Newark Liberty International Airport Marriott',\n",
       " 'Hilton Garden Inn Times Square',\n",
       " 'Residence Inn Newark Elizabeth Liberty International Airport',\n",
       " 'Westin New York at Times Square',\n",
       " 'Loews Regency New York Hotel',\n",
       " 'Viceroy New York',\n",
       " 'Four Seasons Hotel New York',\n",
       " 'Langham Place New York Fifth Avenue',\n",
       " 'The Carlyle A Rosewood Hotel',\n",
       " 'DoubleTree by Hilton Metropolitan - New York City',\n",
       " 'Magnuson Convention Center Hotel',\n",
       " 'Hilton Garden Inn New York West 35th Street',\n",
       " 'Hilton Garden Inn New York-Times Square Central',\n",
       " 'Conrad New York',\n",
       " 'Wyndham Garden Brooklyn Sunset Park',\n",
       " 'Hilton Newark Airport',\n",
       " 'Omni Berkshire Place',\n",
       " 'Hilton Times Square',\n",
       " 'Park Hyatt New York',\n",
       " 'Homewood Suites by Hilton NY Midtown Manhattan Times Square',\n",
       " 'Grand Hyatt New York',\n",
       " 'The Plaza Hotel',\n",
       " 'Quality Inn Woodside',\n",
       " 'Hyatt Union Square New York',\n",
       " 'Le Parker Meridien New York',\n",
       " 'The New York EDITION',\n",
       " 'W New York - Union Square',\n",
       " 'Renaissance Newark Airport Hotel',\n",
       " 'Hampton Inn New York - 35th Street - Empire State Building',\n",
       " 'The Lexington New York City Autograph Collection',\n",
       " 'The Roosevelt Hotel New York City',\n",
       " 'Hilton Garden Inn New York Midtown Park Ave',\n",
       " 'McCarren Hotel & Pool',\n",
       " 'Cassa Hotel 45th Street',\n",
       " 'Hyatt Herald Square New York',\n",
       " 'Martha Washington',\n",
       " 'W New York Times Square',\n",
       " 'Hyatt Place New York Midtown South',\n",
       " 'DoubleTree by Hilton Hotel Newark Airport',\n",
       " 'Hampton Inn Manhattan United Nations',\n",
       " 'Millenium Hilton',\n",
       " 'Hampton Inn Madison Square Garden Area Hotel',\n",
       " 'The Towers of the Waldorf Astoria New York',\n",
       " 'Smyth A Thompson Hotel',\n",
       " 'DoubleTree by Hilton New York City - Chelsea',\n",
       " 'DoubleTree by Hilton New York City - Financial District',\n",
       " 'Hampton Inn Manhattan Soho',\n",
       " 'Hilton Garden Inn New York Manhattan-Midtown East',\n",
       " 'Hampton Inn Manhattan Downtown-Financial District',\n",
       " 'Red Carpet Inn New York City',\n",
       " 'Hampton Inn Manhattan Times Square Central',\n",
       " 'Hilton Garden Inn New York Central Park South-Midtown West',\n",
       " 'Andaz 5th Avenue - a concept by Hyatt',\n",
       " 'Hilton Garden Inn New York Manhattan-Chelsea',\n",
       " 'Gild Hall A Thompson Hotel',\n",
       " 'Hilton Manhattan East',\n",
       " 'Waldorf Astoria New York',\n",
       " 'Sheraton New York Times Square Hotel',\n",
       " 'Hampton Inn Manhattan-Seaport-Financial District',\n",
       " 'Fairfield Inn by Marriott LaGuardia Airport Flushing',\n",
       " 'W New York - Downtown',\n",
       " 'Hilton New York Fashion District',\n",
       " 'Hyatt Times Square New York',\n",
       " 'Hampton Inn Manhattan Times Square South',\n",
       " 'New York Marriott at the Brooklyn Bridge',\n",
       " 'New York Marriott Downtown',\n",
       " 'Hilton Garden Inn New York Long Island City',\n",
       " 'Manhattan NYC-an Affinia hotel',\n",
       " 'The Muse Hotel a Kimpton Hotel',\n",
       " 'New York Hilton Midtown',\n",
       " 'W New York',\n",
       " 'Andaz Wall Street - a concept by Hyatt',\n",
       " 'United Nations Apartment Hotel',\n",
       " 'The Westin New York Grand Central',\n",
       " 'The Peninsula New York',\n",
       " 'NOMO SOHO',\n",
       " 'Home2 Suites by Hilton NY Long Island City Manhattan View',\n",
       " 'The Standard East Village',\n",
       " 'DoubleTree Suites by Hilton New York City - Times Square',\n",
       " 'SpringHill Suites by Marriott Newark Liberty International',\n",
       " 'Eventi Hotel a Kimpton Hotel',\n",
       " 'Hampton Inn New York Chelsea',\n",
       " 'Comfort Inn Times Square South Area',\n",
       " 'The Pearl New York',\n",
       " 'DoubleTree by Hilton Hotel New York - Times Square South',\n",
       " 'The Chatwal a Luxury Collection Hotel New York City',\n",
       " 'Howard Johnson Inn Jamaica JFK Airport NYC',\n",
       " 'Hampton Inn & Suites Staten Island',\n",
       " 'Howard Johnson Flushing',\n",
       " 'Ramada Long Island City',\n",
       " 'SIXTY Lower East Side',\n",
       " 'Courtyard by Marriott New York Manhattan SoHo',\n",
       " 'Best Western Bayside Inn',\n",
       " 'Quality Inn Convention Center',\n",
       " 'Courtyard by Marriott New York Manhattan Times Square',\n",
       " 'Sheraton LaGuardia East Hotel',\n",
       " 'The Premier Hotel New York',\n",
       " 'Hampton Inn JFK Airport',\n",
       " 'Radisson Martinique on Broadway',\n",
       " 'GEM Hotel - Chelsea an Ascend Hotel Collection Member',\n",
       " 'Residence Inn by Marriott New York Manhattan Midtown East',\n",
       " 'Holiday Inn New York JFK Airport Area',\n",
       " 'The High Line Hotel',\n",
       " 'Courtyard by Marriott New York City Manhattan Fifth Avenue',\n",
       " 'New York Marriott East Side',\n",
       " 'The SunBright',\n",
       " 'Hampton Inn Times Square North',\n",
       " 'Shelburne NYC-an Affinia hotel',\n",
       " 'Wyndham Garden - Manhattan Chelsea West',\n",
       " 'The Lombardy',\n",
       " 'Wyndham Garden Long Island City Manhattan View',\n",
       " 'Best Western Plus Newark Airport West',\n",
       " 'Best Western Plus Arena Hotel',\n",
       " 'Bentley Hotel',\n",
       " 'ink48 hotel a Kimpton Hotel',\n",
       " 'Courtyard by Marriott New York Manhattan Upper East Side',\n",
       " 'Howard Johnson Bronx Near Stadium',\n",
       " 'Embassy Suites Newark Airport',\n",
       " 'Hotel 48LEX New York',\n",
       " 'Hilton Garden Inn Tribeca',\n",
       " 'Residence Inn New York The Bronx At Metro Center Atrium',\n",
       " 'Hyatt Place Flushing LaGuardia Airport',\n",
       " 'San Carlos Hotel',\n",
       " 'The Roger',\n",
       " 'Wyndham New Yorker',\n",
       " 'Roxy Hotel Tribeca (formerly the Tribeca Grand Hotel)',\n",
       " 'Courtyard Newark Elizabeth',\n",
       " 'Best Western Bowery Hanbee Hotel',\n",
       " 'The St. Regis New York',\n",
       " 'Crowne Plaza Times Square Manhattan',\n",
       " 'Hudson New York Central Park',\n",
       " 'Hampton Inn New York - LaGuardia Airport',\n",
       " 'Wyndham Garden Chinatown',\n",
       " 'Courtyard New York Manhattan Times Square West',\n",
       " 'The Kitano New York',\n",
       " 'Aloft Harlem',\n",
       " 'Super 8 Brooklyn   Park Slope Hotel',\n",
       " 'Baccarat Hotel and Residences New York',\n",
       " 'The Mark',\n",
       " 'The Out NYC',\n",
       " 'Chelsea Inn',\n",
       " 'Courtyard by Marriott New York Manhattan   Central Park',\n",
       " 'Hilton New York JFK Airport',\n",
       " 'Blakely New York',\n",
       " 'Days Inn Bronx Near Stadium',\n",
       " 'The Benjamin',\n",
       " 'The Shoreham Hotel',\n",
       " 'Jet Luxury at the Trump SoHo',\n",
       " 'TRYP By Wyndham Times Square South',\n",
       " 'Dumont NYC-an Affinia hotel']"
      ]
     },
     "execution_count": 9,
     "metadata": {},
     "output_type": "execute_result"
    }
   ],
   "source": [
    "maxHotel_names"
   ]
  },
  {
   "cell_type": "markdown",
   "metadata": {},
   "source": [
    "#### Adding and filtering the other features"
   ]
  },
  {
   "cell_type": "code",
   "execution_count": null,
   "metadata": {},
   "outputs": [],
   "source": [
    "hotels_data = df.filter(col('Hotel Name').isin(maxHotel_names)).distinct()"
   ]
  },
  {
   "cell_type": "markdown",
   "metadata": {},
   "source": [
    "#### Check"
   ]
  },
  {
   "cell_type": "code",
   "execution_count": null,
   "metadata": {},
   "outputs": [
    {
     "data": {
      "text/plain": [
       "DataFrame[_c0: int, Snapshot ID: int, Snapshot Date: timestamp, Checkin Date: timestamp, Days: int, Original Price: int, Discount Price: int, Discount Code: int, Available Rooms: int, Hotel Name: string, Hotel Stars: int, DayDiff: int, WeekDay: string, DiscountDiff: int, DiscountPerc: double]"
      ]
     },
     "execution_count": 11,
     "metadata": {},
     "output_type": "execute_result"
    }
   ],
   "source": [
    "hotels_data"
   ]
  },
  {
   "cell_type": "code",
   "execution_count": null,
   "metadata": {},
   "outputs": [
    {
     "name": "stdout",
     "output_type": "stream",
     "text": [
      "+----+-----------+-------------------+-------------------+----+--------------+--------------+-------------+---------------+--------------------+-----------+-------+---------+------------+------------------+\n",
      "| _c0|Snapshot ID|      Snapshot Date|       Checkin Date|Days|Original Price|Discount Price|Discount Code|Available Rooms|          Hotel Name|Hotel Stars|DayDiff|  WeekDay|DiscountDiff|      DiscountPerc|\n",
      "+----+-----------+-------------------+-------------------+----+--------------+--------------+-------------+---------------+--------------------+-----------+-------+---------+------------+------------------+\n",
      "| 168|          1|2015-07-17 00:00:00|2015-08-10 00:00:00|   5|          1193|          1102|            1|             -1|Hampton Inn Manha...|          3|     24|   Monday|          91| 7.627829002514669|\n",
      "| 179|          1|2015-07-17 00:00:00|2015-08-19 00:00:00|   5|          1500|          1415|            1|             -1|Courtyard by Marr...|          4|     33|Wednesday|          85| 5.666666666666666|\n",
      "| 986|          1|2015-07-17 00:00:00|2015-08-19 00:00:00|   5|          1466|          1393|            4|             -1|Omni Berkshire Place|          5|     33|Wednesday|          73| 4.979536152796726|\n",
      "|1012|          1|2015-07-17 00:00:00|2015-08-09 00:00:00|   5|          1834|          1782|            4|              5|Gild Hall A Thomp...|          5|     23|   Sunday|          52|2.8353326063249726|\n",
      "|1255|        101|2015-08-16 00:00:00|2015-09-09 00:00:00|   5|          2825|          2565|            1|             14|Smyth A Thompson ...|          5|     24|Wednesday|         260|  9.20353982300885|\n",
      "|1259|        101|2015-08-16 00:00:00|2015-08-25 00:00:00|   5|           925|           850|            1|             14|Magnuson Conventi...|          2|      9|  Tuesday|          75| 8.108108108108109|\n",
      "|1781|        101|2015-08-16 00:00:00|2015-09-07 00:00:00|   5|          4145|          3745|            3|             26|Loews Regency New...|          5|     22|   Monday|         400| 9.650180940892641|\n",
      "|1872|        101|2015-08-16 00:00:00|2015-09-18 00:00:00|   5|          2016|          1876|            3|             -1|Hilton Garden Inn...|          4|     33|   Friday|         140| 6.944444444444445|\n",
      "|2079|        101|2015-08-16 00:00:00|2015-09-17 00:00:00|   5|          1995|          1875|            3|             -1|Cassa Hotel 45th ...|          4|     32| Thursday|         120| 6.015037593984962|\n",
      "|2683|        108|2015-08-17 00:00:00|2015-08-25 00:00:00|   5|          1605|          1440|            2|            170|The Westin New Yo...|          4|      8|  Tuesday|         165|  10.2803738317757|\n",
      "|3252|        108|2015-08-17 00:00:00|2015-09-05 00:00:00|   5|          2114|          1402|            3|             -1|Hampton Inn Manha...|          3|     19| Saturday|         712|33.680227057710496|\n",
      "|3806|         11|2015-07-22 00:00:00|2015-07-31 00:00:00|   5|          2217|          2073|            2|             13|W New York - Unio...|          5|      9|   Friday|         144| 6.495263870094722|\n",
      "|3844|         11|2015-07-22 00:00:00|2015-08-04 00:00:00|   5|          1194|           897|            2|             -1|Newark Liberty In...|          4|     13|  Tuesday|         297| 24.87437185929648|\n",
      "|3999|         11|2015-07-22 00:00:00|2015-08-12 00:00:00|   5|          2304|          2247|            2|              1|Smyth A Thompson ...|          5|     21|Wednesday|          57| 2.473958333333333|\n",
      "|4022|         11|2015-07-22 00:00:00|2015-08-21 00:00:00|   5|           800|           738|            2|             -1|Ramada Long Islan...|          2|     30|   Friday|          62|              7.75|\n",
      "|4121|         11|2015-07-22 00:00:00|2015-07-25 00:00:00|   5|          3900|          3600|            3|              7| Park Hyatt New York|          5|      3| Saturday|         300|7.6923076923076925|\n",
      "|4122|         11|2015-07-22 00:00:00|2015-07-28 00:00:00|   5|          3900|          3600|            3|              7| Park Hyatt New York|          5|      6|  Tuesday|         300|7.6923076923076925|\n",
      "|4132|         11|2015-07-22 00:00:00|2015-08-11 00:00:00|   5|          3763|          3455|            3|             39| Park Hyatt New York|          5|     20|  Tuesday|         308| 8.184958809460536|\n",
      "|4251|         11|2015-07-22 00:00:00|2015-08-25 00:00:00|   5|          1186|          1134|            3|             48|Hyatt Herald Squa...|          4|     34|  Tuesday|          52|4.3844856661045535|\n",
      "|4547|         11|2015-07-22 00:00:00|2015-08-20 00:00:00|   5|          1248|          1141|            4|             -1|Hampton Inn Manha...|          3|     29| Thursday|         107| 8.573717948717949|\n",
      "+----+-----------+-------------------+-------------------+----+--------------+--------------+-------------+---------------+--------------------+-----------+-------+---------+------------+------------------+\n",
      "only showing top 20 rows\n",
      "\n"
     ]
    }
   ],
   "source": [
    "hotels_data.show()"
   ]
  },
  {
   "cell_type": "markdown",
   "metadata": {},
   "source": [
    "## 4.b"
   ]
  },
  {
   "cell_type": "markdown",
   "metadata": {},
   "source": [
    "#### Get the 40 hotels with maximum checkin dates"
   ]
  },
  {
   "cell_type": "code",
   "execution_count": null,
   "metadata": {},
   "outputs": [],
   "source": [
    "# group by checkin and count, with sorting\n",
    "checkin = hotels_data.groupBy('Checkin Date').count().sort(desc('count')).limit(40)"
   ]
  },
  {
   "cell_type": "code",
   "execution_count": null,
   "metadata": {},
   "outputs": [
    {
     "name": "stdout",
     "output_type": "stream",
     "text": [
      "+-------------------+-----+\n",
      "|       Checkin Date|count|\n",
      "+-------------------+-----+\n",
      "|2015-11-11 00:00:00| 2302|\n",
      "|2015-10-14 00:00:00| 1887|\n",
      "|2015-11-04 00:00:00| 1885|\n",
      "|2015-08-19 00:00:00| 1883|\n",
      "|2015-10-28 00:00:00| 1861|\n",
      "|2015-10-21 00:00:00| 1817|\n",
      "|2015-11-06 00:00:00| 1808|\n",
      "|2015-08-12 00:00:00| 1765|\n",
      "|2015-11-05 00:00:00| 1684|\n",
      "|2015-10-22 00:00:00| 1662|\n",
      "|2015-11-12 00:00:00| 1649|\n",
      "|2015-10-29 00:00:00| 1623|\n",
      "|2015-09-10 00:00:00| 1623|\n",
      "|2015-09-09 00:00:00| 1616|\n",
      "|2015-11-18 00:00:00| 1582|\n",
      "|2015-08-26 00:00:00| 1559|\n",
      "|2015-11-10 00:00:00| 1548|\n",
      "|2015-11-13 00:00:00| 1547|\n",
      "|2015-10-15 00:00:00| 1473|\n",
      "|2015-11-21 00:00:00| 1469|\n",
      "+-------------------+-----+\n",
      "only showing top 20 rows\n",
      "\n"
     ]
    }
   ],
   "source": [
    "checkin.show()"
   ]
  },
  {
   "cell_type": "markdown",
   "metadata": {},
   "source": [
    "#### get list of the first (max) 40 checkin dates"
   ]
  },
  {
   "cell_type": "code",
   "execution_count": null,
   "metadata": {},
   "outputs": [],
   "source": [
    "maxCheckin = checkin.toPandas()['Checkin Date'].tolist()"
   ]
  },
  {
   "cell_type": "code",
   "execution_count": null,
   "metadata": {},
   "outputs": [
    {
     "data": {
      "text/plain": [
       "[Timestamp('2015-11-11 00:00:00'),\n",
       " Timestamp('2015-10-14 00:00:00'),\n",
       " Timestamp('2015-11-04 00:00:00'),\n",
       " Timestamp('2015-08-19 00:00:00'),\n",
       " Timestamp('2015-10-28 00:00:00'),\n",
       " Timestamp('2015-10-21 00:00:00'),\n",
       " Timestamp('2015-11-06 00:00:00'),\n",
       " Timestamp('2015-08-12 00:00:00'),\n",
       " Timestamp('2015-11-05 00:00:00'),\n",
       " Timestamp('2015-10-22 00:00:00'),\n",
       " Timestamp('2015-11-12 00:00:00'),\n",
       " Timestamp('2015-10-29 00:00:00'),\n",
       " Timestamp('2015-09-10 00:00:00'),\n",
       " Timestamp('2015-09-09 00:00:00'),\n",
       " Timestamp('2015-11-18 00:00:00'),\n",
       " Timestamp('2015-08-26 00:00:00'),\n",
       " Timestamp('2015-11-10 00:00:00'),\n",
       " Timestamp('2015-11-13 00:00:00'),\n",
       " Timestamp('2015-10-15 00:00:00'),\n",
       " Timestamp('2015-11-21 00:00:00'),\n",
       " Timestamp('2015-09-30 00:00:00'),\n",
       " Timestamp('2015-10-30 00:00:00'),\n",
       " Timestamp('2015-09-16 00:00:00'),\n",
       " Timestamp('2015-09-17 00:00:00'),\n",
       " Timestamp('2015-11-28 00:00:00'),\n",
       " Timestamp('2015-10-01 00:00:00'),\n",
       " Timestamp('2015-11-26 00:00:00'),\n",
       " Timestamp('2015-09-11 00:00:00'),\n",
       " Timestamp('2015-09-18 00:00:00'),\n",
       " Timestamp('2015-10-16 00:00:00'),\n",
       " Timestamp('2015-11-27 00:00:00'),\n",
       " Timestamp('2015-10-02 00:00:00'),\n",
       " Timestamp('2015-10-07 00:00:00'),\n",
       " Timestamp('2015-11-07 00:00:00'),\n",
       " Timestamp('2015-08-28 00:00:00'),\n",
       " Timestamp('2015-08-27 00:00:00'),\n",
       " Timestamp('2015-10-27 00:00:00'),\n",
       " Timestamp('2015-11-03 00:00:00'),\n",
       " Timestamp('2015-08-13 00:00:00'),\n",
       " Timestamp('2015-11-25 00:00:00')]"
      ]
     },
     "execution_count": 16,
     "metadata": {},
     "output_type": "execute_result"
    }
   ],
   "source": [
    "maxCheckin"
   ]
  },
  {
   "cell_type": "markdown",
   "metadata": {},
   "source": [
    "#### Adding and filtering the other features"
   ]
  },
  {
   "cell_type": "code",
   "execution_count": null,
   "metadata": {},
   "outputs": [],
   "source": [
    "hotelsCheckin = hotels_data.filter(col('Checkin Date').isin(maxCheckin)).distinct()"
   ]
  },
  {
   "cell_type": "markdown",
   "metadata": {},
   "source": [
    "#### Check"
   ]
  },
  {
   "cell_type": "code",
   "execution_count": null,
   "metadata": {},
   "outputs": [
    {
     "data": {
      "text/plain": [
       "DataFrame[_c0: int, Snapshot ID: int, Snapshot Date: timestamp, Checkin Date: timestamp, Days: int, Original Price: int, Discount Price: int, Discount Code: int, Available Rooms: int, Hotel Name: string, Hotel Stars: int, DayDiff: int, WeekDay: string, DiscountDiff: int, DiscountPerc: double]"
      ]
     },
     "execution_count": 18,
     "metadata": {},
     "output_type": "execute_result"
    }
   ],
   "source": [
    "hotelsCheckin"
   ]
  },
  {
   "cell_type": "code",
   "execution_count": null,
   "metadata": {},
   "outputs": [],
   "source": [
    "hotelsCheckin= hotelsCheckin.groupBy('Hotel name','Checkin Date', 'Discount Code').min('Discount Price')\n"
   ]
  },
  {
   "cell_type": "code",
   "execution_count": null,
   "metadata": {},
   "outputs": [],
   "source": [
    "hotelsCheckin.show()"
   ]
  },
  {
   "cell_type": "markdown",
   "metadata": {},
   "source": [
    "## 4.c"
   ]
  },
  {
   "cell_type": "markdown",
   "metadata": {},
   "source": [
    "#### We need to take for each checkin the 4 prices for the 4 discount codes, for this we need to make a new table and do join with the table that we already have"
   ]
  },
  {
   "cell_type": "code",
   "execution_count": null,
   "metadata": {},
   "outputs": [],
   "source": [
    "#the unique hotels name\n",
    "names=hotelsCheckin.select('Hotel Name').distinct().collect()"
   ]
  },
  {
   "cell_type": "code",
   "execution_count": null,
   "metadata": {},
   "outputs": [],
   "source": [
    "#the unique hotels name- list\n",
    "namesList= [(row['Hotel Name']) for row in names]"
   ]
  },
  {
   "cell_type": "code",
   "execution_count": null,
   "metadata": {},
   "outputs": [],
   "source": [
    "namesList"
   ]
  },
  {
   "cell_type": "code",
   "execution_count": null,
   "metadata": {},
   "outputs": [],
   "source": [
    "#the unique checking date\n",
    "checkins=hotelsCheckin.select('Checkin Date').distinct().collect()"
   ]
  },
  {
   "cell_type": "code",
   "execution_count": null,
   "metadata": {},
   "outputs": [],
   "source": [
    "#the unique checking date- list\n",
    "checkinsList= [(row['Checkin Date']) for row in checkins]"
   ]
  },
  {
   "cell_type": "code",
   "execution_count": null,
   "metadata": {},
   "outputs": [],
   "source": [
    "checkinsList"
   ]
  },
  {
   "cell_type": "code",
   "execution_count": null,
   "metadata": {},
   "outputs": [],
   "source": [
    "#the unique discount code\n",
    "uniqueCode= [1,2,3,4]"
   ]
  },
  {
   "cell_type": "markdown",
   "metadata": {},
   "source": [
    "#### Build the table that will help us insert the 4 codes for each checkin"
   ]
  },
  {
   "cell_type": "code",
   "execution_count": null,
   "metadata": {},
   "outputs": [],
   "source": [
    "helpTable=[]\n",
    "for x in namesList:\n",
    "    for y in checkinsList:\n",
    "        for z in uniqueCode:\n",
    "            helpTable.append([x, y ,z,-1])"
   ]
  },
  {
   "cell_type": "code",
   "execution_count": null,
   "metadata": {},
   "outputs": [],
   "source": [
    "len(checkinsList)"
   ]
  },
  {
   "cell_type": "markdown",
   "metadata": {},
   "source": [
    "#### Making the schema for dataframe"
   ]
  },
  {
   "cell_type": "code",
   "execution_count": null,
   "metadata": {},
   "outputs": [],
   "source": [
    "from pyspark.sql.types import *\n",
    "import numpy as np"
   ]
  },
  {
   "cell_type": "code",
   "execution_count": null,
   "metadata": {},
   "outputs": [],
   "source": [
    "dfSchema = StructType([StructField(\"Hotel Name\", StringType()),StructField(\"Checkin Date\", DateType()),StructField(\"Discount Code\",  IntegerType()),StructField(\"min(Discount Price)\", LongType())])"
   ]
  },
  {
   "cell_type": "markdown",
   "metadata": {},
   "source": [
    "#### Creating spark dataframe"
   ]
  },
  {
   "cell_type": "code",
   "execution_count": null,
   "metadata": {},
   "outputs": [],
   "source": [
    "s_df= spark.createDataFrame(helpTable, schema=dfSchema)"
   ]
  },
  {
   "cell_type": "code",
   "execution_count": null,
   "metadata": {},
   "outputs": [],
   "source": [
    "s_df.groupby(['Hotel name','Checkin Date','Discount Code']).count().show()"
   ]
  },
  {
   "cell_type": "code",
   "execution_count": null,
   "metadata": {},
   "outputs": [],
   "source": [
    "s_df.count()"
   ]
  },
  {
   "cell_type": "markdown",
   "metadata": {},
   "source": [
    "#### Filter from dataframe that we already have only :Hotel Name, Checkin Date, Discount Code, Discount Price"
   ]
  },
  {
   "cell_type": "code",
   "execution_count": null,
   "metadata": {},
   "outputs": [],
   "source": [
    "#hotels_df=hotelsCheckin.select('Hotel Name', 'Checkin Date','Discount Code', 'Discount Price')"
   ]
  },
  {
   "cell_type": "code",
   "execution_count": null,
   "metadata": {},
   "outputs": [],
   "source": [
    "#hotels_df.groupby(['Hotel Name', 'Checkin Date','Discount Code']).count().show()"
   ]
  },
  {
   "cell_type": "markdown",
   "metadata": {},
   "source": [
    "#### Union the dataframe with the table that we build"
   ]
  },
  {
   "cell_type": "code",
   "execution_count": null,
   "metadata": {},
   "outputs": [],
   "source": [
    "all_df=hotelsCheckin.union(s_df)"
   ]
  },
  {
   "cell_type": "code",
   "execution_count": null,
   "metadata": {},
   "outputs": [],
   "source": [
    "all_df.show()"
   ]
  },
  {
   "cell_type": "code",
   "execution_count": null,
   "metadata": {},
   "outputs": [],
   "source": [
    "alldf=all_df.groupby(['Hotel Name','Checkin Date','Discount Code']).max('min(Discount Price)')"
   ]
  },
  {
   "cell_type": "code",
   "execution_count": null,
   "metadata": {},
   "outputs": [],
   "source": [
    "#alldf.show(n=1000)"
   ]
  },
  {
   "cell_type": "code",
   "execution_count": null,
   "metadata": {},
   "outputs": [],
   "source": [
    "alldf"
   ]
  },
  {
   "cell_type": "markdown",
   "metadata": {},
   "source": [
    "#### Group by to order the details"
   ]
  },
  {
   "cell_type": "code",
   "execution_count": null,
   "metadata": {},
   "outputs": [],
   "source": [
    "#all_df = all_df.groupBy('Hotel name','Checkin Date', 'Discount Code').min('Discount Price')"
   ]
  },
  {
   "cell_type": "code",
   "execution_count": null,
   "metadata": {},
   "outputs": [],
   "source": [
    "#all_df.show()"
   ]
  },
  {
   "cell_type": "markdown",
   "metadata": {},
   "source": [
    "#### Partition data by hotel name"
   ]
  },
  {
   "cell_type": "code",
   "execution_count": null,
   "metadata": {},
   "outputs": [],
   "source": [
    "#all_dfparts=alldf.repartition(\"Hotel name\")"
   ]
  },
  {
   "cell_type": "markdown",
   "metadata": {},
   "source": [
    "## 4.d"
   ]
  },
  {
   "cell_type": "markdown",
   "metadata": {},
   "source": [
    "#### Split to two groups:  with price  -1,  without -1(the others)"
   ]
  },
  {
   "cell_type": "code",
   "execution_count": null,
   "metadata": {},
   "outputs": [],
   "source": [
    "groupMinus = alldf.filter(col('max(min(Discount Price))') == -1)\n",
    "groupWithout = alldf.filter(col('max(min(Discount Price))') > -1)"
   ]
  },
  {
   "cell_type": "markdown",
   "metadata": {},
   "source": [
    "### Normalization"
   ]
  },
  {
   "cell_type": "code",
   "execution_count": null,
   "metadata": {},
   "outputs": [],
   "source": [
    "groupWithout.createOrReplaceTempView(\"normalization\")"
   ]
  },
  {
   "cell_type": "markdown",
   "metadata": {},
   "source": [
    "#### Creating SQLContext for SQL converting"
   ]
  },
  {
   "cell_type": "code",
   "execution_count": null,
   "metadata": {},
   "outputs": [],
   "source": [
    "from pyspark.sql import SQLContext\n",
    "from pyspark.sql.window import Window\n",
    "import pyspark.sql.functions as func"
   ]
  },
  {
   "cell_type": "code",
   "execution_count": null,
   "metadata": {},
   "outputs": [],
   "source": [
    "sqlContext = SQLContext(spark)"
   ]
  },
  {
   "cell_type": "markdown",
   "metadata": {},
   "source": [
    "#### Preparing data for normalization"
   ]
  },
  {
   "cell_type": "code",
   "execution_count": null,
   "metadata": {},
   "outputs": [],
   "source": [
    "dataFrame = sqlContext.table(\"normalization\")"
   ]
  },
  {
   "cell_type": "code",
   "execution_count": null,
   "metadata": {},
   "outputs": [],
   "source": [
    "#Partioning data for groups so we can applay function on groups\n",
    "windowSpec = Window.partitionBy(groupWithout['Hotel name']) "
   ]
  },
  {
   "cell_type": "markdown",
   "metadata": {},
   "source": [
    "### Normalize function"
   ]
  },
  {
   "cell_type": "code",
   "execution_count": null,
   "metadata": {},
   "outputs": [],
   "source": [
    "normalize =  ((dataFrame['max(min(Discount Price))'] - func.min(dataFrame['max(min(Discount Price))']).over(windowSpec)) / (func.max(dataFrame['max(min(Discount Price))']).over(windowSpec) - func.min(dataFrame['max(min(Discount Price))']).over(windowSpec)) * 100)"
   ]
  },
  {
   "cell_type": "code",
   "execution_count": null,
   "metadata": {},
   "outputs": [],
   "source": [
    "normalized = dataFrame.select(\n",
    "  dataFrame['Hotel Name'],\n",
    "  dataFrame['Checkin Date'],\n",
    "  dataFrame['Discount Code'],\n",
    "  normalize.alias(\"Normal\"))"
   ]
  },
  {
   "cell_type": "markdown",
   "metadata": {},
   "source": [
    "#### Getting back the values -1"
   ]
  },
  {
   "cell_type": "code",
   "execution_count": null,
   "metadata": {},
   "outputs": [],
   "source": [
    "#Changing column name for same schema\n",
    "groupMinus = groupMinus.withColumnRenamed('max(min(Discount Price))','Normal')"
   ]
  },
  {
   "cell_type": "markdown",
   "metadata": {},
   "source": [
    "#### Union all data frames with sorting"
   ]
  },
  {
   "cell_type": "code",
   "execution_count": null,
   "metadata": {},
   "outputs": [],
   "source": [
    "normalized = normalized.union(groupMinus)\n",
    "normalized = normalized.orderBy(['Hotel name','Checkin Date','Discount Code'])"
   ]
  },
  {
   "cell_type": "code",
   "execution_count": null,
   "metadata": {},
   "outputs": [],
   "source": [
    "from pyspark.sql import functions as F\n",
    "from pyspark.sql import types as T\n",
    "from pyspark.ml.linalg import Vectors,VectorUDT\n",
    "from pyspark.ml.linalg import SparseVector, DenseVector"
   ]
  },
  {
   "cell_type": "code",
   "execution_count": null,
   "metadata": {},
   "outputs": [],
   "source": [
    "to_vector = udf(lambda a: Vectors.dense(a), VectorUDT())"
   ]
  },
  {
   "cell_type": "code",
   "execution_count": null,
   "metadata": {},
   "outputs": [],
   "source": [
    "normalList = normalized.groupBy('Hotel name').agg(F.collect_list('Normal').alias(\"features\"))"
   ]
  },
  {
   "cell_type": "code",
   "execution_count": null,
   "metadata": {},
   "outputs": [],
   "source": [
    "#normal_toList.collect()"
   ]
  },
  {
   "cell_type": "code",
   "execution_count": null,
   "metadata": {},
   "outputs": [],
   "source": [
    "normalList.rdd.map(lambda x: len(x[1])).collect()"
   ]
  },
  {
   "cell_type": "code",
   "execution_count": null,
   "metadata": {},
   "outputs": [],
   "source": [
    "import pandas as pd\n",
    "columns=['Hotel Name']\n",
    "for i in range(1,161):\n",
    "    columns.append(i)\n",
    "df = pd.DataFrame(normalList.rdd.map(lambda x: [x[0]] + x[1]).take(150), columns=columns)\n"
   ]
  },
  {
   "cell_type": "markdown",
   "metadata": {},
   "source": [
    "## 4.e"
   ]
  },
  {
   "cell_type": "markdown",
   "metadata": {},
   "source": [
    "#### We received dataframe that each line represents one hotel and has 161 columns - one for the hotel name and 160 for the normalized prices"
   ]
  },
  {
   "cell_type": "code",
   "execution_count": null,
   "metadata": {},
   "outputs": [],
   "source": [
    "df.head()"
   ]
  },
  {
   "cell_type": "code",
   "execution_count": null,
   "metadata": {},
   "outputs": [],
   "source": [
    "df.columns"
   ]
  },
  {
   "cell_type": "code",
   "execution_count": null,
   "metadata": {},
   "outputs": [],
   "source": [
    "from pyspark.ml.linalg import Vectors\n",
    "from pyspark.ml.feature import VectorAssembler"
   ]
  },
  {
   "cell_type": "code",
   "execution_count": null,
   "metadata": {},
   "outputs": [],
   "source": [
    "#featuresCols = [str(i) for i in range(1,161)]"
   ]
  },
  {
   "cell_type": "code",
   "execution_count": null,
   "metadata": {},
   "outputs": [],
   "source": [
    "#featuresCols"
   ]
  },
  {
   "cell_type": "code",
   "execution_count": null,
   "metadata": {},
   "outputs": [],
   "source": [
    "#vec_assembler= VectorAssembler(inputCols=featuresCols,outputCol='features')"
   ]
  },
  {
   "cell_type": "code",
   "execution_count": null,
   "metadata": {},
   "outputs": [],
   "source": [
    "df['Hotel Name'].count()"
   ]
  },
  {
   "cell_type": "markdown",
   "metadata": {},
   "source": [
    "## 4.f"
   ]
  },
  {
   "cell_type": "markdown",
   "metadata": {},
   "source": [
    "#### Drawing the dendrogram"
   ]
  },
  {
   "cell_type": "code",
   "execution_count": null,
   "metadata": {},
   "outputs": [],
   "source": [
    "from scipy.cluster.hierarchy import linkage, dendrogram, fcluster\n",
    "from itertools import islice \n",
    "from matplotlib import pyplot as plt\n"
   ]
  },
  {
   "cell_type": "markdown",
   "metadata": {},
   "source": [
    "#### if we have in data frame nan replace in -1 (for check)"
   ]
  },
  {
   "cell_type": "code",
   "execution_count": null,
   "metadata": {},
   "outputs": [],
   "source": [
    "df=df.fillna(-1)"
   ]
  },
  {
   "cell_type": "markdown",
   "metadata": {},
   "source": [
    "#### Insert to dist linkage - the table only values (without hotelnames)  ,uses the Ward variance minimization algorithm- algorithm 'word' "
   ]
  },
  {
   "cell_type": "code",
   "execution_count": null,
   "metadata": {},
   "outputs": [],
   "source": [
    "dist = linkage(df.iloc[:, 1:],'ward')\n",
    "type(dist)\n",
    "#how classes and how hotels\n",
    "dist.shape"
   ]
  },
  {
   "cell_type": "markdown",
   "metadata": {},
   "source": [
    "#### Drawing -dendrogram"
   ]
  },
  {
   "cell_type": "code",
   "execution_count": null,
   "metadata": {
    "scrolled": true
   },
   "outputs": [],
   "source": [
    "plt.figure(figsize=(20,10))\n",
    "plt.title('Hierarchical Clustering')\n",
    "plt.ylabel('Distance')\n",
    "dendrogram(dist, labels=df['Hotel Name'].tolist(), leaf_rotation=90,leaf_font_size=8)\n",
    "plt.show()"
   ]
  },
  {
   "cell_type": "code",
   "execution_count": null,
   "metadata": {},
   "outputs": [],
   "source": []
  }
 ],
 "metadata": {
  "kernelspec": {
   "display_name": "Python 3",
   "language": "python",
   "name": "python3"
  },
  "language_info": {
   "codemirror_mode": {
    "name": "ipython",
    "version": 3
   },
   "file_extension": ".py",
   "mimetype": "text/x-python",
   "name": "python",
   "nbconvert_exporter": "python",
   "pygments_lexer": "ipython3",
   "version": "3.7.1"
  }
 },
 "nbformat": 4,
 "nbformat_minor": 2
}
