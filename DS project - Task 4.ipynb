{
 "cells": [
  {
   "cell_type": "markdown",
   "metadata": {},
   "source": [
    "# Data Sience Project - Task 4"
   ]
  },
  {
   "cell_type": "markdown",
   "metadata": {},
   "source": [
    "### Spark with Clustering (task 3 in spark)"
   ]
  },
  {
   "cell_type": "code",
   "execution_count": 461,
   "metadata": {},
   "outputs": [],
   "source": [
    "import findspark\n",
    "findspark.init()\n",
    "\n",
    "import pyspark # only run after findspark.init()\n",
    "from pyspark.sql import SparkSession\n",
    "from pyspark.sql.functions import desc\n",
    "from pyspark.sql.types import *\n",
    "from pyspark.sql import SQLContext\n",
    "from pyspark.sql.window import Window\n",
    "import pyspark.sql.functions as func"
   ]
  },
  {
   "cell_type": "code",
   "execution_count": 462,
   "metadata": {},
   "outputs": [],
   "source": [
    "spark = SparkSession.builder.appName('clustering_in_spark').getOrCreate()"
   ]
  },
  {
   "cell_type": "markdown",
   "metadata": {},
   "source": [
    "#### Read data from csv"
   ]
  },
  {
   "cell_type": "code",
   "execution_count": 463,
   "metadata": {},
   "outputs": [],
   "source": [
    "df=spark.read.csv('hotels_data.csv',inferSchema=True,header=True)"
   ]
  },
  {
   "cell_type": "code",
   "execution_count": 464,
   "metadata": {},
   "outputs": [
    {
     "name": "stdout",
     "output_type": "stream",
     "text": [
      "root\n",
      " |-- Snapshot ID: integer (nullable = true)\n",
      " |-- Snapshot Date: string (nullable = true)\n",
      " |-- Checkin Date: string (nullable = true)\n",
      " |-- Days: integer (nullable = true)\n",
      " |-- Original Price: integer (nullable = true)\n",
      " |-- Discount Price: integer (nullable = true)\n",
      " |-- Discount Code: integer (nullable = true)\n",
      " |-- Available Rooms: integer (nullable = true)\n",
      " |-- Hotel Name: string (nullable = true)\n",
      " |-- Hotel Stars: integer (nullable = true)\n",
      "\n"
     ]
    }
   ],
   "source": [
    "df.printSchema()"
   ]
  },
  {
   "cell_type": "markdown",
   "metadata": {},
   "source": [
    "## 4.a"
   ]
  },
  {
   "cell_type": "code",
   "execution_count": 465,
   "metadata": {},
   "outputs": [],
   "source": [
    "from pyspark.sql.functions import udf, col\n",
    "from datetime import datetime\n",
    "from pyspark.sql.types import DateType, IntegerType\n",
    "from pyspark.sql.functions import desc"
   ]
  },
  {
   "cell_type": "markdown",
   "metadata": {},
   "source": [
    "#### Converts string to date - function"
   ]
  },
  {
   "cell_type": "code",
   "execution_count": 466,
   "metadata": {},
   "outputs": [],
   "source": [
    "def str_date(str):    \n",
    "    return datetime.strptime(str, '%m/%d/%Y %H:%M')"
   ]
  },
  {
   "cell_type": "markdown",
   "metadata": {},
   "source": [
    "#### Convert function to pyspark function"
   ]
  },
  {
   "cell_type": "code",
   "execution_count": 467,
   "metadata": {},
   "outputs": [],
   "source": [
    "toDate = udf(str_date, DateType())"
   ]
  },
  {
   "cell_type": "markdown",
   "metadata": {},
   "source": [
    "#### Converts date columns to dates"
   ]
  },
  {
   "cell_type": "code",
   "execution_count": 468,
   "metadata": {},
   "outputs": [],
   "source": [
    "# convert \"checking_date\" and \"snapshot_date\" to date types\n",
    "df_dates = df.withColumn(\"checkin_date\", toDate(col(\"Checkin Date\")))\n",
    "df_dates = df_dates.withColumn(\"snapshot_date\", toDate(col(\"Snapshot Date\")))"
   ]
  },
  {
   "cell_type": "code",
   "execution_count": 469,
   "metadata": {},
   "outputs": [
    {
     "name": "stdout",
     "output_type": "stream",
     "text": [
      "root\n",
      " |-- Snapshot ID: integer (nullable = true)\n",
      " |-- Snapshot Date: string (nullable = true)\n",
      " |-- Checkin Date: string (nullable = true)\n",
      " |-- Days: integer (nullable = true)\n",
      " |-- Original Price: integer (nullable = true)\n",
      " |-- Discount Price: integer (nullable = true)\n",
      " |-- Discount Code: integer (nullable = true)\n",
      " |-- Available Rooms: integer (nullable = true)\n",
      " |-- Hotel Name: string (nullable = true)\n",
      " |-- Hotel Stars: integer (nullable = true)\n",
      " |-- checkin_date: date (nullable = true)\n",
      " |-- snapshot_date: date (nullable = true)\n",
      "\n"
     ]
    }
   ],
   "source": [
    "df_dates.printSchema()"
   ]
  },
  {
   "cell_type": "markdown",
   "metadata": {},
   "source": [
    "#### Get the 150 hotels with maximum records"
   ]
  },
  {
   "cell_type": "code",
   "execution_count": 470,
   "metadata": {},
   "outputs": [],
   "source": [
    "# group by hotel name and count,with sortig \n",
    "hotel_names = df_dates.groupBy('Hotel Name').count().sort(desc('count')).limit(150)"
   ]
  },
  {
   "cell_type": "markdown",
   "metadata": {},
   "source": [
    "#### Get list of the first (max) 150 hotels"
   ]
  },
  {
   "cell_type": "code",
   "execution_count": 471,
   "metadata": {},
   "outputs": [],
   "source": [
    "maxHotel_names = hotel_names.toPandas()['Hotel Name'].tolist()"
   ]
  },
  {
   "cell_type": "code",
   "execution_count": 472,
   "metadata": {},
   "outputs": [
    {
     "data": {
      "text/plain": [
       "['Newark Liberty International Airport Marriott',\n",
       " 'Hilton Garden Inn Times Square',\n",
       " 'Residence Inn Newark Elizabeth Liberty International Airport',\n",
       " 'Westin New York at Times Square',\n",
       " 'Loews Regency New York Hotel',\n",
       " 'Viceroy New York',\n",
       " 'Four Seasons Hotel New York',\n",
       " 'Langham Place New York Fifth Avenue',\n",
       " 'The Carlyle A Rosewood Hotel',\n",
       " 'DoubleTree by Hilton Metropolitan - New York City',\n",
       " 'Magnuson Convention Center Hotel',\n",
       " 'Hilton Garden Inn New York West 35th Street',\n",
       " 'Hilton Garden Inn New York-Times Square Central',\n",
       " 'Conrad New York',\n",
       " 'Wyndham Garden Brooklyn Sunset Park',\n",
       " 'Hilton Newark Airport',\n",
       " 'Omni Berkshire Place',\n",
       " 'Hilton Times Square',\n",
       " 'Park Hyatt New York',\n",
       " 'Homewood Suites by Hilton NY Midtown Manhattan Times Square',\n",
       " 'Grand Hyatt New York',\n",
       " 'The Plaza Hotel',\n",
       " 'Quality Inn Woodside',\n",
       " 'Hyatt Union Square New York',\n",
       " 'Le Parker Meridien New York',\n",
       " 'The New York EDITION',\n",
       " 'W New York - Union Square',\n",
       " 'Renaissance Newark Airport Hotel',\n",
       " 'Hampton Inn New York - 35th Street - Empire State Building',\n",
       " 'The Lexington New York City Autograph Collection',\n",
       " 'The Roosevelt Hotel New York City',\n",
       " 'Hilton Garden Inn New York Midtown Park Ave',\n",
       " 'McCarren Hotel & Pool',\n",
       " 'Hyatt Herald Square New York',\n",
       " 'Cassa Hotel 45th Street',\n",
       " 'Martha Washington',\n",
       " 'W New York Times Square',\n",
       " 'Hyatt Place New York Midtown South',\n",
       " 'DoubleTree by Hilton Hotel Newark Airport',\n",
       " 'Hampton Inn Manhattan United Nations',\n",
       " 'Millenium Hilton',\n",
       " 'Hampton Inn Madison Square Garden Area Hotel',\n",
       " 'The Towers of the Waldorf Astoria New York',\n",
       " 'Smyth A Thompson Hotel',\n",
       " 'DoubleTree by Hilton New York City - Chelsea',\n",
       " 'DoubleTree by Hilton New York City - Financial District',\n",
       " 'Hampton Inn Manhattan Soho',\n",
       " 'Hilton Garden Inn New York Manhattan-Midtown East',\n",
       " 'Hampton Inn Manhattan Downtown-Financial District',\n",
       " 'Red Carpet Inn New York City',\n",
       " 'Hampton Inn Manhattan Times Square Central',\n",
       " 'Hilton Garden Inn New York Central Park South-Midtown West',\n",
       " 'Andaz 5th Avenue - a concept by Hyatt',\n",
       " 'Hilton Garden Inn New York Manhattan-Chelsea',\n",
       " 'Gild Hall A Thompson Hotel',\n",
       " 'Hilton Manhattan East',\n",
       " 'Waldorf Astoria New York',\n",
       " 'Sheraton New York Times Square Hotel',\n",
       " 'Hampton Inn Manhattan-Seaport-Financial District',\n",
       " 'Fairfield Inn by Marriott LaGuardia Airport Flushing',\n",
       " 'W New York - Downtown',\n",
       " 'Hilton New York Fashion District',\n",
       " 'Hyatt Times Square New York',\n",
       " 'Hampton Inn Manhattan Times Square South',\n",
       " 'New York Marriott at the Brooklyn Bridge',\n",
       " 'New York Marriott Downtown',\n",
       " 'Hilton Garden Inn New York Long Island City',\n",
       " 'Manhattan NYC-an Affinia hotel',\n",
       " 'The Muse Hotel a Kimpton Hotel',\n",
       " 'New York Hilton Midtown',\n",
       " 'W New York',\n",
       " 'Andaz Wall Street - a concept by Hyatt',\n",
       " 'United Nations Apartment Hotel',\n",
       " 'The Westin New York Grand Central',\n",
       " 'The Peninsula New York',\n",
       " 'NOMO SOHO',\n",
       " 'Home2 Suites by Hilton NY Long Island City Manhattan View',\n",
       " 'The Standard East Village',\n",
       " 'DoubleTree Suites by Hilton New York City - Times Square',\n",
       " 'SpringHill Suites by Marriott Newark Liberty International',\n",
       " 'Eventi Hotel a Kimpton Hotel',\n",
       " 'Hampton Inn New York Chelsea',\n",
       " 'Comfort Inn Times Square South Area',\n",
       " 'The Pearl New York',\n",
       " 'DoubleTree by Hilton Hotel New York - Times Square South',\n",
       " 'The Chatwal a Luxury Collection Hotel New York City',\n",
       " 'Howard Johnson Inn Jamaica JFK Airport NYC',\n",
       " 'Hampton Inn & Suites Staten Island',\n",
       " 'Howard Johnson Flushing',\n",
       " 'Ramada Long Island City',\n",
       " 'SIXTY Lower East Side',\n",
       " 'Courtyard by Marriott New York Manhattan SoHo',\n",
       " 'Best Western Bayside Inn',\n",
       " 'Quality Inn Convention Center',\n",
       " 'Courtyard by Marriott New York Manhattan Times Square',\n",
       " 'Sheraton LaGuardia East Hotel',\n",
       " 'The Premier Hotel New York',\n",
       " 'Hampton Inn JFK Airport',\n",
       " 'Radisson Martinique on Broadway',\n",
       " 'GEM Hotel - Chelsea an Ascend Hotel Collection Member',\n",
       " 'Residence Inn by Marriott New York Manhattan Midtown East',\n",
       " 'The High Line Hotel',\n",
       " 'Holiday Inn New York JFK Airport Area',\n",
       " 'Courtyard by Marriott New York City Manhattan Fifth Avenue',\n",
       " 'New York Marriott East Side',\n",
       " 'The SunBright',\n",
       " 'Hampton Inn Times Square North',\n",
       " 'Shelburne NYC-an Affinia hotel',\n",
       " 'The Lombardy',\n",
       " 'Wyndham Garden - Manhattan Chelsea West',\n",
       " 'Wyndham Garden Long Island City Manhattan View',\n",
       " 'Best Western Plus Newark Airport West',\n",
       " 'Best Western Plus Arena Hotel',\n",
       " 'Bentley Hotel',\n",
       " 'ink48 hotel a Kimpton Hotel',\n",
       " 'Courtyard by Marriott New York Manhattan Upper East Side',\n",
       " 'Howard Johnson Bronx Near Stadium',\n",
       " 'Embassy Suites Newark Airport',\n",
       " 'Hotel 48LEX New York',\n",
       " 'Hilton Garden Inn Tribeca',\n",
       " 'Residence Inn New York The Bronx At Metro Center Atrium',\n",
       " 'Hyatt Place Flushing LaGuardia Airport',\n",
       " 'San Carlos Hotel',\n",
       " 'The Roger',\n",
       " 'Wyndham New Yorker',\n",
       " 'Roxy Hotel Tribeca (formerly the Tribeca Grand Hotel)',\n",
       " 'Courtyard Newark Elizabeth',\n",
       " 'The St. Regis New York',\n",
       " 'Best Western Bowery Hanbee Hotel',\n",
       " 'Crowne Plaza Times Square Manhattan',\n",
       " 'Hudson New York Central Park',\n",
       " 'Hampton Inn New York - LaGuardia Airport',\n",
       " 'Wyndham Garden Chinatown',\n",
       " 'Courtyard New York Manhattan Times Square West',\n",
       " 'The Kitano New York',\n",
       " 'Aloft Harlem',\n",
       " 'Super 8 Brooklyn   Park Slope Hotel',\n",
       " 'Baccarat Hotel and Residences New York',\n",
       " 'The Mark',\n",
       " 'Chelsea Inn',\n",
       " 'The Out NYC',\n",
       " 'Courtyard by Marriott New York Manhattan   Central Park',\n",
       " 'Blakely New York',\n",
       " 'Hilton New York JFK Airport',\n",
       " 'Days Inn Bronx Near Stadium',\n",
       " 'The Benjamin',\n",
       " 'The Shoreham Hotel',\n",
       " 'Jet Luxury at the Trump SoHo',\n",
       " 'Dumont NYC-an Affinia hotel',\n",
       " 'TRYP By Wyndham Times Square South']"
      ]
     },
     "execution_count": 472,
     "metadata": {},
     "output_type": "execute_result"
    }
   ],
   "source": [
    "maxHotel_names"
   ]
  },
  {
   "cell_type": "markdown",
   "metadata": {},
   "source": [
    "#### Adding and filtering the other features"
   ]
  },
  {
   "cell_type": "code",
   "execution_count": 473,
   "metadata": {},
   "outputs": [],
   "source": [
    "hotels_data = df_dates.filter(col('Hotel Name').isin(maxHotel_names))"
   ]
  },
  {
   "cell_type": "markdown",
   "metadata": {},
   "source": [
    "#### Check"
   ]
  },
  {
   "cell_type": "code",
   "execution_count": 474,
   "metadata": {},
   "outputs": [
    {
     "data": {
      "text/plain": [
       "DataFrame[Snapshot ID: int, Snapshot Date: string, Checkin Date: string, Days: int, Original Price: int, Discount Price: int, Discount Code: int, Available Rooms: int, Hotel Name: string, Hotel Stars: int, checkin_date: date, snapshot_date: date]"
      ]
     },
     "execution_count": 474,
     "metadata": {},
     "output_type": "execute_result"
    }
   ],
   "source": [
    "hotels_data"
   ]
  },
  {
   "cell_type": "markdown",
   "metadata": {},
   "source": [
    "## 4.b"
   ]
  },
  {
   "cell_type": "code",
   "execution_count": 475,
   "metadata": {},
   "outputs": [],
   "source": [
    "# group by checkin and count, with sorting\n",
    "checkin = hotels_data.groupBy('Checkin Date').count().sort(desc('count')).limit(40)"
   ]
  },
  {
   "cell_type": "code",
   "execution_count": 476,
   "metadata": {},
   "outputs": [
    {
     "data": {
      "text/plain": [
       "DataFrame[Checkin Date: string, count: bigint]"
      ]
     },
     "execution_count": 476,
     "metadata": {},
     "output_type": "execute_result"
    }
   ],
   "source": [
    "checkin"
   ]
  },
  {
   "cell_type": "markdown",
   "metadata": {},
   "source": [
    "#### get list of the first (max) 40 checkin dates"
   ]
  },
  {
   "cell_type": "code",
   "execution_count": 477,
   "metadata": {},
   "outputs": [],
   "source": [
    "maxCheckin = checkin.toPandas()['Checkin Date'].tolist()"
   ]
  },
  {
   "cell_type": "code",
   "execution_count": 478,
   "metadata": {},
   "outputs": [
    {
     "data": {
      "text/plain": [
       "['11/11/2015 0:00',\n",
       " '10/14/2015 0:00',\n",
       " '11/4/2015 0:00',\n",
       " '8/19/2015 0:00',\n",
       " '10/28/2015 0:00',\n",
       " '10/21/2015 0:00',\n",
       " '11/6/2015 0:00',\n",
       " '8/12/2015 0:00',\n",
       " '11/5/2015 0:00',\n",
       " '10/22/2015 0:00',\n",
       " '11/12/2015 0:00',\n",
       " '10/29/2015 0:00',\n",
       " '9/10/2015 0:00',\n",
       " '9/9/2015 0:00',\n",
       " '11/18/2015 0:00',\n",
       " '8/26/2015 0:00',\n",
       " '11/10/2015 0:00',\n",
       " '11/13/2015 0:00',\n",
       " '10/15/2015 0:00',\n",
       " '11/21/2015 0:00',\n",
       " '9/30/2015 0:00',\n",
       " '10/30/2015 0:00',\n",
       " '9/16/2015 0:00',\n",
       " '9/17/2015 0:00',\n",
       " '11/28/2015 0:00',\n",
       " '10/1/2015 0:00',\n",
       " '11/26/2015 0:00',\n",
       " '9/11/2015 0:00',\n",
       " '9/18/2015 0:00',\n",
       " '10/16/2015 0:00',\n",
       " '11/27/2015 0:00',\n",
       " '10/2/2015 0:00',\n",
       " '10/7/2015 0:00',\n",
       " '11/7/2015 0:00',\n",
       " '8/28/2015 0:00',\n",
       " '8/27/2015 0:00',\n",
       " '10/27/2015 0:00',\n",
       " '11/3/2015 0:00',\n",
       " '8/13/2015 0:00',\n",
       " '11/25/2015 0:00']"
      ]
     },
     "execution_count": 478,
     "metadata": {},
     "output_type": "execute_result"
    }
   ],
   "source": [
    "maxCheckin"
   ]
  },
  {
   "cell_type": "markdown",
   "metadata": {},
   "source": [
    "#### Adding and filtering the other features"
   ]
  },
  {
   "cell_type": "code",
   "execution_count": 479,
   "metadata": {},
   "outputs": [],
   "source": [
    "hotelsCheckin = hotels_data.filter(col('Checkin Date').isin(maxCheckin))"
   ]
  },
  {
   "cell_type": "markdown",
   "metadata": {},
   "source": [
    "#### Check"
   ]
  },
  {
   "cell_type": "code",
   "execution_count": 480,
   "metadata": {},
   "outputs": [
    {
     "data": {
      "text/plain": [
       "DataFrame[Snapshot ID: int, Snapshot Date: string, Checkin Date: string, Days: int, Original Price: int, Discount Price: int, Discount Code: int, Available Rooms: int, Hotel Name: string, Hotel Stars: int, checkin_date: date, snapshot_date: date]"
      ]
     },
     "execution_count": 480,
     "metadata": {},
     "output_type": "execute_result"
    }
   ],
   "source": [
    "hotelsCheckin"
   ]
  },
  {
   "cell_type": "markdown",
   "metadata": {},
   "source": [
    "## 4.c"
   ]
  },
  {
   "cell_type": "markdown",
   "metadata": {},
   "source": [
    "#### We need to take for each checkin the 4 prices for the 4 discount codes, for this we need to make a new table and do join with the table that we already have"
   ]
  },
  {
   "cell_type": "code",
   "execution_count": null,
   "metadata": {},
   "outputs": [],
   "source": [
    "#the unique hotels name\n",
    "names=hotelsCheckin.select('Hotel Name').distinct().collect()"
   ]
  },
  {
   "cell_type": "code",
   "execution_count": null,
   "metadata": {},
   "outputs": [],
   "source": [
    "#the unique hotels name- list\n",
    "namesList= [(row['Hotel Name']) for row in names]"
   ]
  },
  {
   "cell_type": "code",
   "execution_count": null,
   "metadata": {},
   "outputs": [],
   "source": [
    "namesList"
   ]
  },
  {
   "cell_type": "code",
   "execution_count": null,
   "metadata": {},
   "outputs": [],
   "source": [
    "#the unique checking date\n",
    "checkins=hotelsCheckin.select('Checkin Date').distinct().collect()"
   ]
  },
  {
   "cell_type": "code",
   "execution_count": null,
   "metadata": {},
   "outputs": [],
   "source": [
    "#the unique checking date- list\n",
    "checkinsList= [(row['Checkin Date']) for row in checkins]"
   ]
  },
  {
   "cell_type": "code",
   "execution_count": null,
   "metadata": {},
   "outputs": [],
   "source": [
    "checkinsList"
   ]
  },
  {
   "cell_type": "code",
   "execution_count": null,
   "metadata": {},
   "outputs": [],
   "source": [
    "#the unique discount code\n",
    "uniqueCode= [1,2,3,4]"
   ]
  },
  {
   "cell_type": "markdown",
   "metadata": {},
   "source": [
    "#### Build the table that will help us insert the 4 codes for each checkin"
   ]
  },
  {
   "cell_type": "code",
   "execution_count": null,
   "metadata": {},
   "outputs": [],
   "source": [
    "helpTable=[]\n",
    "for x in namesList:\n",
    "    for y in checkinsList:\n",
    "        for z in uniqueCode:\n",
    "            helpTable.append([x, y ,z,-1])"
   ]
  },
  {
   "cell_type": "code",
   "execution_count": null,
   "metadata": {},
   "outputs": [],
   "source": [
    "helpTable"
   ]
  },
  {
   "cell_type": "markdown",
   "metadata": {},
   "source": [
    "#### Making the schema for dataframe"
   ]
  },
  {
   "cell_type": "code",
   "execution_count": null,
   "metadata": {},
   "outputs": [],
   "source": [
    "dfSchema = StructType([StructField(\"Hotel Name\", StringType()),StructField(\"Checkin Date\", StringType()),StructField(\"Discount Code\",  IntegerType()),StructField(\"Discount Price\", LongType())])"
   ]
  },
  {
   "cell_type": "markdown",
   "metadata": {},
   "source": [
    "#### Creating spark dataframe"
   ]
  },
  {
   "cell_type": "code",
   "execution_count": null,
   "metadata": {},
   "outputs": [],
   "source": [
    "s_df= spark.createDataFrame(helpTable, schema=dfSchema)"
   ]
  },
  {
   "cell_type": "code",
   "execution_count": null,
   "metadata": {},
   "outputs": [],
   "source": [
    "s_df = s_df.withColumn(\"Checkin Date\", toDate(col(\"Checkin Date\")))"
   ]
  },
  {
   "cell_type": "code",
   "execution_count": null,
   "metadata": {},
   "outputs": [],
   "source": [
    "s_df"
   ]
  },
  {
   "cell_type": "markdown",
   "metadata": {},
   "source": [
    "#### Filter from dataframe that we already have only :Hotel Name, Checkin Date, Discount Code, Discount Price"
   ]
  },
  {
   "cell_type": "code",
   "execution_count": null,
   "metadata": {},
   "outputs": [],
   "source": [
    "hotels_df=hotelsCheckin.select('Hotel Name', 'checkin_date','Discount Code', 'Discount Price')"
   ]
  },
  {
   "cell_type": "markdown",
   "metadata": {},
   "source": [
    "#### Union the dataframe with the table that we build"
   ]
  },
  {
   "cell_type": "code",
   "execution_count": null,
   "metadata": {},
   "outputs": [],
   "source": [
    "all_df=s_df.union(hotels_df)"
   ]
  },
  {
   "cell_type": "code",
   "execution_count": null,
   "metadata": {},
   "outputs": [],
   "source": [
    "all_df"
   ]
  },
  {
   "cell_type": "markdown",
   "metadata": {},
   "source": [
    "#### Group by to order the details"
   ]
  },
  {
   "cell_type": "code",
   "execution_count": null,
   "metadata": {},
   "outputs": [],
   "source": [
    "all_df = all_df.groupBy('Hotel name','Checkin Date', 'Discount Code').min('Discount Price')"
   ]
  },
  {
   "cell_type": "code",
   "execution_count": null,
   "metadata": {},
   "outputs": [],
   "source": [
    "all_df"
   ]
  },
  {
   "cell_type": "markdown",
   "metadata": {},
   "source": [
    "#### Partition data by hotel name"
   ]
  },
  {
   "cell_type": "code",
   "execution_count": null,
   "metadata": {},
   "outputs": [],
   "source": [
    "all_dfparts=all_df.repartition(\"Hotel name\")"
   ]
  },
  {
   "cell_type": "markdown",
   "metadata": {},
   "source": [
    "## 4.d"
   ]
  },
  {
   "cell_type": "markdown",
   "metadata": {},
   "source": [
    "#### Split to two groups:  with price  -1,  without -1(the others)"
   ]
  },
  {
   "cell_type": "code",
   "execution_count": null,
   "metadata": {},
   "outputs": [],
   "source": [
    "groupMinus = all_df.filter(col('min(Discount Price)') == -1)\n",
    "groupWithout = all_df.filter(col('min(Discount Price)') > -1)"
   ]
  },
  {
   "cell_type": "markdown",
   "metadata": {},
   "source": [
    "### Normalization"
   ]
  },
  {
   "cell_type": "code",
   "execution_count": null,
   "metadata": {},
   "outputs": [],
   "source": [
    "groupWithout.createOrReplaceTempView(\"normalization\")"
   ]
  },
  {
   "cell_type": "markdown",
   "metadata": {},
   "source": [
    "#### Creating SQLContext for SQL converting"
   ]
  },
  {
   "cell_type": "code",
   "execution_count": null,
   "metadata": {},
   "outputs": [],
   "source": [
    "sqlContext = SQLContext(spark)"
   ]
  },
  {
   "cell_type": "markdown",
   "metadata": {},
   "source": [
    "#### Preparing data for normalization"
   ]
  },
  {
   "cell_type": "code",
   "execution_count": null,
   "metadata": {},
   "outputs": [],
   "source": [
    "dataFrame = sqlContext.table(\"normalization\")"
   ]
  },
  {
   "cell_type": "code",
   "execution_count": null,
   "metadata": {},
   "outputs": [],
   "source": [
    "#Partioning data for groups so we can applay function on groups\n",
    "windowSpec = Window.partitionBy(groupWithout['Hotel name']) "
   ]
  },
  {
   "cell_type": "markdown",
   "metadata": {},
   "source": [
    "### Normalize function"
   ]
  },
  {
   "cell_type": "code",
   "execution_count": null,
   "metadata": {},
   "outputs": [],
   "source": [
    "normalize =  ((dataFrame['min(Discount Price)'] - func.min(dataFrame['min(Discount Price)']).over(windowSpec)) / (func.max(dataFrame['min(Discount Price)']).over(windowSpec) - func.min(dataFrame['min(Discount Price)']).over(windowSpec)) * 100)"
   ]
  },
  {
   "cell_type": "code",
   "execution_count": null,
   "metadata": {},
   "outputs": [],
   "source": [
    "normalized = dataFrame.select(\n",
    "  dataFrame['Hotel Name'],\n",
    "  dataFrame['Checkin Date'],\n",
    "  dataFrame['Discount Code'],\n",
    "  normalize.alias(\"Normal\"))"
   ]
  },
  {
   "cell_type": "markdown",
   "metadata": {},
   "source": [
    "#### Getting back the values -1"
   ]
  },
  {
   "cell_type": "code",
   "execution_count": null,
   "metadata": {},
   "outputs": [],
   "source": [
    "#Changing column name for same schema\n",
    "groupMinus = groupMinus.withColumnRenamed('min(Discount Price)','Normal')"
   ]
  },
  {
   "cell_type": "markdown",
   "metadata": {},
   "source": [
    "#### Union all data frames with sorting"
   ]
  },
  {
   "cell_type": "code",
   "execution_count": null,
   "metadata": {},
   "outputs": [],
   "source": [
    "normalized = normalized.union(groupMinus)\n",
    "normalized = normalized.orderBy(['Hotel name','Checkin Date','Discount Code'])"
   ]
  },
  {
   "cell_type": "code",
   "execution_count": null,
   "metadata": {},
   "outputs": [],
   "source": [
    "from pyspark.sql import functions as F\n",
    "from pyspark.sql import types as T"
   ]
  },
  {
   "cell_type": "code",
   "execution_count": null,
   "metadata": {},
   "outputs": [],
   "source": [
    "normal_toList = normalized.groupBy('Hotel name').agg(F.collect_list('Normal').alias(\"Normal\"))"
   ]
  },
  {
   "cell_type": "code",
   "execution_count": null,
   "metadata": {},
   "outputs": [],
   "source": [
    "#parsing to df \n",
    "all_hotels =  normal_toList.select([normal_toList[\"Hotel name\"]] +  [normal_toList.Normal[i] for i in range(160)])"
   ]
  },
  {
   "cell_type": "code",
   "execution_count": null,
   "metadata": {},
   "outputs": [],
   "source": [
    "all_hotels"
   ]
  },
  {
   "cell_type": "code",
   "execution_count": null,
   "metadata": {},
   "outputs": [],
   "source": []
  }
 ],
 "metadata": {
  "kernelspec": {
   "display_name": "Python 3",
   "language": "python",
   "name": "python3"
  },
  "language_info": {
   "codemirror_mode": {
    "name": "ipython",
    "version": 3
   },
   "file_extension": ".py",
   "mimetype": "text/x-python",
   "name": "python",
   "nbconvert_exporter": "python",
   "pygments_lexer": "ipython3",
   "version": "3.7.1"
  }
 },
 "nbformat": 4,
 "nbformat_minor": 2
}
