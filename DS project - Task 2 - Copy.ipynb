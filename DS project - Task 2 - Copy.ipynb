{
 "cells": [
  {
   "cell_type": "markdown",
   "metadata": {},
   "source": [
    "# Data Sience Project - Task 2  "
   ]
  },
  {
   "cell_type": "code",
   "execution_count": 1,
   "metadata": {},
   "outputs": [],
   "source": [
    "import pandas as pd\n",
    "import numpy as np"
   ]
  },
  {
   "cell_type": "code",
   "execution_count": 2,
   "metadata": {},
   "outputs": [
    {
     "data": {
      "text/html": [
       "<div>\n",
       "<style scoped>\n",
       "    .dataframe tbody tr th:only-of-type {\n",
       "        vertical-align: middle;\n",
       "    }\n",
       "\n",
       "    .dataframe tbody tr th {\n",
       "        vertical-align: top;\n",
       "    }\n",
       "\n",
       "    .dataframe thead th {\n",
       "        text-align: right;\n",
       "    }\n",
       "</style>\n",
       "<table border=\"1\" class=\"dataframe\">\n",
       "  <thead>\n",
       "    <tr style=\"text-align: right;\">\n",
       "      <th></th>\n",
       "      <th>Unnamed: 0</th>\n",
       "      <th>Snapshot ID</th>\n",
       "      <th>Snapshot Date</th>\n",
       "      <th>Checkin Date</th>\n",
       "      <th>Days</th>\n",
       "      <th>Original Price</th>\n",
       "      <th>Discount Price</th>\n",
       "      <th>Discount Code</th>\n",
       "      <th>Available Rooms</th>\n",
       "      <th>Hotel Name</th>\n",
       "      <th>Hotel Stars</th>\n",
       "      <th>DayDiff</th>\n",
       "      <th>WeekDay</th>\n",
       "      <th>DiscountDiff</th>\n",
       "      <th>DiscountPerc</th>\n",
       "    </tr>\n",
       "  </thead>\n",
       "  <tbody>\n",
       "    <tr>\n",
       "      <th>0</th>\n",
       "      <td>0</td>\n",
       "      <td>1</td>\n",
       "      <td>2015-07-17</td>\n",
       "      <td>2015-08-12</td>\n",
       "      <td>5</td>\n",
       "      <td>1178</td>\n",
       "      <td>1040</td>\n",
       "      <td>1</td>\n",
       "      <td>6</td>\n",
       "      <td>Best Western Plus Seaport Inn Downtown</td>\n",
       "      <td>3</td>\n",
       "      <td>26</td>\n",
       "      <td>Wednesday</td>\n",
       "      <td>138</td>\n",
       "      <td>11.714771</td>\n",
       "    </tr>\n",
       "    <tr>\n",
       "      <th>1</th>\n",
       "      <td>1</td>\n",
       "      <td>1</td>\n",
       "      <td>2015-07-17</td>\n",
       "      <td>2015-08-19</td>\n",
       "      <td>5</td>\n",
       "      <td>1113</td>\n",
       "      <td>982</td>\n",
       "      <td>1</td>\n",
       "      <td>8</td>\n",
       "      <td>Best Western Plus Seaport Inn Downtown</td>\n",
       "      <td>3</td>\n",
       "      <td>33</td>\n",
       "      <td>Wednesday</td>\n",
       "      <td>131</td>\n",
       "      <td>11.769991</td>\n",
       "    </tr>\n",
       "    <tr>\n",
       "      <th>2</th>\n",
       "      <td>2</td>\n",
       "      <td>1</td>\n",
       "      <td>2015-07-17</td>\n",
       "      <td>2015-08-13</td>\n",
       "      <td>5</td>\n",
       "      <td>4370</td>\n",
       "      <td>4240</td>\n",
       "      <td>1</td>\n",
       "      <td>3</td>\n",
       "      <td>The Peninsula New York</td>\n",
       "      <td>5</td>\n",
       "      <td>27</td>\n",
       "      <td>Thursday</td>\n",
       "      <td>130</td>\n",
       "      <td>2.974828</td>\n",
       "    </tr>\n",
       "    <tr>\n",
       "      <th>3</th>\n",
       "      <td>3</td>\n",
       "      <td>1</td>\n",
       "      <td>2015-07-17</td>\n",
       "      <td>2015-07-26</td>\n",
       "      <td>5</td>\n",
       "      <td>1739</td>\n",
       "      <td>1667</td>\n",
       "      <td>1</td>\n",
       "      <td>18</td>\n",
       "      <td>Eventi Hotel a Kimpton Hotel</td>\n",
       "      <td>4</td>\n",
       "      <td>9</td>\n",
       "      <td>Sunday</td>\n",
       "      <td>72</td>\n",
       "      <td>4.140311</td>\n",
       "    </tr>\n",
       "    <tr>\n",
       "      <th>4</th>\n",
       "      <td>4</td>\n",
       "      <td>1</td>\n",
       "      <td>2015-07-17</td>\n",
       "      <td>2015-08-12</td>\n",
       "      <td>5</td>\n",
       "      <td>1739</td>\n",
       "      <td>1672</td>\n",
       "      <td>1</td>\n",
       "      <td>3</td>\n",
       "      <td>Eventi Hotel a Kimpton Hotel</td>\n",
       "      <td>4</td>\n",
       "      <td>26</td>\n",
       "      <td>Wednesday</td>\n",
       "      <td>67</td>\n",
       "      <td>3.852789</td>\n",
       "    </tr>\n",
       "  </tbody>\n",
       "</table>\n",
       "</div>"
      ],
      "text/plain": [
       "   Unnamed: 0  Snapshot ID Snapshot Date Checkin Date  Days  Original Price  \\\n",
       "0           0            1    2015-07-17   2015-08-12     5            1178   \n",
       "1           1            1    2015-07-17   2015-08-19     5            1113   \n",
       "2           2            1    2015-07-17   2015-08-13     5            4370   \n",
       "3           3            1    2015-07-17   2015-07-26     5            1739   \n",
       "4           4            1    2015-07-17   2015-08-12     5            1739   \n",
       "\n",
       "   Discount Price  Discount Code  Available Rooms  \\\n",
       "0            1040              1                6   \n",
       "1             982              1                8   \n",
       "2            4240              1                3   \n",
       "3            1667              1               18   \n",
       "4            1672              1                3   \n",
       "\n",
       "                               Hotel Name  Hotel Stars  DayDiff    WeekDay  \\\n",
       "0  Best Western Plus Seaport Inn Downtown            3       26  Wednesday   \n",
       "1  Best Western Plus Seaport Inn Downtown            3       33  Wednesday   \n",
       "2                  The Peninsula New York            5       27   Thursday   \n",
       "3            Eventi Hotel a Kimpton Hotel            4        9     Sunday   \n",
       "4            Eventi Hotel a Kimpton Hotel            4       26  Wednesday   \n",
       "\n",
       "   DiscountDiff  DiscountPerc  \n",
       "0           138     11.714771  \n",
       "1           131     11.769991  \n",
       "2           130      2.974828  \n",
       "3            72      4.140311  \n",
       "4            67      3.852789  "
      ]
     },
     "execution_count": 2,
     "metadata": {},
     "output_type": "execute_result"
    }
   ],
   "source": [
    "#load the csv and show\n",
    "df = pd.read_csv('Hotels_data_Changed.csv', parse_dates=True)\n",
    "df.head()"
   ]
  },
  {
   "cell_type": "markdown",
   "metadata": {},
   "source": [
    "## 2.a"
   ]
  },
  {
   "cell_type": "markdown",
   "metadata": {},
   "source": [
    "#### groupby to organize the details"
   ]
  },
  {
   "cell_type": "code",
   "execution_count": 3,
   "metadata": {},
   "outputs": [],
   "source": [
    "grouped_df = df.groupby(['Snapshot Date','Checkin Date','DayDiff','Hotel Name','WeekDay'])"
   ]
  },
  {
   "cell_type": "code",
   "execution_count": 4,
   "metadata": {
    "scrolled": false
   },
   "outputs": [
    {
     "data": {
      "text/plain": [
       "Snapshot Date  Checkin Date  DayDiff  Hotel Name                                                    WeekDay  \n",
       "2015-07-17     2015-07-18    1        Home2 Suites by Hilton NY Long Island City Manhattan View     Saturday     150\n",
       "                                      Howard Johnson Inn Queens                                     Saturday      33\n",
       "                                      Newark Liberty International Airport Marriott                 Saturday     180\n",
       "                                      Park Hyatt New York                                           Saturday     100\n",
       "                                      Ramada Staten Island                                          Saturday     150\n",
       "                                      Renaissance Newark Airport Hotel                              Saturday     200\n",
       "               2015-07-19    2        Hampton Inn JFK Airport                                       Sunday       120\n",
       "                                      Hilton New York JFK Airport                                   Sunday       393\n",
       "                                      Hilton Times Square                                           Sunday       310\n",
       "                                      Home2 Suites by Hilton NY Long Island City Manhattan View     Sunday        90\n",
       "                                      Park Hyatt New York                                           Sunday       100\n",
       "               2015-07-20    3        Comfort Inn Times Square South Area                           Monday        54\n",
       "                                      DoubleTree by Hilton Hotel Newark Airport                     Monday        40\n",
       "                                      Hampton Inn JFK Airport                                       Monday        90\n",
       "                                      Hilton New York JFK Airport                                   Monday       427\n",
       "                                      Home2 Suites by Hilton NY Long Island City Manhattan View     Monday       120\n",
       "                                      Newark Liberty International Airport Marriott                 Monday       130\n",
       "                                      Residence Inn Newark Elizabeth Liberty International Airport  Monday       110\n",
       "               2015-07-21    4        DoubleTree by Hilton Hotel Newark Airport                     Tuesday      100\n",
       "                                      Hilton Manhattan East                                         Tuesday      206\n",
       "                                      Hilton New York JFK Airport                                   Tuesday      140\n",
       "                                      Home2 Suites by Hilton NY Long Island City Manhattan View     Tuesday      180\n",
       "                                      Newark Liberty International Airport Marriott                 Tuesday      220\n",
       "                                      Park Hyatt New York                                           Tuesday      100\n",
       "                                      Renaissance Newark Airport Hotel                              Tuesday       90\n",
       "               2015-07-22    5        DoubleTree by Hilton Hotel New York - Times Square South      Wednesday    126\n",
       "                                      DoubleTree by Hilton Hotel Newark Airport                     Wednesday    120\n",
       "                                      Four Seasons Hotel New York                                   Wednesday    330\n",
       "                                      Hilton Garden Inn New York Manhattan-Midtown East             Wednesday    280\n",
       "                                      Hilton Manhattan East                                         Wednesday     87\n",
       "                                                                                                                ... \n",
       "2016-01-01     2016-02-03    33       Renaissance Newark Airport Hotel                              Wednesday    315\n",
       "                                      Residence Inn New York The Bronx At Metro Center Atrium       Wednesday     90\n",
       "                                      Residence Inn Newark Elizabeth Liberty International Airport  Wednesday    254\n",
       "                                      The Carlyle A Rosewood Hotel                                  Wednesday    450\n",
       "                                      The New York EDITION                                          Wednesday     68\n",
       "                                      Viceroy New York                                              Wednesday    109\n",
       "                                      W New York - Downtown                                         Wednesday     80\n",
       "                                      Wyndham Garden Brooklyn Sunset Park                           Wednesday     52\n",
       "               2016-02-04    34       Andaz 5th Avenue - a concept by Hyatt                         Thursday      70\n",
       "                                      Conrad New York                                               Thursday     210\n",
       "                                      DoubleTree by Hilton Hotel Newark Airport                     Thursday      54\n",
       "                                      DoubleTree by Hilton New York City - Financial District       Thursday      48\n",
       "                                      Hampton Inn Manhattan Downtown-Financial District             Thursday     109\n",
       "                                      Hampton Inn Manhattan Soho                                    Thursday      60\n",
       "                                      Hampton Inn Manhattan United Nations                          Thursday     127\n",
       "                                      Hilton Garden Inn New York Manhattan-Midtown East             Thursday      71\n",
       "                                      Hilton Garden Inn Times Square                                Thursday      47\n",
       "                                      Hilton New York Fashion District                              Thursday      37\n",
       "                                      Home2 Suites by Hilton NY Long Island City Manhattan View     Thursday      76\n",
       "                                      Hyatt Herald Square New York                                  Thursday      51\n",
       "                                      Hyatt Times Square New York                                   Thursday      90\n",
       "                                      Hyatt Union Square New York                                   Thursday     184\n",
       "                                      Newark Liberty International Airport Marriott                 Thursday     463\n",
       "                                      Renaissance Newark Airport Hotel                              Thursday     315\n",
       "                                      Residence Inn New York The Bronx At Metro Center Atrium       Thursday      90\n",
       "                                      Residence Inn Newark Elizabeth Liberty International Airport  Thursday     270\n",
       "                                      The Carlyle A Rosewood Hotel                                  Thursday     450\n",
       "                                      Viceroy New York                                              Thursday      96\n",
       "                                      W New York - Downtown                                         Thursday     104\n",
       "                                      Wyndham Garden Brooklyn Sunset Park                           Thursday      52\n",
       "Name: DiscountDiff, Length: 107299, dtype: int64"
      ]
     },
     "execution_count": 4,
     "metadata": {},
     "output_type": "execute_result"
    }
   ],
   "source": [
    "grouped_df['DiscountDiff'].max()"
   ]
  },
  {
   "cell_type": "markdown",
   "metadata": {},
   "source": [
    "##### Because the groupby first one, does according to the date of the Snapshot Date its hard to understand and use for chack.\n",
    "##### lets try other options maybe more easier."
   ]
  },
  {
   "cell_type": "markdown",
   "metadata": {},
   "source": [
    "#### filter to the dataframe that only the columns that help us to find the max discount"
   ]
  },
  {
   "cell_type": "code",
   "execution_count": 5,
   "metadata": {},
   "outputs": [
    {
     "data": {
      "text/html": [
       "<div>\n",
       "<style scoped>\n",
       "    .dataframe tbody tr th:only-of-type {\n",
       "        vertical-align: middle;\n",
       "    }\n",
       "\n",
       "    .dataframe tbody tr th {\n",
       "        vertical-align: top;\n",
       "    }\n",
       "\n",
       "    .dataframe thead th {\n",
       "        text-align: right;\n",
       "    }\n",
       "</style>\n",
       "<table border=\"1\" class=\"dataframe\">\n",
       "  <thead>\n",
       "    <tr style=\"text-align: right;\">\n",
       "      <th></th>\n",
       "      <th>Hotel Name</th>\n",
       "      <th>DayDiff</th>\n",
       "      <th>Checkin Date</th>\n",
       "      <th>Snapshot Date</th>\n",
       "      <th>WeekDay</th>\n",
       "      <th>DiscountDiff</th>\n",
       "      <th>Discount Code</th>\n",
       "    </tr>\n",
       "  </thead>\n",
       "  <tbody>\n",
       "    <tr>\n",
       "      <th>0</th>\n",
       "      <td>Best Western Plus Seaport Inn Downtown</td>\n",
       "      <td>26</td>\n",
       "      <td>2015-08-12</td>\n",
       "      <td>2015-07-17</td>\n",
       "      <td>Wednesday</td>\n",
       "      <td>138</td>\n",
       "      <td>1</td>\n",
       "    </tr>\n",
       "    <tr>\n",
       "      <th>1</th>\n",
       "      <td>Best Western Plus Seaport Inn Downtown</td>\n",
       "      <td>33</td>\n",
       "      <td>2015-08-19</td>\n",
       "      <td>2015-07-17</td>\n",
       "      <td>Wednesday</td>\n",
       "      <td>131</td>\n",
       "      <td>1</td>\n",
       "    </tr>\n",
       "    <tr>\n",
       "      <th>2</th>\n",
       "      <td>The Peninsula New York</td>\n",
       "      <td>27</td>\n",
       "      <td>2015-08-13</td>\n",
       "      <td>2015-07-17</td>\n",
       "      <td>Thursday</td>\n",
       "      <td>130</td>\n",
       "      <td>1</td>\n",
       "    </tr>\n",
       "    <tr>\n",
       "      <th>3</th>\n",
       "      <td>Eventi Hotel a Kimpton Hotel</td>\n",
       "      <td>9</td>\n",
       "      <td>2015-07-26</td>\n",
       "      <td>2015-07-17</td>\n",
       "      <td>Sunday</td>\n",
       "      <td>72</td>\n",
       "      <td>1</td>\n",
       "    </tr>\n",
       "    <tr>\n",
       "      <th>4</th>\n",
       "      <td>Eventi Hotel a Kimpton Hotel</td>\n",
       "      <td>26</td>\n",
       "      <td>2015-08-12</td>\n",
       "      <td>2015-07-17</td>\n",
       "      <td>Wednesday</td>\n",
       "      <td>67</td>\n",
       "      <td>1</td>\n",
       "    </tr>\n",
       "  </tbody>\n",
       "</table>\n",
       "</div>"
      ],
      "text/plain": [
       "                               Hotel Name  DayDiff Checkin Date Snapshot Date  \\\n",
       "0  Best Western Plus Seaport Inn Downtown       26   2015-08-12    2015-07-17   \n",
       "1  Best Western Plus Seaport Inn Downtown       33   2015-08-19    2015-07-17   \n",
       "2                  The Peninsula New York       27   2015-08-13    2015-07-17   \n",
       "3            Eventi Hotel a Kimpton Hotel        9   2015-07-26    2015-07-17   \n",
       "4            Eventi Hotel a Kimpton Hotel       26   2015-08-12    2015-07-17   \n",
       "\n",
       "     WeekDay  DiscountDiff  Discount Code  \n",
       "0  Wednesday           138              1  \n",
       "1  Wednesday           131              1  \n",
       "2   Thursday           130              1  \n",
       "3     Sunday            72              1  \n",
       "4  Wednesday            67              1  "
      ]
     },
     "execution_count": 5,
     "metadata": {},
     "output_type": "execute_result"
    }
   ],
   "source": [
    "filtered = df.filter([\"Hotel Name\",\"DayDiff\", \"Checkin Date\", \"Snapshot Date\", \"WeekDay\", \"DiscountDiff\", \"Discount Code\"], axis=1)\n",
    "filtered.head()"
   ]
  },
  {
   "cell_type": "markdown",
   "metadata": {},
   "source": [
    "#### now we try again to do group by with a different order"
   ]
  },
  {
   "cell_type": "code",
   "execution_count": 6,
   "metadata": {},
   "outputs": [],
   "source": [
    "filtered[\"MaxDiscount\"] = filtered.groupby([\"Hotel Name\",\"DayDiff\", \"Checkin Date\", \"Snapshot Date\", \"WeekDay\"])[\"DiscountDiff\"].transform('max')"
   ]
  },
  {
   "cell_type": "code",
   "execution_count": 7,
   "metadata": {},
   "outputs": [
    {
     "data": {
      "text/html": [
       "<div>\n",
       "<style scoped>\n",
       "    .dataframe tbody tr th:only-of-type {\n",
       "        vertical-align: middle;\n",
       "    }\n",
       "\n",
       "    .dataframe tbody tr th {\n",
       "        vertical-align: top;\n",
       "    }\n",
       "\n",
       "    .dataframe thead th {\n",
       "        text-align: right;\n",
       "    }\n",
       "</style>\n",
       "<table border=\"1\" class=\"dataframe\">\n",
       "  <thead>\n",
       "    <tr style=\"text-align: right;\">\n",
       "      <th></th>\n",
       "      <th>Hotel Name</th>\n",
       "      <th>DayDiff</th>\n",
       "      <th>Checkin Date</th>\n",
       "      <th>Snapshot Date</th>\n",
       "      <th>WeekDay</th>\n",
       "      <th>DiscountDiff</th>\n",
       "      <th>Discount Code</th>\n",
       "      <th>MaxDiscount</th>\n",
       "    </tr>\n",
       "  </thead>\n",
       "  <tbody>\n",
       "    <tr>\n",
       "      <th>0</th>\n",
       "      <td>Best Western Plus Seaport Inn Downtown</td>\n",
       "      <td>26</td>\n",
       "      <td>2015-08-12</td>\n",
       "      <td>2015-07-17</td>\n",
       "      <td>Wednesday</td>\n",
       "      <td>138</td>\n",
       "      <td>1</td>\n",
       "      <td>138</td>\n",
       "    </tr>\n",
       "    <tr>\n",
       "      <th>1</th>\n",
       "      <td>Best Western Plus Seaport Inn Downtown</td>\n",
       "      <td>33</td>\n",
       "      <td>2015-08-19</td>\n",
       "      <td>2015-07-17</td>\n",
       "      <td>Wednesday</td>\n",
       "      <td>131</td>\n",
       "      <td>1</td>\n",
       "      <td>131</td>\n",
       "    </tr>\n",
       "    <tr>\n",
       "      <th>2</th>\n",
       "      <td>The Peninsula New York</td>\n",
       "      <td>27</td>\n",
       "      <td>2015-08-13</td>\n",
       "      <td>2015-07-17</td>\n",
       "      <td>Thursday</td>\n",
       "      <td>130</td>\n",
       "      <td>1</td>\n",
       "      <td>230</td>\n",
       "    </tr>\n",
       "    <tr>\n",
       "      <th>3</th>\n",
       "      <td>Eventi Hotel a Kimpton Hotel</td>\n",
       "      <td>9</td>\n",
       "      <td>2015-07-26</td>\n",
       "      <td>2015-07-17</td>\n",
       "      <td>Sunday</td>\n",
       "      <td>72</td>\n",
       "      <td>1</td>\n",
       "      <td>72</td>\n",
       "    </tr>\n",
       "    <tr>\n",
       "      <th>4</th>\n",
       "      <td>Eventi Hotel a Kimpton Hotel</td>\n",
       "      <td>26</td>\n",
       "      <td>2015-08-12</td>\n",
       "      <td>2015-07-17</td>\n",
       "      <td>Wednesday</td>\n",
       "      <td>67</td>\n",
       "      <td>1</td>\n",
       "      <td>141</td>\n",
       "    </tr>\n",
       "    <tr>\n",
       "      <th>5</th>\n",
       "      <td>Grand Hyatt New York</td>\n",
       "      <td>21</td>\n",
       "      <td>2015-08-07</td>\n",
       "      <td>2015-07-17</td>\n",
       "      <td>Friday</td>\n",
       "      <td>91</td>\n",
       "      <td>1</td>\n",
       "      <td>91</td>\n",
       "    </tr>\n",
       "    <tr>\n",
       "      <th>6</th>\n",
       "      <td>Grand Hyatt New York</td>\n",
       "      <td>23</td>\n",
       "      <td>2015-08-09</td>\n",
       "      <td>2015-07-17</td>\n",
       "      <td>Sunday</td>\n",
       "      <td>91</td>\n",
       "      <td>1</td>\n",
       "      <td>91</td>\n",
       "    </tr>\n",
       "    <tr>\n",
       "      <th>7</th>\n",
       "      <td>Grand Hyatt New York</td>\n",
       "      <td>26</td>\n",
       "      <td>2015-08-12</td>\n",
       "      <td>2015-07-17</td>\n",
       "      <td>Wednesday</td>\n",
       "      <td>73</td>\n",
       "      <td>1</td>\n",
       "      <td>73</td>\n",
       "    </tr>\n",
       "    <tr>\n",
       "      <th>8</th>\n",
       "      <td>Grand Hyatt New York</td>\n",
       "      <td>27</td>\n",
       "      <td>2015-08-13</td>\n",
       "      <td>2015-07-17</td>\n",
       "      <td>Thursday</td>\n",
       "      <td>55</td>\n",
       "      <td>1</td>\n",
       "      <td>127</td>\n",
       "    </tr>\n",
       "    <tr>\n",
       "      <th>9</th>\n",
       "      <td>Hilton New York Fashion District</td>\n",
       "      <td>5</td>\n",
       "      <td>2015-07-22</td>\n",
       "      <td>2015-07-17</td>\n",
       "      <td>Wednesday</td>\n",
       "      <td>200</td>\n",
       "      <td>1</td>\n",
       "      <td>200</td>\n",
       "    </tr>\n",
       "    <tr>\n",
       "      <th>10</th>\n",
       "      <td>DoubleTree Suites by Hilton New York City - Ti...</td>\n",
       "      <td>13</td>\n",
       "      <td>2015-07-30</td>\n",
       "      <td>2015-07-17</td>\n",
       "      <td>Thursday</td>\n",
       "      <td>95</td>\n",
       "      <td>1</td>\n",
       "      <td>190</td>\n",
       "    </tr>\n",
       "    <tr>\n",
       "      <th>11</th>\n",
       "      <td>DoubleTree Suites by Hilton New York City - Ti...</td>\n",
       "      <td>14</td>\n",
       "      <td>2015-07-31</td>\n",
       "      <td>2015-07-17</td>\n",
       "      <td>Friday</td>\n",
       "      <td>94</td>\n",
       "      <td>1</td>\n",
       "      <td>94</td>\n",
       "    </tr>\n",
       "    <tr>\n",
       "      <th>12</th>\n",
       "      <td>Hampton Inn Manhattan Soho</td>\n",
       "      <td>9</td>\n",
       "      <td>2015-07-26</td>\n",
       "      <td>2015-07-17</td>\n",
       "      <td>Sunday</td>\n",
       "      <td>70</td>\n",
       "      <td>1</td>\n",
       "      <td>70</td>\n",
       "    </tr>\n",
       "    <tr>\n",
       "      <th>13</th>\n",
       "      <td>Hampton Inn Manhattan Soho</td>\n",
       "      <td>16</td>\n",
       "      <td>2015-08-02</td>\n",
       "      <td>2015-07-17</td>\n",
       "      <td>Sunday</td>\n",
       "      <td>70</td>\n",
       "      <td>1</td>\n",
       "      <td>70</td>\n",
       "    </tr>\n",
       "    <tr>\n",
       "      <th>14</th>\n",
       "      <td>Park Hyatt New York</td>\n",
       "      <td>5</td>\n",
       "      <td>2015-07-22</td>\n",
       "      <td>2015-07-17</td>\n",
       "      <td>Wednesday</td>\n",
       "      <td>150</td>\n",
       "      <td>1</td>\n",
       "      <td>300</td>\n",
       "    </tr>\n",
       "  </tbody>\n",
       "</table>\n",
       "</div>"
      ],
      "text/plain": [
       "                                           Hotel Name  DayDiff Checkin Date  \\\n",
       "0              Best Western Plus Seaport Inn Downtown       26   2015-08-12   \n",
       "1              Best Western Plus Seaport Inn Downtown       33   2015-08-19   \n",
       "2                              The Peninsula New York       27   2015-08-13   \n",
       "3                        Eventi Hotel a Kimpton Hotel        9   2015-07-26   \n",
       "4                        Eventi Hotel a Kimpton Hotel       26   2015-08-12   \n",
       "5                                Grand Hyatt New York       21   2015-08-07   \n",
       "6                                Grand Hyatt New York       23   2015-08-09   \n",
       "7                                Grand Hyatt New York       26   2015-08-12   \n",
       "8                                Grand Hyatt New York       27   2015-08-13   \n",
       "9                    Hilton New York Fashion District        5   2015-07-22   \n",
       "10  DoubleTree Suites by Hilton New York City - Ti...       13   2015-07-30   \n",
       "11  DoubleTree Suites by Hilton New York City - Ti...       14   2015-07-31   \n",
       "12                         Hampton Inn Manhattan Soho        9   2015-07-26   \n",
       "13                         Hampton Inn Manhattan Soho       16   2015-08-02   \n",
       "14                                Park Hyatt New York        5   2015-07-22   \n",
       "\n",
       "   Snapshot Date    WeekDay  DiscountDiff  Discount Code  MaxDiscount  \n",
       "0     2015-07-17  Wednesday           138              1          138  \n",
       "1     2015-07-17  Wednesday           131              1          131  \n",
       "2     2015-07-17   Thursday           130              1          230  \n",
       "3     2015-07-17     Sunday            72              1           72  \n",
       "4     2015-07-17  Wednesday            67              1          141  \n",
       "5     2015-07-17     Friday            91              1           91  \n",
       "6     2015-07-17     Sunday            91              1           91  \n",
       "7     2015-07-17  Wednesday            73              1           73  \n",
       "8     2015-07-17   Thursday            55              1          127  \n",
       "9     2015-07-17  Wednesday           200              1          200  \n",
       "10    2015-07-17   Thursday            95              1          190  \n",
       "11    2015-07-17     Friday            94              1           94  \n",
       "12    2015-07-17     Sunday            70              1           70  \n",
       "13    2015-07-17     Sunday            70              1           70  \n",
       "14    2015-07-17  Wednesday           150              1          300  "
      ]
     },
     "execution_count": 7,
     "metadata": {},
     "output_type": "execute_result"
    }
   ],
   "source": [
    "filtered.head(15)"
   ]
  },
  {
   "cell_type": "code",
   "execution_count": 8,
   "metadata": {},
   "outputs": [
    {
     "data": {
      "text/html": [
       "<div>\n",
       "<style scoped>\n",
       "    .dataframe tbody tr th:only-of-type {\n",
       "        vertical-align: middle;\n",
       "    }\n",
       "\n",
       "    .dataframe tbody tr th {\n",
       "        vertical-align: top;\n",
       "    }\n",
       "\n",
       "    .dataframe thead th {\n",
       "        text-align: right;\n",
       "    }\n",
       "</style>\n",
       "<table border=\"1\" class=\"dataframe\">\n",
       "  <thead>\n",
       "    <tr style=\"text-align: right;\">\n",
       "      <th></th>\n",
       "      <th>Hotel Name</th>\n",
       "      <th>DayDiff</th>\n",
       "      <th>Checkin Date</th>\n",
       "      <th>Snapshot Date</th>\n",
       "      <th>WeekDay</th>\n",
       "      <th>DiscountDiff</th>\n",
       "      <th>Discount Code</th>\n",
       "      <th>MaxDiscount</th>\n",
       "    </tr>\n",
       "  </thead>\n",
       "  <tbody>\n",
       "    <tr>\n",
       "      <th>0</th>\n",
       "      <td>Best Western Plus Seaport Inn Downtown</td>\n",
       "      <td>26</td>\n",
       "      <td>2015-08-12</td>\n",
       "      <td>2015-07-17</td>\n",
       "      <td>Wednesday</td>\n",
       "      <td>138</td>\n",
       "      <td>1</td>\n",
       "      <td>138</td>\n",
       "    </tr>\n",
       "    <tr>\n",
       "      <th>1</th>\n",
       "      <td>Best Western Plus Seaport Inn Downtown</td>\n",
       "      <td>33</td>\n",
       "      <td>2015-08-19</td>\n",
       "      <td>2015-07-17</td>\n",
       "      <td>Wednesday</td>\n",
       "      <td>131</td>\n",
       "      <td>1</td>\n",
       "      <td>131</td>\n",
       "    </tr>\n",
       "    <tr>\n",
       "      <th>3</th>\n",
       "      <td>Eventi Hotel a Kimpton Hotel</td>\n",
       "      <td>9</td>\n",
       "      <td>2015-07-26</td>\n",
       "      <td>2015-07-17</td>\n",
       "      <td>Sunday</td>\n",
       "      <td>72</td>\n",
       "      <td>1</td>\n",
       "      <td>72</td>\n",
       "    </tr>\n",
       "    <tr>\n",
       "      <th>5</th>\n",
       "      <td>Grand Hyatt New York</td>\n",
       "      <td>21</td>\n",
       "      <td>2015-08-07</td>\n",
       "      <td>2015-07-17</td>\n",
       "      <td>Friday</td>\n",
       "      <td>91</td>\n",
       "      <td>1</td>\n",
       "      <td>91</td>\n",
       "    </tr>\n",
       "    <tr>\n",
       "      <th>6</th>\n",
       "      <td>Grand Hyatt New York</td>\n",
       "      <td>23</td>\n",
       "      <td>2015-08-09</td>\n",
       "      <td>2015-07-17</td>\n",
       "      <td>Sunday</td>\n",
       "      <td>91</td>\n",
       "      <td>1</td>\n",
       "      <td>91</td>\n",
       "    </tr>\n",
       "  </tbody>\n",
       "</table>\n",
       "</div>"
      ],
      "text/plain": [
       "                               Hotel Name  DayDiff Checkin Date Snapshot Date  \\\n",
       "0  Best Western Plus Seaport Inn Downtown       26   2015-08-12    2015-07-17   \n",
       "1  Best Western Plus Seaport Inn Downtown       33   2015-08-19    2015-07-17   \n",
       "3            Eventi Hotel a Kimpton Hotel        9   2015-07-26    2015-07-17   \n",
       "5                    Grand Hyatt New York       21   2015-08-07    2015-07-17   \n",
       "6                    Grand Hyatt New York       23   2015-08-09    2015-07-17   \n",
       "\n",
       "     WeekDay  DiscountDiff  Discount Code  MaxDiscount  \n",
       "0  Wednesday           138              1          138  \n",
       "1  Wednesday           131              1          131  \n",
       "3     Sunday            72              1           72  \n",
       "5     Friday            91              1           91  \n",
       "6     Sunday            91              1           91  "
      ]
     },
     "execution_count": 8,
     "metadata": {},
     "output_type": "execute_result"
    }
   ],
   "source": [
    "#we have a duplicates values , we need the values be currect ,so we need remove them from the table\n",
    "grouped = filtered[filtered[\"DiscountDiff\"]==filtered[\"MaxDiscount\"]].drop_duplicates([\"Hotel Name\",\"DayDiff\", \"Checkin Date\", \"Snapshot Date\", \"WeekDay\"])\n",
    "grouped.head()"
   ]
  },
  {
   "cell_type": "code",
   "execution_count": 9,
   "metadata": {},
   "outputs": [
    {
     "data": {
      "text/html": [
       "<div>\n",
       "<style scoped>\n",
       "    .dataframe tbody tr th:only-of-type {\n",
       "        vertical-align: middle;\n",
       "    }\n",
       "\n",
       "    .dataframe tbody tr th {\n",
       "        vertical-align: top;\n",
       "    }\n",
       "\n",
       "    .dataframe thead th {\n",
       "        text-align: right;\n",
       "    }\n",
       "</style>\n",
       "<table border=\"1\" class=\"dataframe\">\n",
       "  <thead>\n",
       "    <tr style=\"text-align: right;\">\n",
       "      <th></th>\n",
       "      <th>Hotel Name</th>\n",
       "      <th>DayDiff</th>\n",
       "      <th>Checkin Date</th>\n",
       "      <th>Snapshot Date</th>\n",
       "      <th>WeekDay</th>\n",
       "      <th>Discount Code</th>\n",
       "    </tr>\n",
       "  </thead>\n",
       "  <tbody>\n",
       "    <tr>\n",
       "      <th>0</th>\n",
       "      <td>Best Western Plus Seaport Inn Downtown</td>\n",
       "      <td>26</td>\n",
       "      <td>2015-08-12</td>\n",
       "      <td>2015-07-17</td>\n",
       "      <td>Wednesday</td>\n",
       "      <td>1</td>\n",
       "    </tr>\n",
       "    <tr>\n",
       "      <th>1</th>\n",
       "      <td>Best Western Plus Seaport Inn Downtown</td>\n",
       "      <td>33</td>\n",
       "      <td>2015-08-19</td>\n",
       "      <td>2015-07-17</td>\n",
       "      <td>Wednesday</td>\n",
       "      <td>1</td>\n",
       "    </tr>\n",
       "    <tr>\n",
       "      <th>3</th>\n",
       "      <td>Eventi Hotel a Kimpton Hotel</td>\n",
       "      <td>9</td>\n",
       "      <td>2015-07-26</td>\n",
       "      <td>2015-07-17</td>\n",
       "      <td>Sunday</td>\n",
       "      <td>1</td>\n",
       "    </tr>\n",
       "    <tr>\n",
       "      <th>5</th>\n",
       "      <td>Grand Hyatt New York</td>\n",
       "      <td>21</td>\n",
       "      <td>2015-08-07</td>\n",
       "      <td>2015-07-17</td>\n",
       "      <td>Friday</td>\n",
       "      <td>1</td>\n",
       "    </tr>\n",
       "    <tr>\n",
       "      <th>6</th>\n",
       "      <td>Grand Hyatt New York</td>\n",
       "      <td>23</td>\n",
       "      <td>2015-08-09</td>\n",
       "      <td>2015-07-17</td>\n",
       "      <td>Sunday</td>\n",
       "      <td>1</td>\n",
       "    </tr>\n",
       "  </tbody>\n",
       "</table>\n",
       "</div>"
      ],
      "text/plain": [
       "                               Hotel Name  DayDiff Checkin Date Snapshot Date  \\\n",
       "0  Best Western Plus Seaport Inn Downtown       26   2015-08-12    2015-07-17   \n",
       "1  Best Western Plus Seaport Inn Downtown       33   2015-08-19    2015-07-17   \n",
       "3            Eventi Hotel a Kimpton Hotel        9   2015-07-26    2015-07-17   \n",
       "5                    Grand Hyatt New York       21   2015-08-07    2015-07-17   \n",
       "6                    Grand Hyatt New York       23   2015-08-09    2015-07-17   \n",
       "\n",
       "     WeekDay  Discount Code  \n",
       "0  Wednesday              1  \n",
       "1  Wednesday              1  \n",
       "3     Sunday              1  \n",
       "5     Friday              1  \n",
       "6     Sunday              1  "
      ]
     },
     "execution_count": 9,
     "metadata": {},
     "output_type": "execute_result"
    }
   ],
   "source": [
    "#now we need to remove the columns thats halpes us , from now we use only in discount code(class)\n",
    "grouped.drop(labels=[\"MaxDiscount\",\"DiscountDiff\"], axis=1,inplace=True)\n",
    "grouped.head()"
   ]
  },
  {
   "cell_type": "markdown",
   "metadata": {},
   "source": [
    "#### Save df to csv"
   ]
  },
  {
   "cell_type": "code",
   "execution_count": 10,
   "metadata": {},
   "outputs": [],
   "source": [
    "grouped.to_csv(\"Hotels_data_best_discount.csv\")"
   ]
  },
  {
   "cell_type": "markdown",
   "metadata": {},
   "source": [
    "## 2.b"
   ]
  },
  {
   "cell_type": "code",
   "execution_count": 11,
   "metadata": {},
   "outputs": [],
   "source": [
    "new_df=grouped.copy()"
   ]
  },
  {
   "cell_type": "code",
   "execution_count": 12,
   "metadata": {},
   "outputs": [
    {
     "data": {
      "text/html": [
       "<div>\n",
       "<style scoped>\n",
       "    .dataframe tbody tr th:only-of-type {\n",
       "        vertical-align: middle;\n",
       "    }\n",
       "\n",
       "    .dataframe tbody tr th {\n",
       "        vertical-align: top;\n",
       "    }\n",
       "\n",
       "    .dataframe thead th {\n",
       "        text-align: right;\n",
       "    }\n",
       "</style>\n",
       "<table border=\"1\" class=\"dataframe\">\n",
       "  <thead>\n",
       "    <tr style=\"text-align: right;\">\n",
       "      <th></th>\n",
       "      <th>Hotel Name</th>\n",
       "      <th>DayDiff</th>\n",
       "      <th>Checkin Date</th>\n",
       "      <th>Snapshot Date</th>\n",
       "      <th>WeekDay</th>\n",
       "      <th>Discount Code</th>\n",
       "    </tr>\n",
       "  </thead>\n",
       "  <tbody>\n",
       "    <tr>\n",
       "      <th>0</th>\n",
       "      <td>Best Western Plus Seaport Inn Downtown</td>\n",
       "      <td>26</td>\n",
       "      <td>2015-08-12</td>\n",
       "      <td>2015-07-17</td>\n",
       "      <td>Wednesday</td>\n",
       "      <td>1</td>\n",
       "    </tr>\n",
       "    <tr>\n",
       "      <th>1</th>\n",
       "      <td>Best Western Plus Seaport Inn Downtown</td>\n",
       "      <td>33</td>\n",
       "      <td>2015-08-19</td>\n",
       "      <td>2015-07-17</td>\n",
       "      <td>Wednesday</td>\n",
       "      <td>1</td>\n",
       "    </tr>\n",
       "    <tr>\n",
       "      <th>3</th>\n",
       "      <td>Eventi Hotel a Kimpton Hotel</td>\n",
       "      <td>9</td>\n",
       "      <td>2015-07-26</td>\n",
       "      <td>2015-07-17</td>\n",
       "      <td>Sunday</td>\n",
       "      <td>1</td>\n",
       "    </tr>\n",
       "    <tr>\n",
       "      <th>5</th>\n",
       "      <td>Grand Hyatt New York</td>\n",
       "      <td>21</td>\n",
       "      <td>2015-08-07</td>\n",
       "      <td>2015-07-17</td>\n",
       "      <td>Friday</td>\n",
       "      <td>1</td>\n",
       "    </tr>\n",
       "    <tr>\n",
       "      <th>6</th>\n",
       "      <td>Grand Hyatt New York</td>\n",
       "      <td>23</td>\n",
       "      <td>2015-08-09</td>\n",
       "      <td>2015-07-17</td>\n",
       "      <td>Sunday</td>\n",
       "      <td>1</td>\n",
       "    </tr>\n",
       "  </tbody>\n",
       "</table>\n",
       "</div>"
      ],
      "text/plain": [
       "                               Hotel Name  DayDiff Checkin Date Snapshot Date  \\\n",
       "0  Best Western Plus Seaport Inn Downtown       26   2015-08-12    2015-07-17   \n",
       "1  Best Western Plus Seaport Inn Downtown       33   2015-08-19    2015-07-17   \n",
       "3            Eventi Hotel a Kimpton Hotel        9   2015-07-26    2015-07-17   \n",
       "5                    Grand Hyatt New York       21   2015-08-07    2015-07-17   \n",
       "6                    Grand Hyatt New York       23   2015-08-09    2015-07-17   \n",
       "\n",
       "     WeekDay  Discount Code  \n",
       "0  Wednesday              1  \n",
       "1  Wednesday              1  \n",
       "3     Sunday              1  \n",
       "5     Friday              1  \n",
       "6     Sunday              1  "
      ]
     },
     "execution_count": 12,
     "metadata": {},
     "output_type": "execute_result"
    }
   ],
   "source": [
    "#check if is the same.\n",
    "new_df.head()"
   ]
  },
  {
   "cell_type": "markdown",
   "metadata": {},
   "source": [
    "## pre process"
   ]
  },
  {
   "cell_type": "code",
   "execution_count": 13,
   "metadata": {},
   "outputs": [],
   "source": [
    "from sklearn.preprocessing import LabelEncoder"
   ]
  },
  {
   "cell_type": "markdown",
   "metadata": {},
   "source": [
    "#### for fit will work - convert columns to categorial numbers instead of strings"
   ]
  },
  {
   "cell_type": "code",
   "execution_count": 14,
   "metadata": {},
   "outputs": [],
   "source": [
    "lb_make = LabelEncoder()\n",
    "new_df[\"Snapshot Date\"] = lb_make.fit_transform(new_df[\"Snapshot Date\"])\n",
    "new_df[\"Checkin Date\"] = lb_make.fit_transform(new_df[\"Checkin Date\"])\n",
    "new_df[\"Hotel Name\"] = lb_make.fit_transform(new_df[\"Hotel Name\"])\n",
    "new_df[\"WeekDay\"] = lb_make.fit_transform(new_df[\"WeekDay\"])\n",
    "new_df=new_df[['Snapshot Date','Checkin Date','DayDiff','Hotel Name','WeekDay','Discount Code']].dropna(axis=0, how='any')"
   ]
  },
  {
   "cell_type": "code",
   "execution_count": 15,
   "metadata": {},
   "outputs": [
    {
     "data": {
      "text/html": [
       "<div>\n",
       "<style scoped>\n",
       "    .dataframe tbody tr th:only-of-type {\n",
       "        vertical-align: middle;\n",
       "    }\n",
       "\n",
       "    .dataframe tbody tr th {\n",
       "        vertical-align: top;\n",
       "    }\n",
       "\n",
       "    .dataframe thead th {\n",
       "        text-align: right;\n",
       "    }\n",
       "</style>\n",
       "<table border=\"1\" class=\"dataframe\">\n",
       "  <thead>\n",
       "    <tr style=\"text-align: right;\">\n",
       "      <th></th>\n",
       "      <th>Snapshot Date</th>\n",
       "      <th>Checkin Date</th>\n",
       "      <th>DayDiff</th>\n",
       "      <th>Hotel Name</th>\n",
       "      <th>WeekDay</th>\n",
       "      <th>Discount Code</th>\n",
       "    </tr>\n",
       "  </thead>\n",
       "  <tbody>\n",
       "    <tr>\n",
       "      <th>0</th>\n",
       "      <td>0</td>\n",
       "      <td>25</td>\n",
       "      <td>26</td>\n",
       "      <td>35</td>\n",
       "      <td>6</td>\n",
       "      <td>1</td>\n",
       "    </tr>\n",
       "    <tr>\n",
       "      <th>1</th>\n",
       "      <td>0</td>\n",
       "      <td>32</td>\n",
       "      <td>33</td>\n",
       "      <td>35</td>\n",
       "      <td>6</td>\n",
       "      <td>1</td>\n",
       "    </tr>\n",
       "    <tr>\n",
       "      <th>3</th>\n",
       "      <td>0</td>\n",
       "      <td>8</td>\n",
       "      <td>9</td>\n",
       "      <td>127</td>\n",
       "      <td>3</td>\n",
       "      <td>1</td>\n",
       "    </tr>\n",
       "    <tr>\n",
       "      <th>5</th>\n",
       "      <td>0</td>\n",
       "      <td>20</td>\n",
       "      <td>21</td>\n",
       "      <td>163</td>\n",
       "      <td>0</td>\n",
       "      <td>1</td>\n",
       "    </tr>\n",
       "    <tr>\n",
       "      <th>6</th>\n",
       "      <td>0</td>\n",
       "      <td>22</td>\n",
       "      <td>23</td>\n",
       "      <td>163</td>\n",
       "      <td>3</td>\n",
       "      <td>1</td>\n",
       "    </tr>\n",
       "  </tbody>\n",
       "</table>\n",
       "</div>"
      ],
      "text/plain": [
       "   Snapshot Date  Checkin Date  DayDiff  Hotel Name  WeekDay  Discount Code\n",
       "0              0            25       26          35        6              1\n",
       "1              0            32       33          35        6              1\n",
       "3              0             8        9         127        3              1\n",
       "5              0            20       21         163        0              1\n",
       "6              0            22       23         163        3              1"
      ]
     },
     "execution_count": 15,
     "metadata": {},
     "output_type": "execute_result"
    }
   ],
   "source": [
    "new_df.head()"
   ]
  },
  {
   "cell_type": "code",
   "execution_count": 16,
   "metadata": {},
   "outputs": [],
   "source": [
    "#import seaborn as sns\n",
    "#sns.set_style('whitegrid')\n",
    "#%matplotlib inline"
   ]
  },
  {
   "cell_type": "code",
   "execution_count": 17,
   "metadata": {},
   "outputs": [],
   "source": [
    "#sns.pairplot(new_df,hue='Discount Code')"
   ]
  },
  {
   "cell_type": "markdown",
   "metadata": {},
   "source": [
    "## split train and test"
   ]
  },
  {
   "cell_type": "code",
   "execution_count": 18,
   "metadata": {},
   "outputs": [],
   "source": [
    "from sklearn.model_selection import train_test_split"
   ]
  },
  {
   "cell_type": "code",
   "execution_count": 20,
   "metadata": {},
   "outputs": [],
   "source": [
    "# Split dataset in training and test datasets\n",
    "used_features =['Snapshot Date','Checkin Date','DayDiff','Hotel Name','WeekDay']\n",
    "features = new_df[used_features]\n",
    "classes = new_df['Discount Code']\n",
    "X_train, X_test, Y_train, Y_test = train_test_split(features,classes, test_size=0.3)"
   ]
  },
  {
   "cell_type": "markdown",
   "metadata": {},
   "source": [
    "## Naive Bayes"
   ]
  },
  {
   "cell_type": "code",
   "execution_count": 21,
   "metadata": {},
   "outputs": [],
   "source": [
    "from sklearn.naive_bayes import GaussianNB\n",
    "from sklearn.metrics import accuracy_score"
   ]
  },
  {
   "cell_type": "code",
   "execution_count": 22,
   "metadata": {},
   "outputs": [
    {
     "data": {
      "text/plain": [
       "GaussianNB(priors=None)"
      ]
     },
     "execution_count": 22,
     "metadata": {},
     "output_type": "execute_result"
    }
   ],
   "source": [
    "# Instantiate the classifier\n",
    "gnb = GaussianNB()\n",
    "# Train classifier\n",
    "gnb.fit(\n",
    "    X_train,\n",
    "    Y_train\n",
    ")"
   ]
  },
  {
   "cell_type": "markdown",
   "metadata": {},
   "source": [
    "#### accuracy:"
   ]
  },
  {
   "cell_type": "code",
   "execution_count": 23,
   "metadata": {},
   "outputs": [
    {
     "data": {
      "text/plain": [
       "0.3119291705498602"
      ]
     },
     "execution_count": 23,
     "metadata": {},
     "output_type": "execute_result"
    }
   ],
   "source": [
    "expected = Y_test\n",
    "predicted = gnb.predict(X_test)\n",
    "accuracy_score(expected,predicted)"
   ]
  },
  {
   "cell_type": "markdown",
   "metadata": {},
   "source": [
    "#### confusion matrix and reports:"
   ]
  },
  {
   "cell_type": "code",
   "execution_count": 24,
   "metadata": {},
   "outputs": [
    {
     "name": "stdout",
     "output_type": "stream",
     "text": [
      "             precision    recall  f1-score   support\n",
      "\n",
      "          1       0.31      0.09      0.14      8456\n",
      "          2       0.31      0.73      0.44     10162\n",
      "          3       0.31      0.22      0.26      8657\n",
      "          4       0.00      0.00      0.00      4915\n",
      "\n",
      "avg / total       0.26      0.31      0.24     32190\n",
      "\n",
      "[[ 739 6492 1225    0]\n",
      " [ 756 7410 1996    0]\n",
      " [ 516 6249 1892    0]\n",
      " [ 404 3591  920    0]]\n"
     ]
    },
    {
     "name": "stderr",
     "output_type": "stream",
     "text": [
      "C:\\ProgramData\\Anaconda3\\lib\\site-packages\\sklearn\\metrics\\classification.py:1135: UndefinedMetricWarning: Precision and F-score are ill-defined and being set to 0.0 in labels with no predicted samples.\n",
      "  'precision', 'predicted', average, warn_for)\n"
     ]
    }
   ],
   "source": [
    "from sklearn import metrics\n",
    "print(metrics.classification_report(expected, predicted))\n",
    "print(metrics.confusion_matrix(expected, predicted))"
   ]
  },
  {
   "cell_type": "code",
   "execution_count": 25,
   "metadata": {},
   "outputs": [],
   "source": [
    "from sklearn.metrics import confusion_matrix\n",
    "import matplotlib.pyplot as plt\n",
    "import itertools\n",
    "\n",
    "def plot_confusion_matrix(cm, classes,\n",
    "                          normalize=False,\n",
    "                          title='Confusion matrix',\n",
    "                          cmap=plt.cm.Blues):\n",
    "\n",
    "\n",
    "    plt.imshow(cm, interpolation='nearest', cmap=cmap)\n",
    "    plt.title(title)\n",
    "    plt.colorbar()\n",
    "    tick_marks = np.arange(len(classes))\n",
    "    plt.xticks(tick_marks, classes, rotation=45)\n",
    "    plt.yticks(tick_marks, classes)\n",
    "\n",
    "    fmt = '.2f' if normalize else 'd'\n",
    "    thresh = cm.max() / 2.\n",
    "    for i, j in itertools.product(range(cm.shape[0]), range(cm.shape[1])):\n",
    "        plt.text(j, i, format(cm[i, j], fmt),\n",
    "                 horizontalalignment=\"center\",\n",
    "                 color=\"white\" if cm[i, j] > thresh else \"black\")\n",
    "\n",
    "    plt.ylabel('True label')\n",
    "    plt.xlabel('Predicted label')\n",
    "    plt.tight_layout()"
   ]
  },
  {
   "cell_type": "code",
   "execution_count": 26,
   "metadata": {},
   "outputs": [
    {
     "data": {
      "image/png": "[encoded data removed]",
      "text/plain": [
       "<Figure size 432x288 with 2 Axes>"
      ]
     },
     "metadata": {},
     "output_type": "display_data"
    }
   ],
   "source": [
    "plt.figure()\n",
    "plot_confusion_matrix(metrics.confusion_matrix(expected, predicted), classes.unique(),\n",
    "                       title='Confusion matrix')"
   ]
  },
  {
   "cell_type": "code",
   "execution_count": 27,
   "metadata": {},
   "outputs": [
    {
     "data": {
      "text/plain": [
       "1"
      ]
     },
     "execution_count": 27,
     "metadata": {},
     "output_type": "execute_result"
    }
   ],
   "source": [
    "gnb.predict([[0,25,26,35,6]])[0]"
   ]
  },
  {
   "cell_type": "markdown",
   "metadata": {},
   "source": [
    "## An attempt to improve the accuracy"
   ]
  },
  {
   "cell_type": "markdown",
   "metadata": {},
   "source": [
    "#### lets see what happend if we removed one or more featers (we tried all the Variations) , if its will help or not."
   ]
  },
  {
   "cell_type": "code",
   "execution_count": 28,
   "metadata": {},
   "outputs": [],
   "source": [
    "# Split dataset again in training and test datasets without dayDiff\n",
    "used_features1 =['Snapshot Date','Checkin Date','Hotel Name','WeekDay']\n",
    "features1 = new_df[used_features1]\n",
    "X_train1, X_test1, Y_train1, Y_test1 = train_test_split(features1,classes, test_size=0.3)"
   ]
  },
  {
   "cell_type": "code",
   "execution_count": 29,
   "metadata": {},
   "outputs": [
    {
     "data": {
      "text/plain": [
       "GaussianNB(priors=None)"
      ]
     },
     "execution_count": 29,
     "metadata": {},
     "output_type": "execute_result"
    }
   ],
   "source": [
    "from sklearn.naive_bayes import GaussianNB\n",
    "# Instantiate the classifier\n",
    "gnb = GaussianNB()\n",
    "# Train classifier\n",
    "gnb.fit(\n",
    "    X_train1,\n",
    "    Y_train1\n",
    ")"
   ]
  },
  {
   "cell_type": "markdown",
   "metadata": {},
   "source": [
    "#### now the accuracy :"
   ]
  },
  {
   "cell_type": "code",
   "execution_count": 30,
   "metadata": {},
   "outputs": [
    {
     "data": {
      "text/plain": [
       "0.3081081081081081"
      ]
     },
     "execution_count": 30,
     "metadata": {},
     "output_type": "execute_result"
    }
   ],
   "source": [
    "expected1 = Y_test1\n",
    "predicted1 = gnb.predict(X_test1)\n",
    "accuracy_score(expected1,predicted1)"
   ]
  },
  {
   "cell_type": "markdown",
   "metadata": {},
   "source": [
    "#### As you can see nothing has changed, has not helped"
   ]
  },
  {
   "cell_type": "markdown",
   "metadata": {},
   "source": [
    "#### we found that there is a problem of imbalnce classes and decided to take same size date each class"
   ]
  },
  {
   "cell_type": "code",
   "execution_count": 31,
   "metadata": {},
   "outputs": [
    {
     "name": "stdout",
     "output_type": "stream",
     "text": [
      "c1: Snapshot Date    27899\n",
      "Checkin Date     27899\n",
      "DayDiff          27899\n",
      "Hotel Name       27899\n",
      "WeekDay          27899\n",
      "Discount Code    27899\n",
      "dtype: int64\n",
      "c2: Snapshot Date    34040\n",
      "Checkin Date     34040\n",
      "DayDiff          34040\n",
      "Hotel Name       34040\n",
      "WeekDay          34040\n",
      "Discount Code    34040\n",
      "dtype: int64\n",
      "c3: Snapshot Date    28835\n",
      "Checkin Date     28835\n",
      "DayDiff          28835\n",
      "Hotel Name       28835\n",
      "WeekDay          28835\n",
      "Discount Code    28835\n",
      "dtype: int64\n",
      "c4: Snapshot Date    16525\n",
      "Checkin Date     16525\n",
      "DayDiff          16525\n",
      "Hotel Name       16525\n",
      "WeekDay          16525\n",
      "Discount Code    16525\n",
      "dtype: int64\n"
     ]
    }
   ],
   "source": [
    "C1=new_df[new_df['Discount Code']==1].count()\n",
    "C2=new_df[new_df['Discount Code']==2].count()\n",
    "C3=new_df[new_df['Discount Code']==3].count()\n",
    "C4=new_df[new_df['Discount Code']==4].count()\n",
    "print(\"c1:\",C1)\n",
    "print(\"c2:\",C2)\n",
    "print(\"c3:\",C3)\n",
    "print(\"c4:\",C4)"
   ]
  },
  {
   "cell_type": "code",
   "execution_count": 32,
   "metadata": {},
   "outputs": [],
   "source": [
    "# 16525 is the min number of rows in all the classes\n",
    "Class1=new_df[new_df['Discount Code']==1].head(16525)\n",
    "Class2=new_df[new_df['Discount Code']==2].head(16525)\n",
    "Class3=new_df[new_df['Discount Code']==3].head(16525)\n",
    "Class4=new_df[new_df['Discount Code']==4].head(16525)"
   ]
  },
  {
   "cell_type": "code",
   "execution_count": 33,
   "metadata": {},
   "outputs": [],
   "source": [
    "Class1=Class1.append(Class2)\n",
    "Class1=Class1.append(Class3)\n",
    "Class1=Class1.append(Class4)"
   ]
  },
  {
   "cell_type": "code",
   "execution_count": 34,
   "metadata": {},
   "outputs": [
    {
     "data": {
      "text/html": [
       "<div>\n",
       "<style scoped>\n",
       "    .dataframe tbody tr th:only-of-type {\n",
       "        vertical-align: middle;\n",
       "    }\n",
       "\n",
       "    .dataframe tbody tr th {\n",
       "        vertical-align: top;\n",
       "    }\n",
       "\n",
       "    .dataframe thead th {\n",
       "        text-align: right;\n",
       "    }\n",
       "</style>\n",
       "<table border=\"1\" class=\"dataframe\">\n",
       "  <thead>\n",
       "    <tr style=\"text-align: right;\">\n",
       "      <th></th>\n",
       "      <th>Snapshot Date</th>\n",
       "      <th>Checkin Date</th>\n",
       "      <th>DayDiff</th>\n",
       "      <th>Hotel Name</th>\n",
       "      <th>WeekDay</th>\n",
       "      <th>Discount Code</th>\n",
       "    </tr>\n",
       "  </thead>\n",
       "  <tbody>\n",
       "    <tr>\n",
       "      <th>187837</th>\n",
       "      <td>27</td>\n",
       "      <td>51</td>\n",
       "      <td>23</td>\n",
       "      <td>314</td>\n",
       "      <td>1</td>\n",
       "      <td>4</td>\n",
       "    </tr>\n",
       "    <tr>\n",
       "      <th>187841</th>\n",
       "      <td>27</td>\n",
       "      <td>40</td>\n",
       "      <td>12</td>\n",
       "      <td>47</td>\n",
       "      <td>4</td>\n",
       "      <td>4</td>\n",
       "    </tr>\n",
       "    <tr>\n",
       "      <th>187844</th>\n",
       "      <td>27</td>\n",
       "      <td>48</td>\n",
       "      <td>20</td>\n",
       "      <td>445</td>\n",
       "      <td>0</td>\n",
       "      <td>4</td>\n",
       "    </tr>\n",
       "    <tr>\n",
       "      <th>187845</th>\n",
       "      <td>27</td>\n",
       "      <td>33</td>\n",
       "      <td>5</td>\n",
       "      <td>273</td>\n",
       "      <td>4</td>\n",
       "      <td>4</td>\n",
       "    </tr>\n",
       "    <tr>\n",
       "      <th>187846</th>\n",
       "      <td>27</td>\n",
       "      <td>46</td>\n",
       "      <td>18</td>\n",
       "      <td>273</td>\n",
       "      <td>6</td>\n",
       "      <td>4</td>\n",
       "    </tr>\n",
       "  </tbody>\n",
       "</table>\n",
       "</div>"
      ],
      "text/plain": [
       "        Snapshot Date  Checkin Date  DayDiff  Hotel Name  WeekDay  \\\n",
       "187837             27            51       23         314        1   \n",
       "187841             27            40       12          47        4   \n",
       "187844             27            48       20         445        0   \n",
       "187845             27            33        5         273        4   \n",
       "187846             27            46       18         273        6   \n",
       "\n",
       "        Discount Code  \n",
       "187837              4  \n",
       "187841              4  \n",
       "187844              4  \n",
       "187845              4  \n",
       "187846              4  "
      ]
     },
     "execution_count": 34,
     "metadata": {},
     "output_type": "execute_result"
    }
   ],
   "source": [
    "Class1.tail()"
   ]
  },
  {
   "cell_type": "code",
   "execution_count": 35,
   "metadata": {},
   "outputs": [],
   "source": [
    "df_same=Class1.copy();"
   ]
  },
  {
   "cell_type": "code",
   "execution_count": 36,
   "metadata": {},
   "outputs": [],
   "source": [
    "df_same.drop(labels=[\"Discount Code\"],axis=1, inplace=True)"
   ]
  },
  {
   "cell_type": "code",
   "execution_count": 37,
   "metadata": {},
   "outputs": [
    {
     "data": {
      "text/html": [
       "<div>\n",
       "<style scoped>\n",
       "    .dataframe tbody tr th:only-of-type {\n",
       "        vertical-align: middle;\n",
       "    }\n",
       "\n",
       "    .dataframe tbody tr th {\n",
       "        vertical-align: top;\n",
       "    }\n",
       "\n",
       "    .dataframe thead th {\n",
       "        text-align: right;\n",
       "    }\n",
       "</style>\n",
       "<table border=\"1\" class=\"dataframe\">\n",
       "  <thead>\n",
       "    <tr style=\"text-align: right;\">\n",
       "      <th></th>\n",
       "      <th>Snapshot Date</th>\n",
       "      <th>Checkin Date</th>\n",
       "      <th>DayDiff</th>\n",
       "      <th>Hotel Name</th>\n",
       "      <th>WeekDay</th>\n",
       "    </tr>\n",
       "  </thead>\n",
       "  <tbody>\n",
       "    <tr>\n",
       "      <th>0</th>\n",
       "      <td>0</td>\n",
       "      <td>25</td>\n",
       "      <td>26</td>\n",
       "      <td>35</td>\n",
       "      <td>6</td>\n",
       "    </tr>\n",
       "    <tr>\n",
       "      <th>1</th>\n",
       "      <td>0</td>\n",
       "      <td>32</td>\n",
       "      <td>33</td>\n",
       "      <td>35</td>\n",
       "      <td>6</td>\n",
       "    </tr>\n",
       "    <tr>\n",
       "      <th>3</th>\n",
       "      <td>0</td>\n",
       "      <td>8</td>\n",
       "      <td>9</td>\n",
       "      <td>127</td>\n",
       "      <td>3</td>\n",
       "    </tr>\n",
       "    <tr>\n",
       "      <th>5</th>\n",
       "      <td>0</td>\n",
       "      <td>20</td>\n",
       "      <td>21</td>\n",
       "      <td>163</td>\n",
       "      <td>0</td>\n",
       "    </tr>\n",
       "    <tr>\n",
       "      <th>6</th>\n",
       "      <td>0</td>\n",
       "      <td>22</td>\n",
       "      <td>23</td>\n",
       "      <td>163</td>\n",
       "      <td>3</td>\n",
       "    </tr>\n",
       "  </tbody>\n",
       "</table>\n",
       "</div>"
      ],
      "text/plain": [
       "   Snapshot Date  Checkin Date  DayDiff  Hotel Name  WeekDay\n",
       "0              0            25       26          35        6\n",
       "1              0            32       33          35        6\n",
       "3              0             8        9         127        3\n",
       "5              0            20       21         163        0\n",
       "6              0            22       23         163        3"
      ]
     },
     "execution_count": 37,
     "metadata": {},
     "output_type": "execute_result"
    }
   ],
   "source": [
    "df_same.head()"
   ]
  },
  {
   "cell_type": "code",
   "execution_count": 38,
   "metadata": {},
   "outputs": [
    {
     "data": {
      "text/html": [
       "<div>\n",
       "<style scoped>\n",
       "    .dataframe tbody tr th:only-of-type {\n",
       "        vertical-align: middle;\n",
       "    }\n",
       "\n",
       "    .dataframe tbody tr th {\n",
       "        vertical-align: top;\n",
       "    }\n",
       "\n",
       "    .dataframe thead th {\n",
       "        text-align: right;\n",
       "    }\n",
       "</style>\n",
       "<table border=\"1\" class=\"dataframe\">\n",
       "  <thead>\n",
       "    <tr style=\"text-align: right;\">\n",
       "      <th></th>\n",
       "      <th>Snapshot Date</th>\n",
       "      <th>Checkin Date</th>\n",
       "      <th>DayDiff</th>\n",
       "      <th>Hotel Name</th>\n",
       "      <th>WeekDay</th>\n",
       "    </tr>\n",
       "  </thead>\n",
       "  <tbody>\n",
       "    <tr>\n",
       "      <th>count</th>\n",
       "      <td>66100.000000</td>\n",
       "      <td>66100.000000</td>\n",
       "      <td>66100.000000</td>\n",
       "      <td>66100.000000</td>\n",
       "      <td>66100.000000</td>\n",
       "    </tr>\n",
       "    <tr>\n",
       "      <th>mean</th>\n",
       "      <td>57.621180</td>\n",
       "      <td>77.987216</td>\n",
       "      <td>17.764539</td>\n",
       "      <td>279.912890</td>\n",
       "      <td>3.151740</td>\n",
       "    </tr>\n",
       "    <tr>\n",
       "      <th>std</th>\n",
       "      <td>32.115027</td>\n",
       "      <td>36.021168</td>\n",
       "      <td>9.921202</td>\n",
       "      <td>147.022605</td>\n",
       "      <td>2.078018</td>\n",
       "    </tr>\n",
       "    <tr>\n",
       "      <th>min</th>\n",
       "      <td>0.000000</td>\n",
       "      <td>0.000000</td>\n",
       "      <td>1.000000</td>\n",
       "      <td>0.000000</td>\n",
       "      <td>0.000000</td>\n",
       "    </tr>\n",
       "    <tr>\n",
       "      <th>25%</th>\n",
       "      <td>34.000000</td>\n",
       "      <td>51.000000</td>\n",
       "      <td>9.000000</td>\n",
       "      <td>173.000000</td>\n",
       "      <td>1.000000</td>\n",
       "    </tr>\n",
       "    <tr>\n",
       "      <th>50%</th>\n",
       "      <td>59.000000</td>\n",
       "      <td>79.000000</td>\n",
       "      <td>18.000000</td>\n",
       "      <td>272.000000</td>\n",
       "      <td>3.000000</td>\n",
       "    </tr>\n",
       "    <tr>\n",
       "      <th>75%</th>\n",
       "      <td>80.000000</td>\n",
       "      <td>103.000000</td>\n",
       "      <td>26.000000</td>\n",
       "      <td>387.000000</td>\n",
       "      <td>5.000000</td>\n",
       "    </tr>\n",
       "    <tr>\n",
       "      <th>max</th>\n",
       "      <td>150.000000</td>\n",
       "      <td>201.000000</td>\n",
       "      <td>34.000000</td>\n",
       "      <td>553.000000</td>\n",
       "      <td>6.000000</td>\n",
       "    </tr>\n",
       "  </tbody>\n",
       "</table>\n",
       "</div>"
      ],
      "text/plain": [
       "       Snapshot Date  Checkin Date       DayDiff    Hotel Name       WeekDay\n",
       "count   66100.000000  66100.000000  66100.000000  66100.000000  66100.000000\n",
       "mean       57.621180     77.987216     17.764539    279.912890      3.151740\n",
       "std        32.115027     36.021168      9.921202    147.022605      2.078018\n",
       "min         0.000000      0.000000      1.000000      0.000000      0.000000\n",
       "25%        34.000000     51.000000      9.000000    173.000000      1.000000\n",
       "50%        59.000000     79.000000     18.000000    272.000000      3.000000\n",
       "75%        80.000000    103.000000     26.000000    387.000000      5.000000\n",
       "max       150.000000    201.000000     34.000000    553.000000      6.000000"
      ]
     },
     "execution_count": 38,
     "metadata": {},
     "output_type": "execute_result"
    }
   ],
   "source": [
    "df_same.describe()"
   ]
  },
  {
   "cell_type": "markdown",
   "metadata": {},
   "source": [
    "#### we can see here that mean is approxmetly  as median (50%) so its probably noraml distribution"
   ]
  },
  {
   "cell_type": "code",
   "execution_count": 56,
   "metadata": {},
   "outputs": [],
   "source": [
    "X_train2, X_test2, y_train2, y_test2 = train_test_split(df_same, Class1['Discount Code'], test_size=0.3,random_state=0, stratify=Class1['Discount Code']) "
   ]
  },
  {
   "cell_type": "code",
   "execution_count": 57,
   "metadata": {},
   "outputs": [
    {
     "data": {
      "text/plain": [
       "(        Snapshot Date  Checkin Date  DayDiff  Hotel Name  WeekDay\n",
       " 7285               32            34        1         103        0\n",
       " 68753              71           105       30         194        2\n",
       " 67304              70           106       32         271        3\n",
       " 145696            123           148       20         176        3\n",
       " 62840              66            97       28         301        0\n",
       " 66212              69            85       12         187        3\n",
       " 60335              64            84       17         269        2\n",
       " 18377              39            45        5         168        5\n",
       " 44331              11            25       15          92        6\n",
       " 44064              57            83       24          47        0\n",
       " 7104               32            62       29         363        0\n",
       " 28958              46            62       14         299        0\n",
       " 57459              61            88       25         194        6\n",
       " 25994              44            50        5         246        3\n",
       " 55692              16            51       34         188        1\n",
       " 155551            131           181       33         527        0\n",
       " 46809               1            18       18         334        6\n",
       " 50424              14            28       13         194        2\n",
       " 18963              39            44        4         351        1\n",
       " 156786            132           167       18         250        0\n",
       " 69827              72            88       12         292        6\n",
       " 7166               32            50       17          47        3\n",
       " 8210               32            50       17         106        3\n",
       " 46779               1            19       19         530        4\n",
       " 53713              59            88       27         188        6\n",
       " 88127              83            92        5          24        3\n",
       " 85873              82           111       25         363        0\n",
       " 132018            112           117        1         178        4\n",
       " 86922              82            96       10         112        4\n",
       " 28731              46            53        5         180        6\n",
       " ...               ...           ...      ...         ...      ...\n",
       " 149586            126           139        6         113        0\n",
       " 27653               7            24       18         327        5\n",
       " 20328              40            44        3         528        1\n",
       " 92806              17            20        2         275        0\n",
       " 20115              40            58       17         529        1\n",
       " 21701              42            64       21          94        3\n",
       " 169797            143           166        6         374        4\n",
       " 32926              50            55        3         370        0\n",
       " 79954              77           110       29         272        4\n",
       " 73378              74           111       33         114        0\n",
       " 138056            117           156       34         547        1\n",
       " 31443              49            77       26         112        2\n",
       " 67665              70            86       12         271        1\n",
       " 49001              12            33       22         189        4\n",
       " 105049             94           132       34          17        0\n",
       " 51244              14            44       29          86        1\n",
       " 37653               9            13        5         155        0\n",
       " 27888               7             8        2         169        3\n",
       " 11214              35            61       25         189        4\n",
       " 37328               9            38       30         290        5\n",
       " 44338              11            27       17         199        0\n",
       " 11228              35            50       14         224        3\n",
       " 55284              16            51       34         170        1\n",
       " 98616              90           103        9         498        4\n",
       " 46605              58            64        4         173        3\n",
       " 278                 0            23       24         341        1\n",
       " 185495              4            11        8         180        6\n",
       " 100615             91           115       20         373        5\n",
       " 8019               32            40        7         324        4\n",
       " 88100              83            94        7         288        5\n",
       " \n",
       " [46270 rows x 5 columns],\n",
       "         Snapshot Date  Checkin Date  DayDiff  Hotel Name  WeekDay\n",
       " 85670              81           105       20         273        2\n",
       " 82223              79           104       21         250        0\n",
       " 70052              72            99       23         290        3\n",
       " 37473               9            40       32         176        4\n",
       " 11377              35            65       29         339        1\n",
       " 3869                5            22       18          34        3\n",
       " 58370              62            86       22         538        1\n",
       " 19114              39            51       11         199        1\n",
       " 47879              12            38       27         527        5\n",
       " 25703              44            56       11         449        2\n",
       " 43389              57            92       33         272        3\n",
       " 34676              51            61        8         292        4\n",
       " 89495              84            93        5         314        1\n",
       " 57715              62            92       28         192        3\n",
       " 13819              36            49       12          35        2\n",
       " 173709            147           188       24         269        0\n",
       " 82270              79            90        7         163        0\n",
       " 34711              51            60        7         169        6\n",
       " 115855            102           114        8         161        1\n",
       " 7349               32            64       31         112        3\n",
       " 49900              13            42       30         538        2\n",
       " 87948              83            97       10         492        0\n",
       " 1219               28            48       19         192        0\n",
       " 5812               31            34        2         199        0\n",
       " 84587              81           109       24         341        6\n",
       " 60316              64            77       10         112        2\n",
       " 22665              42            54       11         290        4\n",
       " 34021               8             9        2         112        1\n",
       " 59997              64            88       21         453        6\n",
       " 41906              56            73       15          34        5\n",
       " ...               ...           ...      ...         ...      ...\n",
       " 38993              54            81       25         528        6\n",
       " 51846              15            21        5         349        2\n",
       " 33378               8            38       31         153        5\n",
       " 14365              36            64       27         173        3\n",
       " 69035              71           101       26         506        5\n",
       " 51723              15            44       28         194        1\n",
       " 46098              58            91       31         472        2\n",
       " 26599              45            55        9         538        0\n",
       " 29345              46            61       13         178        4\n",
       " 61542              65            87       19         398        5\n",
       " 77905              76            85        5         475        3\n",
       " 58621              62            89       25         374        4\n",
       " 18704              39            54       14         109        4\n",
       " 97710              89           100        7         154        1\n",
       " 39914              54            63        7         194        2\n",
       " 41203              56            61        3         188        4\n",
       " 50020              13            17        5         351        5\n",
       " 8508               33            47       13         482        4\n",
       " 79975              77            97       16         538        0\n",
       " 93928              87            93        2         290        1\n",
       " 63670              67            96       26         285        4\n",
       " 101390             92           111       15         301        0\n",
       " 54182              60            96       34         525        4\n",
       " 50777              14            16        1         108        1\n",
       " 9727               34            55       20         363        0\n",
       " 179908             21            49       27         285        2\n",
       " 63986              67            87       17         285        5\n",
       " 75129              75           102       23         453        6\n",
       " 109385             98           111        9         301        0\n",
       " 75390              75           102       23         324        6\n",
       " \n",
       " [19830 rows x 5 columns],\n",
       " 7285      2\n",
       " 68753     2\n",
       " 67304     1\n",
       " 145696    4\n",
       " 62840     2\n",
       " 66212     2\n",
       " 60335     2\n",
       " 18377     2\n",
       " 44331     1\n",
       " 44064     3\n",
       " 7104      1\n",
       " 28958     2\n",
       " 57459     4\n",
       " 25994     3\n",
       " 55692     2\n",
       " 155551    4\n",
       " 46809     2\n",
       " 50424     1\n",
       " 18963     3\n",
       " 156786    4\n",
       " 69827     1\n",
       " 7166      1\n",
       " 8210      4\n",
       " 46779     2\n",
       " 53713     3\n",
       " 88127     3\n",
       " 85873     1\n",
       " 132018    4\n",
       " 86922     4\n",
       " 28731     2\n",
       "          ..\n",
       " 149586    4\n",
       " 27653     2\n",
       " 20328     4\n",
       " 92806     1\n",
       " 20115     3\n",
       " 21701     1\n",
       " 169797    4\n",
       " 32926     3\n",
       " 79954     4\n",
       " 73378     1\n",
       " 138056    4\n",
       " 31443     1\n",
       " 67665     2\n",
       " 49001     4\n",
       " 105049    4\n",
       " 51244     3\n",
       " 37653     3\n",
       " 27888     2\n",
       " 11214     2\n",
       " 37328     3\n",
       " 44338     1\n",
       " 11228     2\n",
       " 55284     1\n",
       " 98616     1\n",
       " 46605     4\n",
       " 278       2\n",
       " 185495    4\n",
       " 100615    3\n",
       " 8019      4\n",
       " 88100     3\n",
       " Name: Discount Code, Length: 46270, dtype: int64,\n",
       " 85670     4\n",
       " 82223     2\n",
       " 70052     2\n",
       " 37473     3\n",
       " 11377     2\n",
       " 3869      2\n",
       " 58370     3\n",
       " 19114     4\n",
       " 47879     1\n",
       " 25703     3\n",
       " 43389     1\n",
       " 34676     1\n",
       " 89495     3\n",
       " 57715     1\n",
       " 13819     3\n",
       " 173709    4\n",
       " 82270     3\n",
       " 34711     1\n",
       " 115855    4\n",
       " 7349      2\n",
       " 49900     3\n",
       " 87948     3\n",
       " 1219      1\n",
       " 5812      1\n",
       " 84587     2\n",
       " 60316     2\n",
       " 22665     4\n",
       " 34021     3\n",
       " 59997     1\n",
       " 41906     4\n",
       "          ..\n",
       " 38993     1\n",
       " 51846     1\n",
       " 33378     1\n",
       " 14365     4\n",
       " 69035     3\n",
       " 51723     1\n",
       " 46098     2\n",
       " 26599     2\n",
       " 29345     4\n",
       " 61542     2\n",
       " 77905     3\n",
       " 58621     4\n",
       " 18704     3\n",
       " 97710     3\n",
       " 39914     4\n",
       " 41203     1\n",
       " 50020     3\n",
       " 8508      2\n",
       " 79975     4\n",
       " 93928     1\n",
       " 63670     1\n",
       " 101390    1\n",
       " 54182     1\n",
       " 50777     2\n",
       " 9727      1\n",
       " 179908    4\n",
       " 63986     2\n",
       " 75129     1\n",
       " 109385    1\n",
       " 75390     2\n",
       " Name: Discount Code, Length: 19830, dtype: int64)"
      ]
     },
     "execution_count": 57,
     "metadata": {},
     "output_type": "execute_result"
    }
   ],
   "source": [
    "X_train2, X_test2, y_train2, y_test2"
   ]
  },
  {
   "cell_type": "code",
   "execution_count": 58,
   "metadata": {},
   "outputs": [],
   "source": [
    "from sklearn.naive_bayes import GaussianNB\n",
    "gnb = GaussianNB()\n",
    "gnb.fit(X_train2, y_train2)\n",
    "pred = gnb.predict(X_test2)"
   ]
  },
  {
   "cell_type": "code",
   "execution_count": 59,
   "metadata": {},
   "outputs": [
    {
     "data": {
      "text/plain": [
       "0.33318204740292484"
      ]
     },
     "execution_count": 59,
     "metadata": {},
     "output_type": "execute_result"
    }
   ],
   "source": [
    "accuracy_score(y_test2,pred)"
   ]
  },
  {
   "cell_type": "code",
   "execution_count": 60,
   "metadata": {},
   "outputs": [
    {
     "name": "stdout",
     "output_type": "stream",
     "text": [
      "             precision    recall  f1-score   support\n",
      "\n",
      "          1       0.27      0.14      0.19      4958\n",
      "          2       0.29      0.55      0.38      4958\n",
      "          3       0.30      0.21      0.25      4957\n",
      "          4       0.49      0.44      0.46      4957\n",
      "\n",
      "avg / total       0.34      0.33      0.32     19830\n",
      "\n",
      "[[ 695 2510  727 1026]\n",
      " [ 755 2708 1157  338]\n",
      " [ 640 2356 1034  927]\n",
      " [ 456 1788  543 2170]]\n"
     ]
    }
   ],
   "source": [
    "from sklearn import metrics\n",
    "print(metrics.classification_report(y_test2,pred))\n",
    "print(metrics.confusion_matrix(y_test2,pred))"
   ]
  },
  {
   "cell_type": "code",
   "execution_count": 44,
   "metadata": {},
   "outputs": [
    {
     "data": {
      "image/png": "[encoded data removed]",
      "text/plain": [
       "<Figure size 432x288 with 2 Axes>"
      ]
     },
     "metadata": {},
     "output_type": "display_data"
    }
   ],
   "source": [
    "plt.figure()\n",
    "plot_confusion_matrix(metrics.confusion_matrix(y_test2,pred), y_test2.unique(),\n",
    "                       title='Confusion matrix')"
   ]
  },
  {
   "cell_type": "code",
   "execution_count": 45,
   "metadata": {},
   "outputs": [
    {
     "data": {
      "text/plain": [
       "2"
      ]
     },
     "execution_count": 45,
     "metadata": {},
     "output_type": "execute_result"
    }
   ],
   "source": [
    "gnb.predict([[0,25,26,35,6]])[0]"
   ]
  },
  {
   "cell_type": "code",
   "execution_count": 46,
   "metadata": {},
   "outputs": [
    {
     "name": "stdout",
     "output_type": "stream",
     "text": [
      "FP for classes:\n",
      "\tclass 1 = 1824.000000\n",
      "\tclass 2 = 6704.000000\n",
      "\tclass 3 = 2322.000000\n",
      "\tclass 4 = 2331.000000\n",
      "\n",
      "FN for classes:\n",
      "\tclass 1 = 4245.000000\n",
      "\tclass 2 = 2160.000000\n",
      "\tclass 3 = 3894.000000\n",
      "\tclass 4 = 2882.000000\n",
      "\n",
      "TP for classes:\n",
      "\tclass 1 = 680.000000\n",
      "\tclass 2 = 2757.000000\n",
      "\tclass 3 = 1044.000000\n",
      "\tclass 4 = 2168.000000\n",
      "\n",
      "TN for classes:\n",
      "\tclass 1 = 13081.000000\n",
      "\tclass 2 = 8209.000000\n",
      "\tclass 3 = 12570.000000\n",
      "\tclass 4 = 12449.000000\n",
      "\n",
      "TPR for classes:\n",
      "\tclass 1 = 0.138071\n",
      "\tclass 2 = 0.560708\n",
      "\tclass 3 = 0.211422\n",
      "\tclass 4 = 0.429307\n",
      "\n",
      "TNR for classes:\n",
      "\tclass 1 = 0.877625\n",
      "\tclass 2 = 0.550459\n",
      "\tclass 3 = 0.844077\n",
      "\tclass 4 = 0.842287\n",
      "\n",
      "PPV for classes:\n",
      "\tclass 1 = 0.271565\n",
      "\tclass 2 = 0.291407\n",
      "\tclass 3 = 0.310160\n",
      "\tclass 4 = 0.481885\n",
      "\n",
      "NPV for classes:\n",
      "\tclass 1 = 0.754992\n",
      "\tclass 2 = 0.791687\n",
      "\tclass 3 = 0.763484\n",
      "\tclass 4 = 0.812015\n",
      "\n",
      "FPR for classes:\n",
      "\tclass 1 = 0.122375\n",
      "\tclass 2 = 0.449541\n",
      "\tclass 3 = 0.155923\n",
      "\tclass 4 = 0.157713\n",
      "\n",
      "FNR for classes:\n",
      "\tclass 1 = 0.861929\n",
      "\tclass 2 = 0.439292\n",
      "\tclass 3 = 0.788578\n",
      "\tclass 4 = 0.570693\n",
      "\n",
      "FDR for classes:\n",
      "\tclass 1 = 0.728435\n",
      "\tclass 2 = 0.708593\n",
      "\tclass 3 = 0.689840\n",
      "\tclass 4 = 0.518115\n",
      "\n",
      "ACC for classes:\n",
      "\tclass 1 = 0.693949\n",
      "\tclass 2 = 0.553001\n",
      "\tclass 3 = 0.686536\n",
      "\tclass 4 = 0.737115\n",
      "\n"
     ]
    }
   ],
   "source": [
    "cm=metrics.confusion_matrix(y_test2,pred)\n",
    "\n",
    "FP = cm.sum(axis=0) - np.diag(cm)  # foreach class: sum prediction - TP\n",
    "FN = cm.sum(axis=1) - np.diag(cm)  # foreach class: sum actuals - TP\n",
    "TP = np.diag(cm)\n",
    "TN = cm.sum() - (FP + FN + TP)\n",
    "\n",
    "FP = FP.astype(float)\n",
    "FN = FN.astype(float)\n",
    "TP = TP.astype(float)\n",
    "TN = TN.astype(float)\n",
    "\n",
    "def printRates(array, stat):\n",
    "    print(\"%s for classes:\" %stat)\n",
    "    for i in range(len(array)):\n",
    "        print(\"\\tclass %d = %f\" %(i+1, array[i]))\n",
    "    print(\"\")\n",
    "    \n",
    "printRates(FP, \"FP\")\n",
    "printRates(FN, \"FN\")\n",
    "printRates(TP, \"TP\")\n",
    "printRates(TN, \"TN\")\n",
    "\n",
    "# Sensitivity, hit rate, recall, or true positive rate\n",
    "TPR = TP/(TP+FN)\n",
    "printRates(TPR, \"TPR\")\n",
    "\n",
    "# Specificity or true negative rate\n",
    "TNR = TN/(TN+FP) \n",
    "printRates(TNR, \"TNR\")\n",
    "\n",
    "# Precision or positive predictive value\n",
    "PPV = TP/(TP+FP)\n",
    "printRates(PPV, \"PPV\")\n",
    "\n",
    "# Negative predictive value\n",
    "NPV = TN/(TN+FN)\n",
    "printRates(NPV, \"NPV\")\n",
    "\n",
    "# Fall out or false positive rate\n",
    "FPR = FP/(FP+TN)\n",
    "printRates(FPR, \"FPR\")\n",
    "\n",
    "# False negative rate\n",
    "FNR = FN/(TP+FN)\n",
    "printRates(FNR, \"FNR\")\n",
    "\n",
    "# False discovery rate\n",
    "FDR = FP/(TP+FP)\n",
    "printRates(FDR, \"FDR\")\n",
    "\n",
    "# Overall accuracy\n",
    "ACC = (TP+TN)/(TP+FP+FN+TN)\n",
    "printRates(ACC, \"ACC\")"
   ]
  },
  {
   "cell_type": "markdown",
   "metadata": {},
   "source": [
    "## Decision tree"
   ]
  },
  {
   "cell_type": "code",
   "execution_count": 47,
   "metadata": {},
   "outputs": [],
   "source": [
    "from sklearn import tree"
   ]
  },
  {
   "cell_type": "code",
   "execution_count": 48,
   "metadata": {},
   "outputs": [],
   "source": [
    "dt_classifier = tree.DecisionTreeClassifier()\n",
    "dt_classifier = dt_classifier.fit(X_train2, y_train2)"
   ]
  },
  {
   "cell_type": "code",
   "execution_count": 49,
   "metadata": {},
   "outputs": [],
   "source": [
    "expected = y_test2\n",
    "predicted = dt_classifier.predict(X_test2)"
   ]
  },
  {
   "cell_type": "code",
   "execution_count": 50,
   "metadata": {},
   "outputs": [
    {
     "name": "stdout",
     "output_type": "stream",
     "text": [
      "             precision    recall  f1-score   support\n",
      "\n",
      "          1       0.79      0.78      0.78      4925\n",
      "          2       0.77      0.78      0.77      4917\n",
      "          3       0.77      0.77      0.77      4938\n",
      "          4       0.83      0.83      0.83      5050\n",
      "\n",
      "avg / total       0.79      0.79      0.79     19830\n",
      "\n",
      "[[3817  438  363  307]\n",
      " [ 416 3840  436  225]\n",
      " [ 366  469 3789  314]\n",
      " [ 258  252  350 4190]]\n"
     ]
    }
   ],
   "source": [
    "print(metrics.classification_report(expected, predicted))\n",
    "print(metrics.confusion_matrix(expected, predicted))"
   ]
  },
  {
   "cell_type": "code",
   "execution_count": 51,
   "metadata": {},
   "outputs": [
    {
     "data": {
      "image/png": "[encoded data removed]",
      "text/plain": [
       "<Figure size 432x288 with 2 Axes>"
      ]
     },
     "metadata": {},
     "output_type": "display_data"
    }
   ],
   "source": [
    "plt.figure()\n",
    "plot_confusion_matrix(metrics.confusion_matrix(expected,predicted), expected.unique(),\n",
    "                       title='Confusion matrix')"
   ]
  },
  {
   "cell_type": "code",
   "execution_count": 52,
   "metadata": {
    "scrolled": true
   },
   "outputs": [
    {
     "data": {
      "text/plain": [
       "0.7885022692889562"
      ]
     },
     "execution_count": 52,
     "metadata": {},
     "output_type": "execute_result"
    }
   ],
   "source": [
    "accuracy_score(expected,predicted)"
   ]
  },
  {
   "cell_type": "code",
   "execution_count": 53,
   "metadata": {},
   "outputs": [
    {
     "data": {
      "text/plain": [
       "1"
      ]
     },
     "execution_count": 53,
     "metadata": {},
     "output_type": "execute_result"
    }
   ],
   "source": [
    "dt_classifier.predict([[0,25,26,35,6]])[0]"
   ]
  },
  {
   "cell_type": "code",
   "execution_count": 54,
   "metadata": {},
   "outputs": [
    {
     "name": "stdout",
     "output_type": "stream",
     "text": [
      "FP for classes:\n",
      "\tclass 1 = 1040.000000\n",
      "\tclass 2 = 1159.000000\n",
      "\tclass 3 = 1149.000000\n",
      "\tclass 4 = 846.000000\n",
      "\n",
      "FN for classes:\n",
      "\tclass 1 = 1108.000000\n",
      "\tclass 2 = 1077.000000\n",
      "\tclass 3 = 1149.000000\n",
      "\tclass 4 = 860.000000\n",
      "\n",
      "TP for classes:\n",
      "\tclass 1 = 3817.000000\n",
      "\tclass 2 = 3840.000000\n",
      "\tclass 3 = 3789.000000\n",
      "\tclass 4 = 4190.000000\n",
      "\n",
      "TN for classes:\n",
      "\tclass 1 = 13865.000000\n",
      "\tclass 2 = 13754.000000\n",
      "\tclass 3 = 13743.000000\n",
      "\tclass 4 = 13934.000000\n",
      "\n",
      "TPR for classes:\n",
      "\tclass 1 = 0.775025\n",
      "\tclass 2 = 0.780964\n",
      "\tclass 3 = 0.767315\n",
      "\tclass 4 = 0.829703\n",
      "\n",
      "TNR for classes:\n",
      "\tclass 1 = 0.930225\n",
      "\tclass 2 = 0.922283\n",
      "\tclass 3 = 0.922844\n",
      "\tclass 4 = 0.942760\n",
      "\n",
      "PPV for classes:\n",
      "\tclass 1 = 0.785876\n",
      "\tclass 2 = 0.768154\n",
      "\tclass 3 = 0.767315\n",
      "\tclass 4 = 0.832010\n",
      "\n",
      "NPV for classes:\n",
      "\tclass 1 = 0.926000\n",
      "\tclass 2 = 0.927382\n",
      "\tclass 3 = 0.922844\n",
      "\tclass 4 = 0.941868\n",
      "\n",
      "FPR for classes:\n",
      "\tclass 1 = 0.069775\n",
      "\tclass 2 = 0.077717\n",
      "\tclass 3 = 0.077156\n",
      "\tclass 4 = 0.057240\n",
      "\n",
      "FNR for classes:\n",
      "\tclass 1 = 0.224975\n",
      "\tclass 2 = 0.219036\n",
      "\tclass 3 = 0.232685\n",
      "\tclass 4 = 0.170297\n",
      "\n",
      "FDR for classes:\n",
      "\tclass 1 = 0.214124\n",
      "\tclass 2 = 0.231846\n",
      "\tclass 3 = 0.232685\n",
      "\tclass 4 = 0.167990\n",
      "\n",
      "ACC for classes:\n",
      "\tclass 1 = 0.891679\n",
      "\tclass 2 = 0.887242\n",
      "\tclass 3 = 0.884115\n",
      "\tclass 4 = 0.913969\n",
      "\n"
     ]
    }
   ],
   "source": [
    "cm = confusion_matrix(expected,predicted)\n",
    "\n",
    "\n",
    "FP = cm.sum(axis=0) - np.diag(cm) \n",
    "FN = cm.sum(axis=1) - np.diag(cm)  \n",
    "TP = np.diag(cm)\n",
    "TN = cm.sum() - (FP + FN + TP)\n",
    "\n",
    "FP = FP.astype(float)\n",
    "FN = FN.astype(float)\n",
    "TP = TP.astype(float)\n",
    "TN = TN.astype(float)\n",
    "\n",
    "printRates(FP, \"FP\")\n",
    "printRates(FN, \"FN\")\n",
    "printRates(TP, \"TP\")\n",
    "printRates(TN, \"TN\")\n",
    "\n",
    "# Sensitivity, hit rate, recall, or true positive rate\n",
    "TPR = TP/(TP+FN)\n",
    "printRates(TPR, \"TPR\")\n",
    "\n",
    "# Specificity or true negative rate\n",
    "TNR = TN/(TN+FP) \n",
    "printRates(TNR, \"TNR\")\n",
    "\n",
    "# Precision or positive predictive value\n",
    "PPV = TP/(TP+FP)\n",
    "printRates(PPV, \"PPV\")\n",
    "\n",
    "# Negative predictive value\n",
    "NPV = TN/(TN+FN)\n",
    "printRates(NPV, \"NPV\")\n",
    "\n",
    "# Fall out or false positive rate\n",
    "FPR = FP/(FP+TN)\n",
    "printRates(FPR, \"FPR\")\n",
    "\n",
    "# False negative rate\n",
    "FNR = FN/(TP+FN)\n",
    "printRates(FNR, \"FNR\")\n",
    "\n",
    "# False discovery rate\n",
    "FDR = FP/(TP+FP)\n",
    "printRates(FDR, \"FDR\")\n",
    "\n",
    "# Overall accuracy\n",
    "ACC = (TP+TN)/(TP+FP+FN+TN)\n",
    "printRates(ACC, \"ACC\")"
   ]
  },
  {
   "cell_type": "markdown",
   "metadata": {},
   "source": [
    "## ROC"
   ]
  },
  {
   "cell_type": "code",
   "execution_count": 55,
   "metadata": {},
   "outputs": [
    {
     "name": "stdout",
     "output_type": "stream",
     "text": [
      "Naive Bayes\n"
     ]
    },
    {
     "data": {
      "image/png": "[encoded data removed]",
      "text/plain": [
       "<Figure size 576x360 with 1 Axes>"
      ]
     },
     "metadata": {},
     "output_type": "display_data"
    },
    {
     "name": "stdout",
     "output_type": "stream",
     "text": [
      "Decision Tree\n"
     ]
    },
    {
     "data": {
      "image/png": "[encoded data removed]",
      "text/plain": [
       "<Figure size 576x360 with 1 Axes>"
      ]
     },
     "metadata": {},
     "output_type": "display_data"
    }
   ],
   "source": [
    "import matplotlib.pyplot as plt\n",
    "from sklearn.metrics import roc_curve,auc\n",
    "from scipy import interp\n",
    "%matplotlib inline\n",
    "\n",
    "def PlotRoc(classifier_type, pred,n_classes):\n",
    "    fpr = dict()\n",
    "    tpr = dict()\n",
    "    roc_auc = dict()\n",
    "    \n",
    "    for i in range(n_classes):\n",
    "        fpr[i], tpr[i], _ = roc_curve(np.array(pd.get_dummies(y_test2))[:, i], np.array(pd.get_dummies(pred))[:, i])\n",
    "        roc_auc[i] = auc(fpr[i], tpr[i])\n",
    "\n",
    "\n",
    "    all_fpr = np.unique(np.concatenate([fpr[i] for i in range(n_classes)]))\n",
    "\n",
    "    mean_tpr = np.zeros_like(all_fpr)\n",
    "    for i in range(n_classes):\n",
    "        mean_tpr += interp(all_fpr, fpr[i], tpr[i])\n",
    "\n",
    "    mean_tpr /= n_classes\n",
    "\n",
    "    fpr[\"macro\"] = all_fpr\n",
    "    tpr[\"macro\"] = mean_tpr\n",
    "    roc_auc[\"macro\"] = auc(fpr[\"macro\"], tpr[\"macro\"])\n",
    "\n",
    "    lw=2\n",
    "    plt.figure(figsize=(8,5))\n",
    "    plt.plot(fpr[\"macro\"], tpr[\"macro\"],\n",
    "             label='macro-average ROC curve (area = {0:0.2f})'\n",
    "                   ''.format(roc_auc[\"macro\"]),\n",
    "             color='green', linestyle=':', linewidth=4)\n",
    "\n",
    "    colors = ['aqua', 'darkorange', 'cornflowerblue', 'yellow']\n",
    "    for i, color in zip(range(n_classes), colors):\n",
    "        plt.plot(fpr[i], tpr[i], color=color, lw=lw,\n",
    "                 label='ROC curve of class {0} (area = {1:0.2f})'\n",
    "                 ''.format(i, roc_auc[i]))\n",
    "\n",
    "    plt.plot([0, 1], [0, 1], 'k--',color='red', lw=lw)\n",
    "    plt.xlim([0.0, 1.0])\n",
    "    plt.ylim([0.0, 1.05])\n",
    "    plt.annotate('Random Guess',(.5,.48),color='red')\n",
    "    plt.xlabel('False Positive Rate')\n",
    "    plt.ylabel('True Positive Rate')\n",
    "    plt.title('ROC')\n",
    "    plt.legend(loc=\"lower right\")\n",
    "    plt.show()\n",
    "    \n",
    "\n",
    "print(\"Naive Bayes\")\n",
    "PlotRoc(\"Naive Bayes\", pred,4)\n",
    "print(\"Decision Tree\")\n",
    "PlotRoc(\"Decision Tree\", predicted,4)"
   ]
  },
  {
   "cell_type": "code",
   "execution_count": null,
   "metadata": {},
   "outputs": [],
   "source": []
  }
 ],
 "metadata": {
  "celltoolbar": "Raw Cell Format",
  "kernelspec": {
   "display_name": "Python 3",
   "language": "python",
   "name": "python3"
  },
  "language_info": {
   "codemirror_mode": {
    "name": "ipython",
    "version": 3
   },
   "file_extension": ".py",
   "mimetype": "text/x-python",
   "name": "python",
   "nbconvert_exporter": "python",
   "pygments_lexer": "ipython3",
   "version": "3.6.5"
  }
 },
 "nbformat": 4,
 "nbformat_minor": 2
}
