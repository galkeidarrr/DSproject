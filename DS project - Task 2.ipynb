{
 "cells": [
  {
   "cell_type": "markdown",
   "metadata": {},
   "source": [
    "# Data Sience Project - Task 2  "
   ]
  },
  {
   "cell_type": "code",
   "execution_count": 1,
   "metadata": {},
   "outputs": [],
   "source": [
    "import pandas as pd\n",
    "import numpy as np"
   ]
  },
  {
   "cell_type": "code",
   "execution_count": 2,
   "metadata": {},
   "outputs": [
    {
     "data": {
      "text/html": [
       "<div>\n",
       "<style scoped>\n",
       "    .dataframe tbody tr th:only-of-type {\n",
       "        vertical-align: middle;\n",
       "    }\n",
       "\n",
       "    .dataframe tbody tr th {\n",
       "        vertical-align: top;\n",
       "    }\n",
       "\n",
       "    .dataframe thead th {\n",
       "        text-align: right;\n",
       "    }\n",
       "</style>\n",
       "<table border=\"1\" class=\"dataframe\">\n",
       "  <thead>\n",
       "    <tr style=\"text-align: right;\">\n",
       "      <th></th>\n",
       "      <th>Unnamed: 0</th>\n",
       "      <th>Snapshot ID</th>\n",
       "      <th>Snapshot Date</th>\n",
       "      <th>Checkin Date</th>\n",
       "      <th>Days</th>\n",
       "      <th>Original Price</th>\n",
       "      <th>Discount Price</th>\n",
       "      <th>Discount Code</th>\n",
       "      <th>Available Rooms</th>\n",
       "      <th>Hotel Name</th>\n",
       "      <th>Hotel Stars</th>\n",
       "      <th>DayDiff</th>\n",
       "      <th>WeekDay</th>\n",
       "      <th>DiscountDiff</th>\n",
       "      <th>DiscountPerc</th>\n",
       "    </tr>\n",
       "  </thead>\n",
       "  <tbody>\n",
       "    <tr>\n",
       "      <th>0</th>\n",
       "      <td>0</td>\n",
       "      <td>1</td>\n",
       "      <td>2015-07-17</td>\n",
       "      <td>2015-08-12</td>\n",
       "      <td>5</td>\n",
       "      <td>1178</td>\n",
       "      <td>1040</td>\n",
       "      <td>1</td>\n",
       "      <td>6</td>\n",
       "      <td>Best Western Plus Seaport Inn Downtown</td>\n",
       "      <td>3</td>\n",
       "      <td>26</td>\n",
       "      <td>Wednesday</td>\n",
       "      <td>138</td>\n",
       "      <td>11.714771</td>\n",
       "    </tr>\n",
       "    <tr>\n",
       "      <th>1</th>\n",
       "      <td>1</td>\n",
       "      <td>1</td>\n",
       "      <td>2015-07-17</td>\n",
       "      <td>2015-08-19</td>\n",
       "      <td>5</td>\n",
       "      <td>1113</td>\n",
       "      <td>982</td>\n",
       "      <td>1</td>\n",
       "      <td>8</td>\n",
       "      <td>Best Western Plus Seaport Inn Downtown</td>\n",
       "      <td>3</td>\n",
       "      <td>33</td>\n",
       "      <td>Wednesday</td>\n",
       "      <td>131</td>\n",
       "      <td>11.769991</td>\n",
       "    </tr>\n",
       "    <tr>\n",
       "      <th>2</th>\n",
       "      <td>2</td>\n",
       "      <td>1</td>\n",
       "      <td>2015-07-17</td>\n",
       "      <td>2015-08-13</td>\n",
       "      <td>5</td>\n",
       "      <td>4370</td>\n",
       "      <td>4240</td>\n",
       "      <td>1</td>\n",
       "      <td>3</td>\n",
       "      <td>The Peninsula New York</td>\n",
       "      <td>5</td>\n",
       "      <td>27</td>\n",
       "      <td>Thursday</td>\n",
       "      <td>130</td>\n",
       "      <td>2.974828</td>\n",
       "    </tr>\n",
       "    <tr>\n",
       "      <th>3</th>\n",
       "      <td>3</td>\n",
       "      <td>1</td>\n",
       "      <td>2015-07-17</td>\n",
       "      <td>2015-07-26</td>\n",
       "      <td>5</td>\n",
       "      <td>1739</td>\n",
       "      <td>1667</td>\n",
       "      <td>1</td>\n",
       "      <td>18</td>\n",
       "      <td>Eventi Hotel a Kimpton Hotel</td>\n",
       "      <td>4</td>\n",
       "      <td>9</td>\n",
       "      <td>Sunday</td>\n",
       "      <td>72</td>\n",
       "      <td>4.140311</td>\n",
       "    </tr>\n",
       "    <tr>\n",
       "      <th>4</th>\n",
       "      <td>4</td>\n",
       "      <td>1</td>\n",
       "      <td>2015-07-17</td>\n",
       "      <td>2015-08-12</td>\n",
       "      <td>5</td>\n",
       "      <td>1739</td>\n",
       "      <td>1672</td>\n",
       "      <td>1</td>\n",
       "      <td>3</td>\n",
       "      <td>Eventi Hotel a Kimpton Hotel</td>\n",
       "      <td>4</td>\n",
       "      <td>26</td>\n",
       "      <td>Wednesday</td>\n",
       "      <td>67</td>\n",
       "      <td>3.852789</td>\n",
       "    </tr>\n",
       "  </tbody>\n",
       "</table>\n",
       "</div>"
      ],
      "text/plain": [
       "   Unnamed: 0  Snapshot ID Snapshot Date Checkin Date  Days  Original Price  \\\n",
       "0           0            1    2015-07-17   2015-08-12     5            1178   \n",
       "1           1            1    2015-07-17   2015-08-19     5            1113   \n",
       "2           2            1    2015-07-17   2015-08-13     5            4370   \n",
       "3           3            1    2015-07-17   2015-07-26     5            1739   \n",
       "4           4            1    2015-07-17   2015-08-12     5            1739   \n",
       "\n",
       "   Discount Price  Discount Code  Available Rooms  \\\n",
       "0            1040              1                6   \n",
       "1             982              1                8   \n",
       "2            4240              1                3   \n",
       "3            1667              1               18   \n",
       "4            1672              1                3   \n",
       "\n",
       "                               Hotel Name  Hotel Stars  DayDiff    WeekDay  \\\n",
       "0  Best Western Plus Seaport Inn Downtown            3       26  Wednesday   \n",
       "1  Best Western Plus Seaport Inn Downtown            3       33  Wednesday   \n",
       "2                  The Peninsula New York            5       27   Thursday   \n",
       "3            Eventi Hotel a Kimpton Hotel            4        9     Sunday   \n",
       "4            Eventi Hotel a Kimpton Hotel            4       26  Wednesday   \n",
       "\n",
       "   DiscountDiff  DiscountPerc  \n",
       "0           138     11.714771  \n",
       "1           131     11.769991  \n",
       "2           130      2.974828  \n",
       "3            72      4.140311  \n",
       "4            67      3.852789  "
      ]
     },
     "execution_count": 2,
     "metadata": {},
     "output_type": "execute_result"
    }
   ],
   "source": [
    "#load the csv and show\n",
    "df = pd.read_csv('Hotels_data_Changed.csv', parse_dates=True)\n",
    "df.head()"
   ]
  },
  {
   "cell_type": "markdown",
   "metadata": {},
   "source": [
    "## 2.a"
   ]
  },
  {
   "cell_type": "markdown",
   "metadata": {},
   "source": [
    "#### groupby to organize the details"
   ]
  },
  {
   "cell_type": "code",
   "execution_count": 3,
   "metadata": {},
   "outputs": [],
   "source": [
    "grouped_df = df.groupby(['Snapshot Date','Checkin Date','DayDiff','Hotel Name','WeekDay'])"
   ]
  },
  {
   "cell_type": "code",
   "execution_count": 4,
   "metadata": {
    "scrolled": false
   },
   "outputs": [
    {
     "data": {
      "text/plain": [
       "Snapshot Date  Checkin Date  DayDiff  Hotel Name                                                    WeekDay  \n",
       "2015-07-17     2015-07-18    1        Home2 Suites by Hilton NY Long Island City Manhattan View     Saturday     150\n",
       "                                      Howard Johnson Inn Queens                                     Saturday      33\n",
       "                                      Newark Liberty International Airport Marriott                 Saturday     180\n",
       "                                      Park Hyatt New York                                           Saturday     100\n",
       "                                      Ramada Staten Island                                          Saturday     150\n",
       "                                      Renaissance Newark Airport Hotel                              Saturday     200\n",
       "               2015-07-19    2        Hampton Inn JFK Airport                                       Sunday       120\n",
       "                                      Hilton New York JFK Airport                                   Sunday       393\n",
       "                                      Hilton Times Square                                           Sunday       310\n",
       "                                      Home2 Suites by Hilton NY Long Island City Manhattan View     Sunday        90\n",
       "                                      Park Hyatt New York                                           Sunday       100\n",
       "               2015-07-20    3        Comfort Inn Times Square South Area                           Monday        54\n",
       "                                      DoubleTree by Hilton Hotel Newark Airport                     Monday        40\n",
       "                                      Hampton Inn JFK Airport                                       Monday        90\n",
       "                                      Hilton New York JFK Airport                                   Monday       427\n",
       "                                      Home2 Suites by Hilton NY Long Island City Manhattan View     Monday       120\n",
       "                                      Newark Liberty International Airport Marriott                 Monday       130\n",
       "                                      Residence Inn Newark Elizabeth Liberty International Airport  Monday       110\n",
       "               2015-07-21    4        DoubleTree by Hilton Hotel Newark Airport                     Tuesday      100\n",
       "                                      Hilton Manhattan East                                         Tuesday      206\n",
       "                                      Hilton New York JFK Airport                                   Tuesday      140\n",
       "                                      Home2 Suites by Hilton NY Long Island City Manhattan View     Tuesday      180\n",
       "                                      Newark Liberty International Airport Marriott                 Tuesday      220\n",
       "                                      Park Hyatt New York                                           Tuesday      100\n",
       "                                      Renaissance Newark Airport Hotel                              Tuesday       90\n",
       "               2015-07-22    5        DoubleTree by Hilton Hotel New York - Times Square South      Wednesday    126\n",
       "                                      DoubleTree by Hilton Hotel Newark Airport                     Wednesday    120\n",
       "                                      Four Seasons Hotel New York                                   Wednesday    330\n",
       "                                      Hilton Garden Inn New York Manhattan-Midtown East             Wednesday    280\n",
       "                                      Hilton Manhattan East                                         Wednesday     87\n",
       "                                                                                                                ... \n",
       "2016-01-01     2016-02-03    33       Renaissance Newark Airport Hotel                              Wednesday    315\n",
       "                                      Residence Inn New York The Bronx At Metro Center Atrium       Wednesday     90\n",
       "                                      Residence Inn Newark Elizabeth Liberty International Airport  Wednesday    254\n",
       "                                      The Carlyle A Rosewood Hotel                                  Wednesday    450\n",
       "                                      The New York EDITION                                          Wednesday     68\n",
       "                                      Viceroy New York                                              Wednesday    109\n",
       "                                      W New York - Downtown                                         Wednesday     80\n",
       "                                      Wyndham Garden Brooklyn Sunset Park                           Wednesday     52\n",
       "               2016-02-04    34       Andaz 5th Avenue - a concept by Hyatt                         Thursday      70\n",
       "                                      Conrad New York                                               Thursday     210\n",
       "                                      DoubleTree by Hilton Hotel Newark Airport                     Thursday      54\n",
       "                                      DoubleTree by Hilton New York City - Financial District       Thursday      48\n",
       "                                      Hampton Inn Manhattan Downtown-Financial District             Thursday     109\n",
       "                                      Hampton Inn Manhattan Soho                                    Thursday      60\n",
       "                                      Hampton Inn Manhattan United Nations                          Thursday     127\n",
       "                                      Hilton Garden Inn New York Manhattan-Midtown East             Thursday      71\n",
       "                                      Hilton Garden Inn Times Square                                Thursday      47\n",
       "                                      Hilton New York Fashion District                              Thursday      37\n",
       "                                      Home2 Suites by Hilton NY Long Island City Manhattan View     Thursday      76\n",
       "                                      Hyatt Herald Square New York                                  Thursday      51\n",
       "                                      Hyatt Times Square New York                                   Thursday      90\n",
       "                                      Hyatt Union Square New York                                   Thursday     184\n",
       "                                      Newark Liberty International Airport Marriott                 Thursday     463\n",
       "                                      Renaissance Newark Airport Hotel                              Thursday     315\n",
       "                                      Residence Inn New York The Bronx At Metro Center Atrium       Thursday      90\n",
       "                                      Residence Inn Newark Elizabeth Liberty International Airport  Thursday     270\n",
       "                                      The Carlyle A Rosewood Hotel                                  Thursday     450\n",
       "                                      Viceroy New York                                              Thursday      96\n",
       "                                      W New York - Downtown                                         Thursday     104\n",
       "                                      Wyndham Garden Brooklyn Sunset Park                           Thursday      52\n",
       "Name: DiscountDiff, Length: 107299, dtype: int64"
      ]
     },
     "execution_count": 4,
     "metadata": {},
     "output_type": "execute_result"
    }
   ],
   "source": [
    "grouped_df['DiscountDiff'].max()"
   ]
  },
  {
   "cell_type": "markdown",
   "metadata": {},
   "source": [
    "##### Because the groupby first one, does according to the date of the Snapshot Date its hard to understand and use for chack.\n",
    "##### lets try other options maybe more easier."
   ]
  },
  {
   "cell_type": "markdown",
   "metadata": {},
   "source": [
    "#### filter to the dataframe that only the columns that help us to find the max discount"
   ]
  },
  {
   "cell_type": "code",
   "execution_count": 5,
   "metadata": {},
   "outputs": [
    {
     "data": {
      "text/html": [
       "<div>\n",
       "<style scoped>\n",
       "    .dataframe tbody tr th:only-of-type {\n",
       "        vertical-align: middle;\n",
       "    }\n",
       "\n",
       "    .dataframe tbody tr th {\n",
       "        vertical-align: top;\n",
       "    }\n",
       "\n",
       "    .dataframe thead th {\n",
       "        text-align: right;\n",
       "    }\n",
       "</style>\n",
       "<table border=\"1\" class=\"dataframe\">\n",
       "  <thead>\n",
       "    <tr style=\"text-align: right;\">\n",
       "      <th></th>\n",
       "      <th>Hotel Name</th>\n",
       "      <th>DayDiff</th>\n",
       "      <th>Checkin Date</th>\n",
       "      <th>Snapshot Date</th>\n",
       "      <th>WeekDay</th>\n",
       "      <th>DiscountDiff</th>\n",
       "      <th>Discount Code</th>\n",
       "    </tr>\n",
       "  </thead>\n",
       "  <tbody>\n",
       "    <tr>\n",
       "      <th>0</th>\n",
       "      <td>Best Western Plus Seaport Inn Downtown</td>\n",
       "      <td>26</td>\n",
       "      <td>2015-08-12</td>\n",
       "      <td>2015-07-17</td>\n",
       "      <td>Wednesday</td>\n",
       "      <td>138</td>\n",
       "      <td>1</td>\n",
       "    </tr>\n",
       "    <tr>\n",
       "      <th>1</th>\n",
       "      <td>Best Western Plus Seaport Inn Downtown</td>\n",
       "      <td>33</td>\n",
       "      <td>2015-08-19</td>\n",
       "      <td>2015-07-17</td>\n",
       "      <td>Wednesday</td>\n",
       "      <td>131</td>\n",
       "      <td>1</td>\n",
       "    </tr>\n",
       "    <tr>\n",
       "      <th>2</th>\n",
       "      <td>The Peninsula New York</td>\n",
       "      <td>27</td>\n",
       "      <td>2015-08-13</td>\n",
       "      <td>2015-07-17</td>\n",
       "      <td>Thursday</td>\n",
       "      <td>130</td>\n",
       "      <td>1</td>\n",
       "    </tr>\n",
       "    <tr>\n",
       "      <th>3</th>\n",
       "      <td>Eventi Hotel a Kimpton Hotel</td>\n",
       "      <td>9</td>\n",
       "      <td>2015-07-26</td>\n",
       "      <td>2015-07-17</td>\n",
       "      <td>Sunday</td>\n",
       "      <td>72</td>\n",
       "      <td>1</td>\n",
       "    </tr>\n",
       "    <tr>\n",
       "      <th>4</th>\n",
       "      <td>Eventi Hotel a Kimpton Hotel</td>\n",
       "      <td>26</td>\n",
       "      <td>2015-08-12</td>\n",
       "      <td>2015-07-17</td>\n",
       "      <td>Wednesday</td>\n",
       "      <td>67</td>\n",
       "      <td>1</td>\n",
       "    </tr>\n",
       "  </tbody>\n",
       "</table>\n",
       "</div>"
      ],
      "text/plain": [
       "                               Hotel Name  DayDiff Checkin Date Snapshot Date  \\\n",
       "0  Best Western Plus Seaport Inn Downtown       26   2015-08-12    2015-07-17   \n",
       "1  Best Western Plus Seaport Inn Downtown       33   2015-08-19    2015-07-17   \n",
       "2                  The Peninsula New York       27   2015-08-13    2015-07-17   \n",
       "3            Eventi Hotel a Kimpton Hotel        9   2015-07-26    2015-07-17   \n",
       "4            Eventi Hotel a Kimpton Hotel       26   2015-08-12    2015-07-17   \n",
       "\n",
       "     WeekDay  DiscountDiff  Discount Code  \n",
       "0  Wednesday           138              1  \n",
       "1  Wednesday           131              1  \n",
       "2   Thursday           130              1  \n",
       "3     Sunday            72              1  \n",
       "4  Wednesday            67              1  "
      ]
     },
     "execution_count": 5,
     "metadata": {},
     "output_type": "execute_result"
    }
   ],
   "source": [
    "filtered = df.filter([\"Hotel Name\",\"DayDiff\", \"Checkin Date\", \"Snapshot Date\", \"WeekDay\", \"DiscountDiff\", \"Discount Code\"], axis=1)\n",
    "filtered.head()"
   ]
  },
  {
   "cell_type": "markdown",
   "metadata": {},
   "source": [
    "#### now we try again to do group by with a different order"
   ]
  },
  {
   "cell_type": "code",
   "execution_count": 6,
   "metadata": {},
   "outputs": [],
   "source": [
    "filtered[\"MaxDiscount\"] = filtered.groupby([\"Hotel Name\",\"DayDiff\", \"Checkin Date\", \"Snapshot Date\", \"WeekDay\"])[\"DiscountDiff\"].transform('max')"
   ]
  },
  {
   "cell_type": "code",
   "execution_count": 7,
   "metadata": {},
   "outputs": [
    {
     "data": {
      "text/html": [
       "<div>\n",
       "<style scoped>\n",
       "    .dataframe tbody tr th:only-of-type {\n",
       "        vertical-align: middle;\n",
       "    }\n",
       "\n",
       "    .dataframe tbody tr th {\n",
       "        vertical-align: top;\n",
       "    }\n",
       "\n",
       "    .dataframe thead th {\n",
       "        text-align: right;\n",
       "    }\n",
       "</style>\n",
       "<table border=\"1\" class=\"dataframe\">\n",
       "  <thead>\n",
       "    <tr style=\"text-align: right;\">\n",
       "      <th></th>\n",
       "      <th>Hotel Name</th>\n",
       "      <th>DayDiff</th>\n",
       "      <th>Checkin Date</th>\n",
       "      <th>Snapshot Date</th>\n",
       "      <th>WeekDay</th>\n",
       "      <th>DiscountDiff</th>\n",
       "      <th>Discount Code</th>\n",
       "      <th>MaxDiscount</th>\n",
       "    </tr>\n",
       "  </thead>\n",
       "  <tbody>\n",
       "    <tr>\n",
       "      <th>0</th>\n",
       "      <td>Best Western Plus Seaport Inn Downtown</td>\n",
       "      <td>26</td>\n",
       "      <td>2015-08-12</td>\n",
       "      <td>2015-07-17</td>\n",
       "      <td>Wednesday</td>\n",
       "      <td>138</td>\n",
       "      <td>1</td>\n",
       "      <td>138</td>\n",
       "    </tr>\n",
       "    <tr>\n",
       "      <th>1</th>\n",
       "      <td>Best Western Plus Seaport Inn Downtown</td>\n",
       "      <td>33</td>\n",
       "      <td>2015-08-19</td>\n",
       "      <td>2015-07-17</td>\n",
       "      <td>Wednesday</td>\n",
       "      <td>131</td>\n",
       "      <td>1</td>\n",
       "      <td>131</td>\n",
       "    </tr>\n",
       "    <tr>\n",
       "      <th>2</th>\n",
       "      <td>The Peninsula New York</td>\n",
       "      <td>27</td>\n",
       "      <td>2015-08-13</td>\n",
       "      <td>2015-07-17</td>\n",
       "      <td>Thursday</td>\n",
       "      <td>130</td>\n",
       "      <td>1</td>\n",
       "      <td>230</td>\n",
       "    </tr>\n",
       "    <tr>\n",
       "      <th>3</th>\n",
       "      <td>Eventi Hotel a Kimpton Hotel</td>\n",
       "      <td>9</td>\n",
       "      <td>2015-07-26</td>\n",
       "      <td>2015-07-17</td>\n",
       "      <td>Sunday</td>\n",
       "      <td>72</td>\n",
       "      <td>1</td>\n",
       "      <td>72</td>\n",
       "    </tr>\n",
       "    <tr>\n",
       "      <th>4</th>\n",
       "      <td>Eventi Hotel a Kimpton Hotel</td>\n",
       "      <td>26</td>\n",
       "      <td>2015-08-12</td>\n",
       "      <td>2015-07-17</td>\n",
       "      <td>Wednesday</td>\n",
       "      <td>67</td>\n",
       "      <td>1</td>\n",
       "      <td>141</td>\n",
       "    </tr>\n",
       "    <tr>\n",
       "      <th>5</th>\n",
       "      <td>Grand Hyatt New York</td>\n",
       "      <td>21</td>\n",
       "      <td>2015-08-07</td>\n",
       "      <td>2015-07-17</td>\n",
       "      <td>Friday</td>\n",
       "      <td>91</td>\n",
       "      <td>1</td>\n",
       "      <td>91</td>\n",
       "    </tr>\n",
       "    <tr>\n",
       "      <th>6</th>\n",
       "      <td>Grand Hyatt New York</td>\n",
       "      <td>23</td>\n",
       "      <td>2015-08-09</td>\n",
       "      <td>2015-07-17</td>\n",
       "      <td>Sunday</td>\n",
       "      <td>91</td>\n",
       "      <td>1</td>\n",
       "      <td>91</td>\n",
       "    </tr>\n",
       "    <tr>\n",
       "      <th>7</th>\n",
       "      <td>Grand Hyatt New York</td>\n",
       "      <td>26</td>\n",
       "      <td>2015-08-12</td>\n",
       "      <td>2015-07-17</td>\n",
       "      <td>Wednesday</td>\n",
       "      <td>73</td>\n",
       "      <td>1</td>\n",
       "      <td>73</td>\n",
       "    </tr>\n",
       "    <tr>\n",
       "      <th>8</th>\n",
       "      <td>Grand Hyatt New York</td>\n",
       "      <td>27</td>\n",
       "      <td>2015-08-13</td>\n",
       "      <td>2015-07-17</td>\n",
       "      <td>Thursday</td>\n",
       "      <td>55</td>\n",
       "      <td>1</td>\n",
       "      <td>127</td>\n",
       "    </tr>\n",
       "    <tr>\n",
       "      <th>9</th>\n",
       "      <td>Hilton New York Fashion District</td>\n",
       "      <td>5</td>\n",
       "      <td>2015-07-22</td>\n",
       "      <td>2015-07-17</td>\n",
       "      <td>Wednesday</td>\n",
       "      <td>200</td>\n",
       "      <td>1</td>\n",
       "      <td>200</td>\n",
       "    </tr>\n",
       "    <tr>\n",
       "      <th>10</th>\n",
       "      <td>DoubleTree Suites by Hilton New York City - Ti...</td>\n",
       "      <td>13</td>\n",
       "      <td>2015-07-30</td>\n",
       "      <td>2015-07-17</td>\n",
       "      <td>Thursday</td>\n",
       "      <td>95</td>\n",
       "      <td>1</td>\n",
       "      <td>190</td>\n",
       "    </tr>\n",
       "    <tr>\n",
       "      <th>11</th>\n",
       "      <td>DoubleTree Suites by Hilton New York City - Ti...</td>\n",
       "      <td>14</td>\n",
       "      <td>2015-07-31</td>\n",
       "      <td>2015-07-17</td>\n",
       "      <td>Friday</td>\n",
       "      <td>94</td>\n",
       "      <td>1</td>\n",
       "      <td>94</td>\n",
       "    </tr>\n",
       "    <tr>\n",
       "      <th>12</th>\n",
       "      <td>Hampton Inn Manhattan Soho</td>\n",
       "      <td>9</td>\n",
       "      <td>2015-07-26</td>\n",
       "      <td>2015-07-17</td>\n",
       "      <td>Sunday</td>\n",
       "      <td>70</td>\n",
       "      <td>1</td>\n",
       "      <td>70</td>\n",
       "    </tr>\n",
       "    <tr>\n",
       "      <th>13</th>\n",
       "      <td>Hampton Inn Manhattan Soho</td>\n",
       "      <td>16</td>\n",
       "      <td>2015-08-02</td>\n",
       "      <td>2015-07-17</td>\n",
       "      <td>Sunday</td>\n",
       "      <td>70</td>\n",
       "      <td>1</td>\n",
       "      <td>70</td>\n",
       "    </tr>\n",
       "    <tr>\n",
       "      <th>14</th>\n",
       "      <td>Park Hyatt New York</td>\n",
       "      <td>5</td>\n",
       "      <td>2015-07-22</td>\n",
       "      <td>2015-07-17</td>\n",
       "      <td>Wednesday</td>\n",
       "      <td>150</td>\n",
       "      <td>1</td>\n",
       "      <td>300</td>\n",
       "    </tr>\n",
       "  </tbody>\n",
       "</table>\n",
       "</div>"
      ],
      "text/plain": [
       "                                           Hotel Name  DayDiff Checkin Date  \\\n",
       "0              Best Western Plus Seaport Inn Downtown       26   2015-08-12   \n",
       "1              Best Western Plus Seaport Inn Downtown       33   2015-08-19   \n",
       "2                              The Peninsula New York       27   2015-08-13   \n",
       "3                        Eventi Hotel a Kimpton Hotel        9   2015-07-26   \n",
       "4                        Eventi Hotel a Kimpton Hotel       26   2015-08-12   \n",
       "5                                Grand Hyatt New York       21   2015-08-07   \n",
       "6                                Grand Hyatt New York       23   2015-08-09   \n",
       "7                                Grand Hyatt New York       26   2015-08-12   \n",
       "8                                Grand Hyatt New York       27   2015-08-13   \n",
       "9                    Hilton New York Fashion District        5   2015-07-22   \n",
       "10  DoubleTree Suites by Hilton New York City - Ti...       13   2015-07-30   \n",
       "11  DoubleTree Suites by Hilton New York City - Ti...       14   2015-07-31   \n",
       "12                         Hampton Inn Manhattan Soho        9   2015-07-26   \n",
       "13                         Hampton Inn Manhattan Soho       16   2015-08-02   \n",
       "14                                Park Hyatt New York        5   2015-07-22   \n",
       "\n",
       "   Snapshot Date    WeekDay  DiscountDiff  Discount Code  MaxDiscount  \n",
       "0     2015-07-17  Wednesday           138              1          138  \n",
       "1     2015-07-17  Wednesday           131              1          131  \n",
       "2     2015-07-17   Thursday           130              1          230  \n",
       "3     2015-07-17     Sunday            72              1           72  \n",
       "4     2015-07-17  Wednesday            67              1          141  \n",
       "5     2015-07-17     Friday            91              1           91  \n",
       "6     2015-07-17     Sunday            91              1           91  \n",
       "7     2015-07-17  Wednesday            73              1           73  \n",
       "8     2015-07-17   Thursday            55              1          127  \n",
       "9     2015-07-17  Wednesday           200              1          200  \n",
       "10    2015-07-17   Thursday            95              1          190  \n",
       "11    2015-07-17     Friday            94              1           94  \n",
       "12    2015-07-17     Sunday            70              1           70  \n",
       "13    2015-07-17     Sunday            70              1           70  \n",
       "14    2015-07-17  Wednesday           150              1          300  "
      ]
     },
     "execution_count": 7,
     "metadata": {},
     "output_type": "execute_result"
    }
   ],
   "source": [
    "filtered.head(15)"
   ]
  },
  {
   "cell_type": "code",
   "execution_count": 8,
   "metadata": {},
   "outputs": [
    {
     "data": {
      "text/html": [
       "<div>\n",
       "<style scoped>\n",
       "    .dataframe tbody tr th:only-of-type {\n",
       "        vertical-align: middle;\n",
       "    }\n",
       "\n",
       "    .dataframe tbody tr th {\n",
       "        vertical-align: top;\n",
       "    }\n",
       "\n",
       "    .dataframe thead th {\n",
       "        text-align: right;\n",
       "    }\n",
       "</style>\n",
       "<table border=\"1\" class=\"dataframe\">\n",
       "  <thead>\n",
       "    <tr style=\"text-align: right;\">\n",
       "      <th></th>\n",
       "      <th>Hotel Name</th>\n",
       "      <th>DayDiff</th>\n",
       "      <th>Checkin Date</th>\n",
       "      <th>Snapshot Date</th>\n",
       "      <th>WeekDay</th>\n",
       "      <th>DiscountDiff</th>\n",
       "      <th>Discount Code</th>\n",
       "      <th>MaxDiscount</th>\n",
       "    </tr>\n",
       "  </thead>\n",
       "  <tbody>\n",
       "    <tr>\n",
       "      <th>0</th>\n",
       "      <td>Best Western Plus Seaport Inn Downtown</td>\n",
       "      <td>26</td>\n",
       "      <td>2015-08-12</td>\n",
       "      <td>2015-07-17</td>\n",
       "      <td>Wednesday</td>\n",
       "      <td>138</td>\n",
       "      <td>1</td>\n",
       "      <td>138</td>\n",
       "    </tr>\n",
       "    <tr>\n",
       "      <th>1</th>\n",
       "      <td>Best Western Plus Seaport Inn Downtown</td>\n",
       "      <td>33</td>\n",
       "      <td>2015-08-19</td>\n",
       "      <td>2015-07-17</td>\n",
       "      <td>Wednesday</td>\n",
       "      <td>131</td>\n",
       "      <td>1</td>\n",
       "      <td>131</td>\n",
       "    </tr>\n",
       "    <tr>\n",
       "      <th>3</th>\n",
       "      <td>Eventi Hotel a Kimpton Hotel</td>\n",
       "      <td>9</td>\n",
       "      <td>2015-07-26</td>\n",
       "      <td>2015-07-17</td>\n",
       "      <td>Sunday</td>\n",
       "      <td>72</td>\n",
       "      <td>1</td>\n",
       "      <td>72</td>\n",
       "    </tr>\n",
       "    <tr>\n",
       "      <th>5</th>\n",
       "      <td>Grand Hyatt New York</td>\n",
       "      <td>21</td>\n",
       "      <td>2015-08-07</td>\n",
       "      <td>2015-07-17</td>\n",
       "      <td>Friday</td>\n",
       "      <td>91</td>\n",
       "      <td>1</td>\n",
       "      <td>91</td>\n",
       "    </tr>\n",
       "    <tr>\n",
       "      <th>6</th>\n",
       "      <td>Grand Hyatt New York</td>\n",
       "      <td>23</td>\n",
       "      <td>2015-08-09</td>\n",
       "      <td>2015-07-17</td>\n",
       "      <td>Sunday</td>\n",
       "      <td>91</td>\n",
       "      <td>1</td>\n",
       "      <td>91</td>\n",
       "    </tr>\n",
       "  </tbody>\n",
       "</table>\n",
       "</div>"
      ],
      "text/plain": [
       "                               Hotel Name  DayDiff Checkin Date Snapshot Date  \\\n",
       "0  Best Western Plus Seaport Inn Downtown       26   2015-08-12    2015-07-17   \n",
       "1  Best Western Plus Seaport Inn Downtown       33   2015-08-19    2015-07-17   \n",
       "3            Eventi Hotel a Kimpton Hotel        9   2015-07-26    2015-07-17   \n",
       "5                    Grand Hyatt New York       21   2015-08-07    2015-07-17   \n",
       "6                    Grand Hyatt New York       23   2015-08-09    2015-07-17   \n",
       "\n",
       "     WeekDay  DiscountDiff  Discount Code  MaxDiscount  \n",
       "0  Wednesday           138              1          138  \n",
       "1  Wednesday           131              1          131  \n",
       "3     Sunday            72              1           72  \n",
       "5     Friday            91              1           91  \n",
       "6     Sunday            91              1           91  "
      ]
     },
     "execution_count": 8,
     "metadata": {},
     "output_type": "execute_result"
    }
   ],
   "source": [
    "#we have a duplicates values , we need the values be currect ,so we need remove them from the table\n",
    "grouped = filtered[filtered[\"DiscountDiff\"]==filtered[\"MaxDiscount\"]].drop_duplicates([\"Hotel Name\",\"DayDiff\", \"Checkin Date\", \"Snapshot Date\", \"WeekDay\"])\n",
    "grouped.head()"
   ]
  },
  {
   "cell_type": "code",
   "execution_count": 9,
   "metadata": {},
   "outputs": [
    {
     "data": {
      "text/html": [
       "<div>\n",
       "<style scoped>\n",
       "    .dataframe tbody tr th:only-of-type {\n",
       "        vertical-align: middle;\n",
       "    }\n",
       "\n",
       "    .dataframe tbody tr th {\n",
       "        vertical-align: top;\n",
       "    }\n",
       "\n",
       "    .dataframe thead th {\n",
       "        text-align: right;\n",
       "    }\n",
       "</style>\n",
       "<table border=\"1\" class=\"dataframe\">\n",
       "  <thead>\n",
       "    <tr style=\"text-align: right;\">\n",
       "      <th></th>\n",
       "      <th>Hotel Name</th>\n",
       "      <th>DayDiff</th>\n",
       "      <th>Checkin Date</th>\n",
       "      <th>Snapshot Date</th>\n",
       "      <th>WeekDay</th>\n",
       "      <th>Discount Code</th>\n",
       "    </tr>\n",
       "  </thead>\n",
       "  <tbody>\n",
       "    <tr>\n",
       "      <th>0</th>\n",
       "      <td>Best Western Plus Seaport Inn Downtown</td>\n",
       "      <td>26</td>\n",
       "      <td>2015-08-12</td>\n",
       "      <td>2015-07-17</td>\n",
       "      <td>Wednesday</td>\n",
       "      <td>1</td>\n",
       "    </tr>\n",
       "    <tr>\n",
       "      <th>1</th>\n",
       "      <td>Best Western Plus Seaport Inn Downtown</td>\n",
       "      <td>33</td>\n",
       "      <td>2015-08-19</td>\n",
       "      <td>2015-07-17</td>\n",
       "      <td>Wednesday</td>\n",
       "      <td>1</td>\n",
       "    </tr>\n",
       "    <tr>\n",
       "      <th>3</th>\n",
       "      <td>Eventi Hotel a Kimpton Hotel</td>\n",
       "      <td>9</td>\n",
       "      <td>2015-07-26</td>\n",
       "      <td>2015-07-17</td>\n",
       "      <td>Sunday</td>\n",
       "      <td>1</td>\n",
       "    </tr>\n",
       "    <tr>\n",
       "      <th>5</th>\n",
       "      <td>Grand Hyatt New York</td>\n",
       "      <td>21</td>\n",
       "      <td>2015-08-07</td>\n",
       "      <td>2015-07-17</td>\n",
       "      <td>Friday</td>\n",
       "      <td>1</td>\n",
       "    </tr>\n",
       "    <tr>\n",
       "      <th>6</th>\n",
       "      <td>Grand Hyatt New York</td>\n",
       "      <td>23</td>\n",
       "      <td>2015-08-09</td>\n",
       "      <td>2015-07-17</td>\n",
       "      <td>Sunday</td>\n",
       "      <td>1</td>\n",
       "    </tr>\n",
       "  </tbody>\n",
       "</table>\n",
       "</div>"
      ],
      "text/plain": [
       "                               Hotel Name  DayDiff Checkin Date Snapshot Date  \\\n",
       "0  Best Western Plus Seaport Inn Downtown       26   2015-08-12    2015-07-17   \n",
       "1  Best Western Plus Seaport Inn Downtown       33   2015-08-19    2015-07-17   \n",
       "3            Eventi Hotel a Kimpton Hotel        9   2015-07-26    2015-07-17   \n",
       "5                    Grand Hyatt New York       21   2015-08-07    2015-07-17   \n",
       "6                    Grand Hyatt New York       23   2015-08-09    2015-07-17   \n",
       "\n",
       "     WeekDay  Discount Code  \n",
       "0  Wednesday              1  \n",
       "1  Wednesday              1  \n",
       "3     Sunday              1  \n",
       "5     Friday              1  \n",
       "6     Sunday              1  "
      ]
     },
     "execution_count": 9,
     "metadata": {},
     "output_type": "execute_result"
    }
   ],
   "source": [
    "#now we need to remove the columns thats halpes us , from now we use only in discount code(class)\n",
    "grouped.drop(labels=[\"MaxDiscount\",\"DiscountDiff\"], axis=1,inplace=True)\n",
    "grouped.head()"
   ]
  },
  {
   "cell_type": "markdown",
   "metadata": {},
   "source": [
    "#### Save df to csv"
   ]
  },
  {
   "cell_type": "code",
   "execution_count": 10,
   "metadata": {},
   "outputs": [],
   "source": [
    "grouped.to_csv(\"Hotels_data_best_discount.csv\")"
   ]
  },
  {
   "cell_type": "markdown",
   "metadata": {},
   "source": [
    "## 2.b"
   ]
  },
  {
   "cell_type": "code",
   "execution_count": 11,
   "metadata": {},
   "outputs": [],
   "source": [
    "new_df=grouped.copy()"
   ]
  },
  {
   "cell_type": "code",
   "execution_count": 12,
   "metadata": {},
   "outputs": [
    {
     "data": {
      "text/html": [
       "<div>\n",
       "<style scoped>\n",
       "    .dataframe tbody tr th:only-of-type {\n",
       "        vertical-align: middle;\n",
       "    }\n",
       "\n",
       "    .dataframe tbody tr th {\n",
       "        vertical-align: top;\n",
       "    }\n",
       "\n",
       "    .dataframe thead th {\n",
       "        text-align: right;\n",
       "    }\n",
       "</style>\n",
       "<table border=\"1\" class=\"dataframe\">\n",
       "  <thead>\n",
       "    <tr style=\"text-align: right;\">\n",
       "      <th></th>\n",
       "      <th>Hotel Name</th>\n",
       "      <th>DayDiff</th>\n",
       "      <th>Checkin Date</th>\n",
       "      <th>Snapshot Date</th>\n",
       "      <th>WeekDay</th>\n",
       "      <th>Discount Code</th>\n",
       "    </tr>\n",
       "  </thead>\n",
       "  <tbody>\n",
       "    <tr>\n",
       "      <th>0</th>\n",
       "      <td>Best Western Plus Seaport Inn Downtown</td>\n",
       "      <td>26</td>\n",
       "      <td>2015-08-12</td>\n",
       "      <td>2015-07-17</td>\n",
       "      <td>Wednesday</td>\n",
       "      <td>1</td>\n",
       "    </tr>\n",
       "    <tr>\n",
       "      <th>1</th>\n",
       "      <td>Best Western Plus Seaport Inn Downtown</td>\n",
       "      <td>33</td>\n",
       "      <td>2015-08-19</td>\n",
       "      <td>2015-07-17</td>\n",
       "      <td>Wednesday</td>\n",
       "      <td>1</td>\n",
       "    </tr>\n",
       "    <tr>\n",
       "      <th>3</th>\n",
       "      <td>Eventi Hotel a Kimpton Hotel</td>\n",
       "      <td>9</td>\n",
       "      <td>2015-07-26</td>\n",
       "      <td>2015-07-17</td>\n",
       "      <td>Sunday</td>\n",
       "      <td>1</td>\n",
       "    </tr>\n",
       "    <tr>\n",
       "      <th>5</th>\n",
       "      <td>Grand Hyatt New York</td>\n",
       "      <td>21</td>\n",
       "      <td>2015-08-07</td>\n",
       "      <td>2015-07-17</td>\n",
       "      <td>Friday</td>\n",
       "      <td>1</td>\n",
       "    </tr>\n",
       "    <tr>\n",
       "      <th>6</th>\n",
       "      <td>Grand Hyatt New York</td>\n",
       "      <td>23</td>\n",
       "      <td>2015-08-09</td>\n",
       "      <td>2015-07-17</td>\n",
       "      <td>Sunday</td>\n",
       "      <td>1</td>\n",
       "    </tr>\n",
       "  </tbody>\n",
       "</table>\n",
       "</div>"
      ],
      "text/plain": [
       "                               Hotel Name  DayDiff Checkin Date Snapshot Date  \\\n",
       "0  Best Western Plus Seaport Inn Downtown       26   2015-08-12    2015-07-17   \n",
       "1  Best Western Plus Seaport Inn Downtown       33   2015-08-19    2015-07-17   \n",
       "3            Eventi Hotel a Kimpton Hotel        9   2015-07-26    2015-07-17   \n",
       "5                    Grand Hyatt New York       21   2015-08-07    2015-07-17   \n",
       "6                    Grand Hyatt New York       23   2015-08-09    2015-07-17   \n",
       "\n",
       "     WeekDay  Discount Code  \n",
       "0  Wednesday              1  \n",
       "1  Wednesday              1  \n",
       "3     Sunday              1  \n",
       "5     Friday              1  \n",
       "6     Sunday              1  "
      ]
     },
     "execution_count": 12,
     "metadata": {},
     "output_type": "execute_result"
    }
   ],
   "source": [
    "#check if is the same.\n",
    "new_df.head()"
   ]
  },
  {
   "cell_type": "markdown",
   "metadata": {},
   "source": [
    "## pre process"
   ]
  },
  {
   "cell_type": "code",
   "execution_count": 13,
   "metadata": {},
   "outputs": [],
   "source": [
    "from sklearn.preprocessing import LabelEncoder"
   ]
  },
  {
   "cell_type": "markdown",
   "metadata": {},
   "source": [
    "#### for fit will work - convert columns to categorial numbers instead of strings"
   ]
  },
  {
   "cell_type": "code",
   "execution_count": 14,
   "metadata": {},
   "outputs": [],
   "source": [
    "lb_make = LabelEncoder()\n",
    "new_df[\"Snapshot Date\"] = lb_make.fit_transform(new_df[\"Snapshot Date\"])\n",
    "new_df[\"Checkin Date\"] = lb_make.fit_transform(new_df[\"Checkin Date\"])\n",
    "new_df[\"Hotel Name\"] = lb_make.fit_transform(new_df[\"Hotel Name\"])\n",
    "new_df[\"WeekDay\"] = lb_make.fit_transform(new_df[\"WeekDay\"])\n",
    "new_df=new_df[['Snapshot Date','Checkin Date','DayDiff','Hotel Name','WeekDay','Discount Code']].dropna(axis=0, how='any')"
   ]
  },
  {
   "cell_type": "code",
   "execution_count": 15,
   "metadata": {},
   "outputs": [
    {
     "data": {
      "text/html": [
       "<div>\n",
       "<style scoped>\n",
       "    .dataframe tbody tr th:only-of-type {\n",
       "        vertical-align: middle;\n",
       "    }\n",
       "\n",
       "    .dataframe tbody tr th {\n",
       "        vertical-align: top;\n",
       "    }\n",
       "\n",
       "    .dataframe thead th {\n",
       "        text-align: right;\n",
       "    }\n",
       "</style>\n",
       "<table border=\"1\" class=\"dataframe\">\n",
       "  <thead>\n",
       "    <tr style=\"text-align: right;\">\n",
       "      <th></th>\n",
       "      <th>Snapshot Date</th>\n",
       "      <th>Checkin Date</th>\n",
       "      <th>DayDiff</th>\n",
       "      <th>Hotel Name</th>\n",
       "      <th>WeekDay</th>\n",
       "      <th>Discount Code</th>\n",
       "    </tr>\n",
       "  </thead>\n",
       "  <tbody>\n",
       "    <tr>\n",
       "      <th>0</th>\n",
       "      <td>0</td>\n",
       "      <td>25</td>\n",
       "      <td>26</td>\n",
       "      <td>35</td>\n",
       "      <td>6</td>\n",
       "      <td>1</td>\n",
       "    </tr>\n",
       "    <tr>\n",
       "      <th>1</th>\n",
       "      <td>0</td>\n",
       "      <td>32</td>\n",
       "      <td>33</td>\n",
       "      <td>35</td>\n",
       "      <td>6</td>\n",
       "      <td>1</td>\n",
       "    </tr>\n",
       "    <tr>\n",
       "      <th>3</th>\n",
       "      <td>0</td>\n",
       "      <td>8</td>\n",
       "      <td>9</td>\n",
       "      <td>127</td>\n",
       "      <td>3</td>\n",
       "      <td>1</td>\n",
       "    </tr>\n",
       "    <tr>\n",
       "      <th>5</th>\n",
       "      <td>0</td>\n",
       "      <td>20</td>\n",
       "      <td>21</td>\n",
       "      <td>163</td>\n",
       "      <td>0</td>\n",
       "      <td>1</td>\n",
       "    </tr>\n",
       "    <tr>\n",
       "      <th>6</th>\n",
       "      <td>0</td>\n",
       "      <td>22</td>\n",
       "      <td>23</td>\n",
       "      <td>163</td>\n",
       "      <td>3</td>\n",
       "      <td>1</td>\n",
       "    </tr>\n",
       "  </tbody>\n",
       "</table>\n",
       "</div>"
      ],
      "text/plain": [
       "   Snapshot Date  Checkin Date  DayDiff  Hotel Name  WeekDay  Discount Code\n",
       "0              0            25       26          35        6              1\n",
       "1              0            32       33          35        6              1\n",
       "3              0             8        9         127        3              1\n",
       "5              0            20       21         163        0              1\n",
       "6              0            22       23         163        3              1"
      ]
     },
     "execution_count": 15,
     "metadata": {},
     "output_type": "execute_result"
    }
   ],
   "source": [
    "new_df.head()"
   ]
  },
  {
   "cell_type": "markdown",
   "metadata": {},
   "source": [
    "## split train and test"
   ]
  },
  {
   "cell_type": "code",
   "execution_count": 18,
   "metadata": {},
   "outputs": [],
   "source": [
    "from sklearn.model_selection import train_test_split"
   ]
  },
  {
   "cell_type": "code",
   "execution_count": 19,
   "metadata": {},
   "outputs": [],
   "source": [
    "# Split dataset in training and test datasets\n",
    "used_features =['Snapshot Date','Checkin Date','DayDiff','Hotel Name','WeekDay']\n",
    "features = new_df[used_features]\n",
    "classes = new_df['Discount Code']\n",
    "X_train, X_test, Y_train, Y_test = train_test_split(features,classes, test_size=0.3)"
   ]
  },
  {
   "cell_type": "markdown",
   "metadata": {},
   "source": [
    "## Naive Bayes"
   ]
  },
  {
   "cell_type": "code",
   "execution_count": 20,
   "metadata": {},
   "outputs": [],
   "source": [
    "from sklearn.naive_bayes import GaussianNB\n",
    "from sklearn.metrics import accuracy_score"
   ]
  },
  {
   "cell_type": "code",
   "execution_count": 21,
   "metadata": {},
   "outputs": [
    {
     "data": {
      "text/plain": [
       "GaussianNB(priors=None, var_smoothing=1e-09)"
      ]
     },
     "execution_count": 21,
     "metadata": {},
     "output_type": "execute_result"
    }
   ],
   "source": [
    "# Instantiate the classifier\n",
    "gnb = GaussianNB()\n",
    "# Train classifier\n",
    "gnb.fit(\n",
    "    X_train,\n",
    "    Y_train\n",
    ")"
   ]
  },
  {
   "cell_type": "markdown",
   "metadata": {},
   "source": [
    "#### accuracy:"
   ]
  },
  {
   "cell_type": "code",
   "execution_count": 22,
   "metadata": {},
   "outputs": [
    {
     "data": {
      "text/plain": [
       "0.31559490525007766"
      ]
     },
     "execution_count": 22,
     "metadata": {},
     "output_type": "execute_result"
    }
   ],
   "source": [
    "expected = Y_test\n",
    "predicted = gnb.predict(X_test)\n",
    "accuracy_score(expected,predicted)"
   ]
  },
  {
   "cell_type": "markdown",
   "metadata": {},
   "source": [
    "#### confusion matrix and reports:"
   ]
  },
  {
   "cell_type": "code",
   "execution_count": 23,
   "metadata": {},
   "outputs": [
    {
     "name": "stdout",
     "output_type": "stream",
     "text": [
      "              precision    recall  f1-score   support\n",
      "\n",
      "           1       0.31      0.08      0.13      8357\n",
      "           2       0.32      0.75      0.44     10199\n",
      "           3       0.32      0.21      0.25      8671\n",
      "           4       0.00      0.00      0.00      4963\n",
      "\n",
      "   micro avg       0.32      0.32      0.32     32190\n",
      "   macro avg       0.24      0.26      0.21     32190\n",
      "weighted avg       0.27      0.32      0.24     32190\n",
      "\n",
      "[[ 694 6502 1161    0]\n",
      " [ 707 7649 1843    0]\n",
      " [ 524 6331 1816    0]\n",
      " [ 300 3796  867    0]]\n"
     ]
    },
    {
     "name": "stderr",
     "output_type": "stream",
     "text": [
      "C:\\Users\\Shir Levy\\Anaconda3\\lib\\site-packages\\sklearn\\metrics\\classification.py:1143: UndefinedMetricWarning: Precision and F-score are ill-defined and being set to 0.0 in labels with no predicted samples.\n",
      "  'precision', 'predicted', average, warn_for)\n",
      "C:\\Users\\Shir Levy\\Anaconda3\\lib\\site-packages\\sklearn\\metrics\\classification.py:1143: UndefinedMetricWarning: Precision and F-score are ill-defined and being set to 0.0 in labels with no predicted samples.\n",
      "  'precision', 'predicted', average, warn_for)\n",
      "C:\\Users\\Shir Levy\\Anaconda3\\lib\\site-packages\\sklearn\\metrics\\classification.py:1143: UndefinedMetricWarning: Precision and F-score are ill-defined and being set to 0.0 in labels with no predicted samples.\n",
      "  'precision', 'predicted', average, warn_for)\n"
     ]
    }
   ],
   "source": [
    "from sklearn import metrics\n",
    "print(metrics.classification_report(expected, predicted))\n",
    "print(metrics.confusion_matrix(expected, predicted))"
   ]
  },
  {
   "cell_type": "code",
   "execution_count": 24,
   "metadata": {},
   "outputs": [],
   "source": [
    "from sklearn.metrics import confusion_matrix\n",
    "import matplotlib.pyplot as plt\n",
    "import itertools\n",
    "\n",
    "def plot_confusion_matrix(cm, classes,\n",
    "                          normalize=False,\n",
    "                          title='Confusion matrix',\n",
    "                          cmap=plt.cm.Blues):\n",
    "\n",
    "\n",
    "    plt.imshow(cm, interpolation='nearest', cmap=cmap)\n",
    "    plt.title(title)\n",
    "    plt.colorbar()\n",
    "    tick_marks = np.arange(len(classes))\n",
    "    plt.xticks(tick_marks, classes, rotation=45)\n",
    "    plt.yticks(tick_marks, classes)\n",
    "\n",
    "    fmt = '.2f' if normalize else 'd'\n",
    "    thresh = cm.max() / 2.\n",
    "    for i, j in itertools.product(range(cm.shape[0]), range(cm.shape[1])):\n",
    "        plt.text(j, i, format(cm[i, j], fmt),\n",
    "                 horizontalalignment=\"center\",\n",
    "                 color=\"white\" if cm[i, j] > thresh else \"black\")\n",
    "\n",
    "    plt.ylabel('True label')\n",
    "    plt.xlabel('Predicted label')\n",
    "    plt.tight_layout()"
   ]
  },
  {
   "cell_type": "code",
   "execution_count": 25,
   "metadata": {},
   "outputs": [
    {
     "data": {
      "image/png": "[encoded data removed]",
      "text/plain": [
       "<Figure size 432x288 with 2 Axes>"
      ]
     },
     "metadata": {
      "needs_background": "light"
     },
     "output_type": "display_data"
    }
   ],
   "source": [
    "plt.figure()\n",
    "plot_confusion_matrix(metrics.confusion_matrix(expected, predicted), classes.unique(),\n",
    "                       title='Confusion matrix')"
   ]
  },
  {
   "cell_type": "code",
   "execution_count": 26,
   "metadata": {},
   "outputs": [
    {
     "data": {
      "text/plain": [
       "1"
      ]
     },
     "execution_count": 26,
     "metadata": {},
     "output_type": "execute_result"
    }
   ],
   "source": [
    "gnb.predict([[0,25,26,35,6]])[0]"
   ]
  },
  {
   "cell_type": "markdown",
   "metadata": {},
   "source": [
    "## An attempt to improve the accuracy"
   ]
  },
  {
   "cell_type": "markdown",
   "metadata": {},
   "source": [
    "#### lets see what happend if we removed one or more featers (we tried all the Variations) , if its will help or not."
   ]
  },
  {
   "cell_type": "code",
   "execution_count": 27,
   "metadata": {},
   "outputs": [],
   "source": [
    "# Split dataset again in training and test datasets without dayDiff\n",
    "used_features1 =['Snapshot Date','Checkin Date','Hotel Name','WeekDay']\n",
    "features1 = new_df[used_features1]\n",
    "X_train1, X_test1, Y_train1, Y_test1 = train_test_split(features1,classes, test_size=0.3)"
   ]
  },
  {
   "cell_type": "code",
   "execution_count": 28,
   "metadata": {},
   "outputs": [
    {
     "data": {
      "text/plain": [
       "GaussianNB(priors=None, var_smoothing=1e-09)"
      ]
     },
     "execution_count": 28,
     "metadata": {},
     "output_type": "execute_result"
    }
   ],
   "source": [
    "from sklearn.naive_bayes import GaussianNB\n",
    "# Instantiate the classifier\n",
    "gnb = GaussianNB()\n",
    "# Train classifier\n",
    "gnb.fit(\n",
    "    X_train1,\n",
    "    Y_train1\n",
    ")"
   ]
  },
  {
   "cell_type": "markdown",
   "metadata": {},
   "source": [
    "#### now the accuracy :"
   ]
  },
  {
   "cell_type": "code",
   "execution_count": 29,
   "metadata": {},
   "outputs": [
    {
     "data": {
      "text/plain": [
       "0.30950605778191986"
      ]
     },
     "execution_count": 29,
     "metadata": {},
     "output_type": "execute_result"
    }
   ],
   "source": [
    "expected1 = Y_test1\n",
    "predicted1 = gnb.predict(X_test1)\n",
    "accuracy_score(expected1,predicted1)"
   ]
  },
  {
   "cell_type": "markdown",
   "metadata": {},
   "source": [
    "#### As you can see nothing has changed, has not helped"
   ]
  },
  {
   "cell_type": "markdown",
   "metadata": {},
   "source": [
    "#### we found that there is a problem of imbalnce classes and decided to take same size date each class"
   ]
  },
  {
   "cell_type": "code",
   "execution_count": 30,
   "metadata": {},
   "outputs": [
    {
     "name": "stdout",
     "output_type": "stream",
     "text": [
      "c1: Snapshot Date    27899\n",
      "Checkin Date     27899\n",
      "DayDiff          27899\n",
      "Hotel Name       27899\n",
      "WeekDay          27899\n",
      "Discount Code    27899\n",
      "dtype: int64\n",
      "c2: Snapshot Date    34040\n",
      "Checkin Date     34040\n",
      "DayDiff          34040\n",
      "Hotel Name       34040\n",
      "WeekDay          34040\n",
      "Discount Code    34040\n",
      "dtype: int64\n",
      "c3: Snapshot Date    28835\n",
      "Checkin Date     28835\n",
      "DayDiff          28835\n",
      "Hotel Name       28835\n",
      "WeekDay          28835\n",
      "Discount Code    28835\n",
      "dtype: int64\n",
      "c4: Snapshot Date    16525\n",
      "Checkin Date     16525\n",
      "DayDiff          16525\n",
      "Hotel Name       16525\n",
      "WeekDay          16525\n",
      "Discount Code    16525\n",
      "dtype: int64\n"
     ]
    }
   ],
   "source": [
    "C1=new_df[new_df['Discount Code']==1].count()\n",
    "C2=new_df[new_df['Discount Code']==2].count()\n",
    "C3=new_df[new_df['Discount Code']==3].count()\n",
    "C4=new_df[new_df['Discount Code']==4].count()\n",
    "print(\"c1:\",C1)\n",
    "print(\"c2:\",C2)\n",
    "print(\"c3:\",C3)\n",
    "print(\"c4:\",C4)"
   ]
  },
  {
   "cell_type": "code",
   "execution_count": 58,
   "metadata": {},
   "outputs": [],
   "source": [
    "# 16525 is the min number of rows in all the classes\n",
    "Class1=new_df[new_df['Discount Code']==1].head(16525)\n",
    "Class2=new_df[new_df['Discount Code']==2].head(16525)\n",
    "Class3=new_df[new_df['Discount Code']==3].head(16525)\n",
    "Class4=new_df[new_df['Discount Code']==4].head(16525)"
   ]
  },
  {
   "cell_type": "code",
   "execution_count": 32,
   "metadata": {},
   "outputs": [],
   "source": [
    "Class1=Class1.append(Class2)\n",
    "Class1=Class1.append(Class3)\n",
    "Class1=Class1.append(Class4)"
   ]
  },
  {
   "cell_type": "code",
   "execution_count": 33,
   "metadata": {},
   "outputs": [
    {
     "data": {
      "text/html": [
       "<div>\n",
       "<style scoped>\n",
       "    .dataframe tbody tr th:only-of-type {\n",
       "        vertical-align: middle;\n",
       "    }\n",
       "\n",
       "    .dataframe tbody tr th {\n",
       "        vertical-align: top;\n",
       "    }\n",
       "\n",
       "    .dataframe thead th {\n",
       "        text-align: right;\n",
       "    }\n",
       "</style>\n",
       "<table border=\"1\" class=\"dataframe\">\n",
       "  <thead>\n",
       "    <tr style=\"text-align: right;\">\n",
       "      <th></th>\n",
       "      <th>Snapshot Date</th>\n",
       "      <th>Checkin Date</th>\n",
       "      <th>DayDiff</th>\n",
       "      <th>Hotel Name</th>\n",
       "      <th>WeekDay</th>\n",
       "      <th>Discount Code</th>\n",
       "    </tr>\n",
       "  </thead>\n",
       "  <tbody>\n",
       "    <tr>\n",
       "      <th>187837</th>\n",
       "      <td>27</td>\n",
       "      <td>51</td>\n",
       "      <td>23</td>\n",
       "      <td>314</td>\n",
       "      <td>1</td>\n",
       "      <td>4</td>\n",
       "    </tr>\n",
       "    <tr>\n",
       "      <th>187841</th>\n",
       "      <td>27</td>\n",
       "      <td>40</td>\n",
       "      <td>12</td>\n",
       "      <td>47</td>\n",
       "      <td>4</td>\n",
       "      <td>4</td>\n",
       "    </tr>\n",
       "    <tr>\n",
       "      <th>187844</th>\n",
       "      <td>27</td>\n",
       "      <td>48</td>\n",
       "      <td>20</td>\n",
       "      <td>445</td>\n",
       "      <td>0</td>\n",
       "      <td>4</td>\n",
       "    </tr>\n",
       "    <tr>\n",
       "      <th>187845</th>\n",
       "      <td>27</td>\n",
       "      <td>33</td>\n",
       "      <td>5</td>\n",
       "      <td>273</td>\n",
       "      <td>4</td>\n",
       "      <td>4</td>\n",
       "    </tr>\n",
       "    <tr>\n",
       "      <th>187846</th>\n",
       "      <td>27</td>\n",
       "      <td>46</td>\n",
       "      <td>18</td>\n",
       "      <td>273</td>\n",
       "      <td>6</td>\n",
       "      <td>4</td>\n",
       "    </tr>\n",
       "  </tbody>\n",
       "</table>\n",
       "</div>"
      ],
      "text/plain": [
       "        Snapshot Date  Checkin Date  DayDiff  Hotel Name  WeekDay  \\\n",
       "187837             27            51       23         314        1   \n",
       "187841             27            40       12          47        4   \n",
       "187844             27            48       20         445        0   \n",
       "187845             27            33        5         273        4   \n",
       "187846             27            46       18         273        6   \n",
       "\n",
       "        Discount Code  \n",
       "187837              4  \n",
       "187841              4  \n",
       "187844              4  \n",
       "187845              4  \n",
       "187846              4  "
      ]
     },
     "execution_count": 33,
     "metadata": {},
     "output_type": "execute_result"
    }
   ],
   "source": [
    "Class1.tail()"
   ]
  },
  {
   "cell_type": "code",
   "execution_count": 34,
   "metadata": {},
   "outputs": [],
   "source": [
    "df_same=Class1.copy();"
   ]
  },
  {
   "cell_type": "code",
   "execution_count": 35,
   "metadata": {},
   "outputs": [],
   "source": [
    "df_same.drop(labels=[\"Discount Code\"],axis=1, inplace=True)"
   ]
  },
  {
   "cell_type": "code",
   "execution_count": 36,
   "metadata": {},
   "outputs": [
    {
     "data": {
      "text/html": [
       "<div>\n",
       "<style scoped>\n",
       "    .dataframe tbody tr th:only-of-type {\n",
       "        vertical-align: middle;\n",
       "    }\n",
       "\n",
       "    .dataframe tbody tr th {\n",
       "        vertical-align: top;\n",
       "    }\n",
       "\n",
       "    .dataframe thead th {\n",
       "        text-align: right;\n",
       "    }\n",
       "</style>\n",
       "<table border=\"1\" class=\"dataframe\">\n",
       "  <thead>\n",
       "    <tr style=\"text-align: right;\">\n",
       "      <th></th>\n",
       "      <th>Snapshot Date</th>\n",
       "      <th>Checkin Date</th>\n",
       "      <th>DayDiff</th>\n",
       "      <th>Hotel Name</th>\n",
       "      <th>WeekDay</th>\n",
       "    </tr>\n",
       "  </thead>\n",
       "  <tbody>\n",
       "    <tr>\n",
       "      <th>0</th>\n",
       "      <td>0</td>\n",
       "      <td>25</td>\n",
       "      <td>26</td>\n",
       "      <td>35</td>\n",
       "      <td>6</td>\n",
       "    </tr>\n",
       "    <tr>\n",
       "      <th>1</th>\n",
       "      <td>0</td>\n",
       "      <td>32</td>\n",
       "      <td>33</td>\n",
       "      <td>35</td>\n",
       "      <td>6</td>\n",
       "    </tr>\n",
       "    <tr>\n",
       "      <th>3</th>\n",
       "      <td>0</td>\n",
       "      <td>8</td>\n",
       "      <td>9</td>\n",
       "      <td>127</td>\n",
       "      <td>3</td>\n",
       "    </tr>\n",
       "    <tr>\n",
       "      <th>5</th>\n",
       "      <td>0</td>\n",
       "      <td>20</td>\n",
       "      <td>21</td>\n",
       "      <td>163</td>\n",
       "      <td>0</td>\n",
       "    </tr>\n",
       "    <tr>\n",
       "      <th>6</th>\n",
       "      <td>0</td>\n",
       "      <td>22</td>\n",
       "      <td>23</td>\n",
       "      <td>163</td>\n",
       "      <td>3</td>\n",
       "    </tr>\n",
       "  </tbody>\n",
       "</table>\n",
       "</div>"
      ],
      "text/plain": [
       "   Snapshot Date  Checkin Date  DayDiff  Hotel Name  WeekDay\n",
       "0              0            25       26          35        6\n",
       "1              0            32       33          35        6\n",
       "3              0             8        9         127        3\n",
       "5              0            20       21         163        0\n",
       "6              0            22       23         163        3"
      ]
     },
     "execution_count": 36,
     "metadata": {},
     "output_type": "execute_result"
    }
   ],
   "source": [
    "df_same.head()"
   ]
  },
  {
   "cell_type": "code",
   "execution_count": 37,
   "metadata": {},
   "outputs": [
    {
     "data": {
      "text/html": [
       "<div>\n",
       "<style scoped>\n",
       "    .dataframe tbody tr th:only-of-type {\n",
       "        vertical-align: middle;\n",
       "    }\n",
       "\n",
       "    .dataframe tbody tr th {\n",
       "        vertical-align: top;\n",
       "    }\n",
       "\n",
       "    .dataframe thead th {\n",
       "        text-align: right;\n",
       "    }\n",
       "</style>\n",
       "<table border=\"1\" class=\"dataframe\">\n",
       "  <thead>\n",
       "    <tr style=\"text-align: right;\">\n",
       "      <th></th>\n",
       "      <th>Snapshot Date</th>\n",
       "      <th>Checkin Date</th>\n",
       "      <th>DayDiff</th>\n",
       "      <th>Hotel Name</th>\n",
       "      <th>WeekDay</th>\n",
       "    </tr>\n",
       "  </thead>\n",
       "  <tbody>\n",
       "    <tr>\n",
       "      <th>count</th>\n",
       "      <td>66100.000000</td>\n",
       "      <td>66100.000000</td>\n",
       "      <td>66100.000000</td>\n",
       "      <td>66100.000000</td>\n",
       "      <td>66100.000000</td>\n",
       "    </tr>\n",
       "    <tr>\n",
       "      <th>mean</th>\n",
       "      <td>57.621180</td>\n",
       "      <td>77.987216</td>\n",
       "      <td>17.764539</td>\n",
       "      <td>279.912890</td>\n",
       "      <td>3.151740</td>\n",
       "    </tr>\n",
       "    <tr>\n",
       "      <th>std</th>\n",
       "      <td>32.115027</td>\n",
       "      <td>36.021168</td>\n",
       "      <td>9.921202</td>\n",
       "      <td>147.022605</td>\n",
       "      <td>2.078018</td>\n",
       "    </tr>\n",
       "    <tr>\n",
       "      <th>min</th>\n",
       "      <td>0.000000</td>\n",
       "      <td>0.000000</td>\n",
       "      <td>1.000000</td>\n",
       "      <td>0.000000</td>\n",
       "      <td>0.000000</td>\n",
       "    </tr>\n",
       "    <tr>\n",
       "      <th>25%</th>\n",
       "      <td>34.000000</td>\n",
       "      <td>51.000000</td>\n",
       "      <td>9.000000</td>\n",
       "      <td>173.000000</td>\n",
       "      <td>1.000000</td>\n",
       "    </tr>\n",
       "    <tr>\n",
       "      <th>50%</th>\n",
       "      <td>59.000000</td>\n",
       "      <td>79.000000</td>\n",
       "      <td>18.000000</td>\n",
       "      <td>272.000000</td>\n",
       "      <td>3.000000</td>\n",
       "    </tr>\n",
       "    <tr>\n",
       "      <th>75%</th>\n",
       "      <td>80.000000</td>\n",
       "      <td>103.000000</td>\n",
       "      <td>26.000000</td>\n",
       "      <td>387.000000</td>\n",
       "      <td>5.000000</td>\n",
       "    </tr>\n",
       "    <tr>\n",
       "      <th>max</th>\n",
       "      <td>150.000000</td>\n",
       "      <td>201.000000</td>\n",
       "      <td>34.000000</td>\n",
       "      <td>553.000000</td>\n",
       "      <td>6.000000</td>\n",
       "    </tr>\n",
       "  </tbody>\n",
       "</table>\n",
       "</div>"
      ],
      "text/plain": [
       "       Snapshot Date  Checkin Date       DayDiff    Hotel Name       WeekDay\n",
       "count   66100.000000  66100.000000  66100.000000  66100.000000  66100.000000\n",
       "mean       57.621180     77.987216     17.764539    279.912890      3.151740\n",
       "std        32.115027     36.021168      9.921202    147.022605      2.078018\n",
       "min         0.000000      0.000000      1.000000      0.000000      0.000000\n",
       "25%        34.000000     51.000000      9.000000    173.000000      1.000000\n",
       "50%        59.000000     79.000000     18.000000    272.000000      3.000000\n",
       "75%        80.000000    103.000000     26.000000    387.000000      5.000000\n",
       "max       150.000000    201.000000     34.000000    553.000000      6.000000"
      ]
     },
     "execution_count": 37,
     "metadata": {},
     "output_type": "execute_result"
    }
   ],
   "source": [
    "df_same.describe()"
   ]
  },
  {
   "cell_type": "markdown",
   "metadata": {},
   "source": [
    "#### we can see here that mean is approxmetly  as median (50%) so its probably noraml distribution"
   ]
  },
  {
   "cell_type": "code",
   "execution_count": 38,
   "metadata": {},
   "outputs": [],
   "source": [
    "X_train2, X_test2, y_train2, y_test2 = train_test_split(df_same, Class1['Discount Code'], test_size=0.3,random_state=0) "
   ]
  },
  {
   "cell_type": "code",
   "execution_count": 39,
   "metadata": {},
   "outputs": [
    {
     "data": {
      "text/plain": [
       "(        Snapshot Date  Checkin Date  DayDiff  Hotel Name  WeekDay\n",
       " 138069            117           155       33         113        3\n",
       " 49737              13            28       16         514        2\n",
       " 185607              4            30       27         408        1\n",
       " 54401              60            92       30         176        3\n",
       " 28511              46            71       23         111        3\n",
       " 86925              82            95        9         194        6\n",
       " 45173              11            44       34          86        1\n",
       " 103533             93           107       10         351        1\n",
       " 22595              42            53       10         188        6\n",
       " 106585             96           121       21         397        1\n",
       " 134465            114           134       15         191        3\n",
       " 20566              41            43        1         180        3\n",
       " 13480              36            66       29         420        5\n",
       " 90821              85           107       18         141        1\n",
       " 6321               31            36        4         496        3\n",
       " 73158              74            79        1          98        1\n",
       " 42271              10            11        2         155        6\n",
       " 57735              62            70        6         360        2\n",
       " 79552              77            87        6         397        5\n",
       " 86516              82            97       11         199        0\n",
       " 13416              36            49       12         321        2\n",
       " 55961              16            20        3         239        0\n",
       " 4625               30            33        2         387        4\n",
       " 101427             92           102        6         525        6\n",
       " 2778               29            43       13         444        3\n",
       " 87180              83           112       25         189        2\n",
       " 73832              74           101       23         107        5\n",
       " 59599              63            81       16          26        6\n",
       " 10576              34            48       13         199        0\n",
       " 15131               6            31       26         269        5\n",
       " ...               ...           ...      ...         ...      ...\n",
       " 92653              86           120       30         486        3\n",
       " 6033               31            34        2         506        0\n",
       " 70839              72            96       20         191        4\n",
       " 76844              76            92       12         200        3\n",
       " 3494               29            33        3         273        4\n",
       " 57019              61            89       26         485        4\n",
       " 34322               8            40       33          92        4\n",
       " 3377               29            48       18         194        0\n",
       " 4773               30            57       26         192        3\n",
       " 84869              81           105       20         326        2\n",
       " 45887              58            62        2         492        0\n",
       " 97872              89           110       17         529        4\n",
       " 16790              38            49       10         187        2\n",
       " 13111              36            40        3         163        4\n",
       " 51721              15            32       16         194        6\n",
       " 31865              49            66       15         286        5\n",
       " 38746              53            76       21         273        0\n",
       " 45612              58            78       18          79        3\n",
       " 13753              36            53       16         299        6\n",
       " 86342              82            93        7          24        1\n",
       " 2824               29            63       33         494        2\n",
       " 35416              51            86       33         154        1\n",
       " 43832              57            62        3         236        0\n",
       " 102207             92           113       17         351        3\n",
       " 59847              63            76       11         170        0\n",
       " 59627              63            72        7         166        1\n",
       " 26654              45            77       31         192        2\n",
       " 85035              81            90        5         163        0\n",
       " 63219              66            90       21         191        0\n",
       " 69134              71           100       25         323        1\n",
       " \n",
       " [46270 rows x 5 columns],\n",
       "         Snapshot Date  Checkin Date  DayDiff  Hotel Name  WeekDay\n",
       " 51392              14            34       19         273        0\n",
       " 165755            139           185       29         481        5\n",
       " 13123              36            48       11          16        0\n",
       " 110639             99           136       33         172        5\n",
       " 79593              77           104       23         492        0\n",
       " 99809              91            98        3          34        2\n",
       " 70620              72            86       10          79        1\n",
       " 79177              77            89        8         194        4\n",
       " 2497               29            64       34         292        3\n",
       " 1261               28            41       12         292        0\n",
       " 109311             98           106        4         552        3\n",
       " 86545              82           101       15         373        5\n",
       " 86374              82            98       12         472        2\n",
       " 28771              46            74       26         198        6\n",
       " 9649               34            68       33         334        4\n",
       " 66224              69            75        2         327        4\n",
       " 95313              87           103       12         191        4\n",
       " 58053              62            75       11         471        4\n",
       " 42846              10            20       11         334        0\n",
       " 47659               1             6        6         172        0\n",
       " 48894              12            25       14         171        6\n",
       " 69302              71            85       10         191        3\n",
       " 49309              13            43       31         301        3\n",
       " 137971            117           145       23         374        4\n",
       " 109364             98           109        7         408        6\n",
       " 46226              58            68        8          85        4\n",
       " 18330              39            65       25         196        1\n",
       " 24720              43            54       10         530        4\n",
       " 142943            121           142       16         408        1\n",
       " 102029             92           107       11         374        1\n",
       " ...               ...           ...      ...         ...      ...\n",
       " 183666             24            46       21         273        6\n",
       " 179822             21            31        9         199        5\n",
       " 43829              57            83       24         286        0\n",
       " 65034              68            72        1         220        1\n",
       " 8221               32            49       16         498        2\n",
       " 102631             93           120       23         111        3\n",
       " 58822              63            89       24         111        4\n",
       " 49151              13            40       28         154        4\n",
       " 14243              36            61       24         370        4\n",
       " 65560              68            94       23         141        5\n",
       " 96624              88           126       34         195        2\n",
       " 72041              73            87       10         173        5\n",
       " 48417              12            45       34         525        5\n",
       " 89444              84           117       29         351        4\n",
       " 57885              62            95       31         196        6\n",
       " 88805              84           115       27         374        5\n",
       " 20556              41            59       17         341        5\n",
       " 51888              15            46       30         498        6\n",
       " 106728             96           117       17         314        4\n",
       " 64691              68            78        7         163        3\n",
       " 16969              38            43        4         299        3\n",
       " 64218              67            87       17         111        5\n",
       " 47876              12            22       11         200        3\n",
       " 25840              44            59       14         200        5\n",
       " 30110              47            82       33         269        4\n",
       " 107860             97           112       11         485        2\n",
       " 144160            122           138       11         327        4\n",
       " 164566            138           176       21         327        3\n",
       " 13390              36            38        1         286        5\n",
       " 78523              76            81        1         190        6\n",
       " \n",
       " [19830 rows x 5 columns],\n",
       " 138069    4\n",
       " 49737     2\n",
       " 185607    4\n",
       " 54401     2\n",
       " 28511     1\n",
       " 86925     4\n",
       " 45173     3\n",
       " 103533    3\n",
       " 22595     3\n",
       " 106585    1\n",
       " 134465    4\n",
       " 20566     1\n",
       " 13480     2\n",
       " 90821     3\n",
       " 6321      2\n",
       " 73158     1\n",
       " 42271     1\n",
       " 57735     1\n",
       " 79552     3\n",
       " 86516     3\n",
       " 13416     2\n",
       " 55961     3\n",
       " 4625      1\n",
       " 101427    1\n",
       " 2778      2\n",
       " 87180     1\n",
       " 73832     2\n",
       " 59599     3\n",
       " 10576     4\n",
       " 15131     3\n",
       "          ..\n",
       " 92653     4\n",
       " 6033      2\n",
       " 70839     3\n",
       " 76844     1\n",
       " 3494      4\n",
       " 57019     3\n",
       " 34322     4\n",
       " 3377      4\n",
       " 4773      1\n",
       " 84869     2\n",
       " 45887     2\n",
       " 97872     3\n",
       " 16790     1\n",
       " 13111     1\n",
       " 51721     1\n",
       " 31865     3\n",
       " 38746     3\n",
       " 45612     1\n",
       " 13753     2\n",
       " 86342     2\n",
       " 2824      2\n",
       " 35416     4\n",
       " 43832     3\n",
       " 102207    3\n",
       " 59847     4\n",
       " 59627     3\n",
       " 26654     2\n",
       " 85035     3\n",
       " 63219     3\n",
       " 69134     3\n",
       " Name: Discount Code, Length: 46270, dtype: int64,\n",
       " 51392     3\n",
       " 165755    4\n",
       " 13123     1\n",
       " 110639    1\n",
       " 79593     3\n",
       " 99809     1\n",
       " 70620     3\n",
       " 79177     2\n",
       " 2497      1\n",
       " 1261      1\n",
       " 109311    1\n",
       " 86545     3\n",
       " 86374     2\n",
       " 28771     2\n",
       " 9649      1\n",
       " 66224     2\n",
       " 95313     4\n",
       " 58053     2\n",
       " 42846     3\n",
       " 47659     3\n",
       " 48894     4\n",
       " 69302     3\n",
       " 49309     1\n",
       " 137971    4\n",
       " 109364    1\n",
       " 46226     3\n",
       " 18330     2\n",
       " 24720     3\n",
       " 142943    4\n",
       " 102029    3\n",
       "          ..\n",
       " 183666    4\n",
       " 179822    4\n",
       " 43829     3\n",
       " 65034     2\n",
       " 8221      4\n",
       " 102631    1\n",
       " 58822     1\n",
       " 49151     1\n",
       " 14243     4\n",
       " 65560     3\n",
       " 96624     4\n",
       " 72041     2\n",
       " 48417     2\n",
       " 89444     3\n",
       " 57885     2\n",
       " 88805     2\n",
       " 20556     1\n",
       " 51888     1\n",
       " 106728    1\n",
       " 64691     1\n",
       " 16969     1\n",
       " 64218     3\n",
       " 47876     1\n",
       " 25840     3\n",
       " 30110     3\n",
       " 107860    1\n",
       " 144160    4\n",
       " 164566    4\n",
       " 13390     2\n",
       " 78523     4\n",
       " Name: Discount Code, Length: 19830, dtype: int64)"
      ]
     },
     "execution_count": 39,
     "metadata": {},
     "output_type": "execute_result"
    }
   ],
   "source": [
    "X_train2, X_test2, y_train2, y_test2"
   ]
  },
  {
   "cell_type": "code",
   "execution_count": 40,
   "metadata": {},
   "outputs": [],
   "source": [
    "from sklearn.naive_bayes import GaussianNB\n",
    "gnb = GaussianNB()\n",
    "gnb.fit(X_train2, y_train2)\n",
    "pred = gnb.predict(X_test2)"
   ]
  },
  {
   "cell_type": "code",
   "execution_count": 41,
   "metadata": {},
   "outputs": [
    {
     "data": {
      "text/plain": [
       "0.33530005042864347"
      ]
     },
     "execution_count": 41,
     "metadata": {},
     "output_type": "execute_result"
    }
   ],
   "source": [
    "accuracy_score(y_test2,pred)"
   ]
  },
  {
   "cell_type": "code",
   "execution_count": 42,
   "metadata": {},
   "outputs": [
    {
     "name": "stdout",
     "output_type": "stream",
     "text": [
      "              precision    recall  f1-score   support\n",
      "\n",
      "           1       0.27      0.14      0.18      4925\n",
      "           2       0.29      0.56      0.38      4917\n",
      "           3       0.31      0.21      0.25      4938\n",
      "           4       0.48      0.43      0.45      5050\n",
      "\n",
      "   micro avg       0.34      0.34      0.34     19830\n",
      "   macro avg       0.34      0.33      0.32     19830\n",
      "weighted avg       0.34      0.34      0.32     19830\n",
      "\n",
      "[[ 680 2449  741 1055]\n",
      " [ 745 2757 1053  362]\n",
      " [ 613 2367 1044  914]\n",
      " [ 466 1888  528 2168]]\n"
     ]
    }
   ],
   "source": [
    "from sklearn import metrics\n",
    "print(metrics.classification_report(y_test2,pred))\n",
    "print(metrics.confusion_matrix(y_test2,pred))"
   ]
  },
  {
   "cell_type": "code",
   "execution_count": 43,
   "metadata": {},
   "outputs": [
    {
     "data": {
      "image/png": "[encoded data removed]",
      "text/plain": [
       "<Figure size 432x288 with 2 Axes>"
      ]
     },
     "metadata": {
      "needs_background": "light"
     },
     "output_type": "display_data"
    }
   ],
   "source": [
    "plt.figure()\n",
    "plot_confusion_matrix(metrics.confusion_matrix(y_test2,pred), y_test2.unique(),\n",
    "                       title='Confusion matrix')"
   ]
  },
  {
   "cell_type": "code",
   "execution_count": 44,
   "metadata": {},
   "outputs": [
    {
     "data": {
      "text/plain": [
       "2"
      ]
     },
     "execution_count": 44,
     "metadata": {},
     "output_type": "execute_result"
    }
   ],
   "source": [
    "gnb.predict([[0,25,26,35,6]])[0]"
   ]
  },
  {
   "cell_type": "code",
   "execution_count": 55,
   "metadata": {},
   "outputs": [
    {
     "name": "stdout",
     "output_type": "stream",
     "text": [
      "FP for classes:\n",
      "\tclass 1 = 1824.000000\n",
      "\tclass 2 = 6704.000000\n",
      "\tclass 3 = 2322.000000\n",
      "\tclass 4 = 2331.000000\n",
      "\n",
      "FN for classes:\n",
      "\tclass 1 = 4245.000000\n",
      "\tclass 2 = 2160.000000\n",
      "\tclass 3 = 3894.000000\n",
      "\tclass 4 = 2882.000000\n",
      "\n",
      "TP for classes:\n",
      "\tclass 1 = 680.000000\n",
      "\tclass 2 = 2757.000000\n",
      "\tclass 3 = 1044.000000\n",
      "\tclass 4 = 2168.000000\n",
      "\n",
      "TN for classes:\n",
      "\tclass 1 = 13081.000000\n",
      "\tclass 2 = 8209.000000\n",
      "\tclass 3 = 12570.000000\n",
      "\tclass 4 = 12449.000000\n",
      "\n",
      "TPR for classes:\n",
      "\tclass 1 = 0.138071\n",
      "\tclass 2 = 0.560708\n",
      "\tclass 3 = 0.211422\n",
      "\tclass 4 = 0.429307\n",
      "\n",
      "FPR for classes:\n",
      "\tclass 1 = 0.122375\n",
      "\tclass 2 = 0.449541\n",
      "\tclass 3 = 0.155923\n",
      "\tclass 4 = 0.157713\n",
      "\n",
      "ACC for classes:\n",
      "\tclass 1 = 0.693949\n",
      "\tclass 2 = 0.553001\n",
      "\tclass 3 = 0.686536\n",
      "\tclass 4 = 0.737115\n",
      "\n"
     ]
    }
   ],
   "source": [
    "cm=metrics.confusion_matrix(y_test2,pred)\n",
    "\n",
    "FP = cm.sum(axis=0) - np.diag(cm)  # foreach class: sum prediction - TP\n",
    "FN = cm.sum(axis=1) - np.diag(cm)  # foreach class: sum actuals - TP\n",
    "TP = np.diag(cm)\n",
    "TN = cm.sum() - (FP + FN + TP)\n",
    "\n",
    "FP = FP.astype(float)\n",
    "FN = FN.astype(float)\n",
    "TP = TP.astype(float)\n",
    "TN = TN.astype(float)\n",
    "\n",
    "def printRates(array, stat):\n",
    "    print(\"%s for classes:\" %stat)\n",
    "    for i in range(len(array)):\n",
    "        print(\"\\tclass %d = %f\" %(i+1, array[i]))\n",
    "    print(\"\")\n",
    "    \n",
    "printRates(FP, \"FP\")\n",
    "printRates(FN, \"FN\")\n",
    "printRates(TP, \"TP\")\n",
    "printRates(TN, \"TN\")\n",
    "\n",
    "# Sensitivity, hit rate, recall, or true positive rate\n",
    "TPR = TP/(TP+FN)\n",
    "printRates(TPR, \"TPR\")\n",
    "\n",
    "# Fall out or false positive rate\n",
    "FPR = FP/(FP+TN)\n",
    "printRates(FPR, \"FPR\")\n",
    "\n",
    "# Overall accuracy\n",
    "ACC = (TP+TN)/(TP+FP+FN+TN)\n",
    "printRates(ACC, \"ACC\")"
   ]
  },
  {
   "cell_type": "markdown",
   "metadata": {},
   "source": [
    "## Decision tree"
   ]
  },
  {
   "cell_type": "code",
   "execution_count": 46,
   "metadata": {},
   "outputs": [],
   "source": [
    "from sklearn import tree"
   ]
  },
  {
   "cell_type": "code",
   "execution_count": 47,
   "metadata": {},
   "outputs": [],
   "source": [
    "dt_classifier = tree.DecisionTreeClassifier()\n",
    "dt_classifier = dt_classifier.fit(X_train2, y_train2)"
   ]
  },
  {
   "cell_type": "code",
   "execution_count": 48,
   "metadata": {},
   "outputs": [],
   "source": [
    "expected = y_test2\n",
    "predicted = dt_classifier.predict(X_test2)"
   ]
  },
  {
   "cell_type": "code",
   "execution_count": 49,
   "metadata": {},
   "outputs": [
    {
     "name": "stdout",
     "output_type": "stream",
     "text": [
      "              precision    recall  f1-score   support\n",
      "\n",
      "           1       0.78      0.77      0.78      4925\n",
      "           2       0.77      0.78      0.77      4917\n",
      "           3       0.77      0.77      0.77      4938\n",
      "           4       0.83      0.83      0.83      5050\n",
      "\n",
      "   micro avg       0.79      0.79      0.79     19830\n",
      "   macro avg       0.79      0.79      0.79     19830\n",
      "weighted avg       0.79      0.79      0.79     19830\n",
      "\n",
      "[[3806  453  358  308]\n",
      " [ 416 3842  427  232]\n",
      " [ 384  451 3779  324]\n",
      " [ 255  256  338 4201]]\n"
     ]
    }
   ],
   "source": [
    "print(metrics.classification_report(expected, predicted))\n",
    "print(metrics.confusion_matrix(expected, predicted))"
   ]
  },
  {
   "cell_type": "code",
   "execution_count": 50,
   "metadata": {},
   "outputs": [
    {
     "data": {
      "image/png": "[encoded data removed]",
      "text/plain": [
       "<Figure size 432x288 with 2 Axes>"
      ]
     },
     "metadata": {
      "needs_background": "light"
     },
     "output_type": "display_data"
    }
   ],
   "source": [
    "plt.figure()\n",
    "plot_confusion_matrix(metrics.confusion_matrix(expected,predicted), expected.unique(),\n",
    "                       title='Confusion matrix')"
   ]
  },
  {
   "cell_type": "code",
   "execution_count": 51,
   "metadata": {
    "scrolled": true
   },
   "outputs": [
    {
     "data": {
      "text/plain": [
       "0.7880988401412002"
      ]
     },
     "execution_count": 51,
     "metadata": {},
     "output_type": "execute_result"
    }
   ],
   "source": [
    "accuracy_score(expected,predicted)"
   ]
  },
  {
   "cell_type": "code",
   "execution_count": 52,
   "metadata": {},
   "outputs": [
    {
     "data": {
      "text/plain": [
       "1"
      ]
     },
     "execution_count": 52,
     "metadata": {},
     "output_type": "execute_result"
    }
   ],
   "source": [
    "dt_classifier.predict([[0,25,26,35,6]])[0]"
   ]
  },
  {
   "cell_type": "code",
   "execution_count": 56,
   "metadata": {},
   "outputs": [
    {
     "name": "stdout",
     "output_type": "stream",
     "text": [
      "FP for classes:\n",
      "\tclass 1 = 1055.000000\n",
      "\tclass 2 = 1160.000000\n",
      "\tclass 3 = 1123.000000\n",
      "\tclass 4 = 864.000000\n",
      "\n",
      "FN for classes:\n",
      "\tclass 1 = 1119.000000\n",
      "\tclass 2 = 1075.000000\n",
      "\tclass 3 = 1159.000000\n",
      "\tclass 4 = 849.000000\n",
      "\n",
      "TP for classes:\n",
      "\tclass 1 = 3806.000000\n",
      "\tclass 2 = 3842.000000\n",
      "\tclass 3 = 3779.000000\n",
      "\tclass 4 = 4201.000000\n",
      "\n",
      "TN for classes:\n",
      "\tclass 1 = 13850.000000\n",
      "\tclass 2 = 13753.000000\n",
      "\tclass 3 = 13769.000000\n",
      "\tclass 4 = 13916.000000\n",
      "\n",
      "TPR for classes:\n",
      "\tclass 1 = 0.772792\n",
      "\tclass 2 = 0.781371\n",
      "\tclass 3 = 0.765290\n",
      "\tclass 4 = 0.831881\n",
      "\n",
      "FPR for classes:\n",
      "\tclass 1 = 0.070782\n",
      "\tclass 2 = 0.077784\n",
      "\tclass 3 = 0.075410\n",
      "\tclass 4 = 0.058457\n",
      "\n",
      "ACC for classes:\n",
      "\tclass 1 = 0.890368\n",
      "\tclass 2 = 0.887292\n",
      "\tclass 3 = 0.884922\n",
      "\tclass 4 = 0.913616\n",
      "\n"
     ]
    }
   ],
   "source": [
    "cm = confusion_matrix(expected,predicted)\n",
    "\n",
    "\n",
    "FP = cm.sum(axis=0) - np.diag(cm) \n",
    "FN = cm.sum(axis=1) - np.diag(cm)  \n",
    "TP = np.diag(cm)\n",
    "TN = cm.sum() - (FP + FN + TP)\n",
    "\n",
    "FP = FP.astype(float)\n",
    "FN = FN.astype(float)\n",
    "TP = TP.astype(float)\n",
    "TN = TN.astype(float)\n",
    "\n",
    "printRates(FP, \"FP\")\n",
    "printRates(FN, \"FN\")\n",
    "printRates(TP, \"TP\")\n",
    "printRates(TN, \"TN\")\n",
    "\n",
    "# Sensitivity, hit rate, recall, or true positive rate\n",
    "TPR = TP/(TP+FN)\n",
    "printRates(TPR, \"TPR\")\n",
    "\n",
    "# Fall out or false positive rate\n",
    "FPR = FP/(FP+TN)\n",
    "printRates(FPR, \"FPR\")\n",
    "\n",
    "# Overall accuracy\n",
    "ACC = (TP+TN)/(TP+FP+FN+TN)\n",
    "printRates(ACC, \"ACC\")"
   ]
  },
  {
   "cell_type": "markdown",
   "metadata": {},
   "source": [
    "## ROC"
   ]
  },
  {
   "cell_type": "code",
   "execution_count": 54,
   "metadata": {},
   "outputs": [
    {
     "name": "stdout",
     "output_type": "stream",
     "text": [
      "Naive Bayes\n"
     ]
    },
    {
     "data": {
      "image/png": "[encoded data removed]",
      "text/plain": [
       "<Figure size 576x360 with 1 Axes>"
      ]
     },
     "metadata": {
      "needs_background": "light"
     },
     "output_type": "display_data"
    },
    {
     "name": "stdout",
     "output_type": "stream",
     "text": [
      "Decision Tree\n"
     ]
    },
    {
     "data": {
      "image/png": "[encoded data removed]",
      "text/plain": [
       "<Figure size 576x360 with 1 Axes>"
      ]
     },
     "metadata": {
      "needs_background": "light"
     },
     "output_type": "display_data"
    }
   ],
   "source": [
    "import matplotlib.pyplot as plt\n",
    "from sklearn.metrics import roc_curve,auc\n",
    "from scipy import interp\n",
    "%matplotlib inline\n",
    "\n",
    "def PlotRoc(classifier_type, pred,n_classes):\n",
    "    fpr = dict()\n",
    "    tpr = dict()\n",
    "    roc_auc = dict()\n",
    "    \n",
    "    for i in range(n_classes):\n",
    "        fpr[i], tpr[i], _ = roc_curve(np.array(pd.get_dummies(y_test2))[:, i], np.array(pd.get_dummies(pred))[:, i])\n",
    "        roc_auc[i] = auc(fpr[i], tpr[i])\n",
    "\n",
    "\n",
    "    all_fpr = np.unique(np.concatenate([fpr[i] for i in range(n_classes)]))\n",
    "\n",
    "    mean_tpr = np.zeros_like(all_fpr)\n",
    "    for i in range(n_classes):\n",
    "        mean_tpr += interp(all_fpr, fpr[i], tpr[i])\n",
    "\n",
    "    mean_tpr /= n_classes\n",
    "\n",
    "    fpr[\"macro\"] = all_fpr\n",
    "    tpr[\"macro\"] = mean_tpr\n",
    "    roc_auc[\"macro\"] = auc(fpr[\"macro\"], tpr[\"macro\"])\n",
    "\n",
    "    lw=2\n",
    "    plt.figure(figsize=(8,5))\n",
    "    plt.plot(fpr[\"macro\"], tpr[\"macro\"],\n",
    "             label='macro-average ROC curve (area = {0:0.2f})'\n",
    "                   ''.format(roc_auc[\"macro\"]),\n",
    "             color='green', linestyle=':', linewidth=4)\n",
    "\n",
    "    colors = ['aqua', 'darkorange', 'cornflowerblue', 'yellow']\n",
    "    for i, color in zip(range(n_classes), colors):\n",
    "        plt.plot(fpr[i], tpr[i], color=color, lw=lw,\n",
    "                 label='ROC curve of class {0} (area = {1:0.2f})'\n",
    "                 ''.format(i, roc_auc[i]))\n",
    "\n",
    "    plt.plot([0, 1], [0, 1], 'k--',color='red', lw=lw)\n",
    "    plt.xlim([0.0, 1.0])\n",
    "    plt.ylim([0.0, 1.05])\n",
    "    plt.annotate('Random Guess',(.5,.48),color='red')\n",
    "    plt.xlabel('False Positive Rate')\n",
    "    plt.ylabel('True Positive Rate')\n",
    "    plt.title('ROC')\n",
    "    plt.legend(loc=\"lower right\")\n",
    "    plt.show()\n",
    "    \n",
    "\n",
    "print(\"Naive Bayes\")\n",
    "PlotRoc(\"Naive Bayes\", pred,4)\n",
    "print(\"Decision Tree\")\n",
    "PlotRoc(\"Decision Tree\", predicted,4)"
   ]
  },
  {
   "cell_type": "markdown",
   "metadata": {},
   "source": [
    "## The differences between the 2 Algorithems\n",
    " As the results show, we see that the decision tree Algorithem is highly superior than the Naive Bayes Algorithm in this case.\n",
    "\n",
    " The Naive Bayes Algorithem is based on the Bayes law in statistics. The Algorithm is considered to be much easier to implement than the decision tree, and generic for many different cases. It does however strongly relies on the fact the the different parameters are independent from each other - as in there is no correlation between them. In this case, there are a few parameters that have a strong binding between them (WeekDay and Checkin Date for example), and that is probably the reason why the decision algorithem gave us much better results.\n",
    "\n",
    "The main disadvantege of the decision tree algorithem, is that it tends to overfit that data - as in the classifier has such a strong structure from the test data, that a new piece of information unknown to it might cause it to give incorrect results. this can be handled by pruning."
   ]
  },
  {
   "cell_type": "code",
   "execution_count": null,
   "metadata": {},
   "outputs": [],
   "source": []
  },
  {
   "cell_type": "code",
   "execution_count": null,
   "metadata": {},
   "outputs": [],
   "source": []
  }
 ],
 "metadata": {
  "celltoolbar": "Raw Cell Format",
  "kernelspec": {
   "display_name": "Python 3",
   "language": "python",
   "name": "python3"
  },
  "language_info": {
   "codemirror_mode": {
    "name": "ipython",
    "version": 3
   },
   "file_extension": ".py",
   "mimetype": "text/x-python",
   "name": "python",
   "nbconvert_exporter": "python",
   "pygments_lexer": "ipython3",
   "version": "3.7.1"
  }
 },
 "nbformat": 4,
 "nbformat_minor": 2
}
